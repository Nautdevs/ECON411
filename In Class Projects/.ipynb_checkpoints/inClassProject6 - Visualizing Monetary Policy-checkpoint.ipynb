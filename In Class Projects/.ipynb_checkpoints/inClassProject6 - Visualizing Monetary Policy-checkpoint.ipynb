{
 "cells": [
  {
   "cell_type": "markdown",
   "metadata": {},
   "source": [
    "# Imports"
   ]
  },
  {
   "cell_type": "code",
   "execution_count": 12,
   "metadata": {},
   "outputs": [],
   "source": [
    "import os, pandas as pd, matplotlib.pyplot as plt, pandas_datareader.data as web, datetime\n",
    "from datlib.plots import * \n",
    "from datlib.FRED import *"
   ]
  },
  {
   "cell_type": "code",
   "execution_count": 17,
   "metadata": {},
   "outputs": [],
   "source": [
    "# gather data from FRED\n",
    "\n",
    "def gather_data(data_codes, \n",
    "                start, \n",
    "                end = datetime.datetime.today(), \n",
    "                freq = \"M\"):\n",
    "    i = 0\n",
    "    # dct.items() calls key and value that key points to\n",
    "    for key, val in data_codes.items():\n",
    "        if i == 0:\n",
    "            # Create dataframe for first variable, then rename column\n",
    "            df = web.DataReader(\n",
    "                val, \"fred\", start, end).resample(freq).mean()\n",
    "            df.rename(columns = {val:key}, inplace = True) \n",
    "            # setting i to None will cause the next block of code to execute,\n",
    "            # placing data within df instead of creating a new dataframe for\n",
    "            # each variable\n",
    "            i = None\n",
    "        else:\n",
    "            # If dataframe already exists, add new column\n",
    "            df[key] = web.DataReader(val, \"fred\", start, end).resample(freq).mean()\n",
    "\n",
    "    return df"
   ]
  }
 ],
 "metadata": {
  "kernelspec": {
   "display_name": "Python 3",
   "language": "python",
   "name": "python3"
  },
  "language_info": {
   "codemirror_mode": {
    "name": "ipython",
    "version": 3
   },
   "file_extension": ".py",
   "mimetype": "text/x-python",
   "name": "python",
   "nbconvert_exporter": "python",
   "pygments_lexer": "ipython3",
   "version": "3.8.5"
  }
 },
 "nbformat": 4,
 "nbformat_minor": 4
}
