{
 "cells": [
  {
   "cell_type": "code",
   "execution_count": 1,
   "metadata": {},
   "outputs": [
    {
     "data": {
      "text/plain": [
       "'\\nCreate a list of numbers 100 elements in length that counts by 3s - i.e., [3,6,9,12,...]\\n\\nUsing the list from question 1, create a second list whose elements are the same values converted to strings. hint: use a for loop and the function str().\\n\\nUsing the list from question 2, create a variable that concatenates each of the elements in order of index (Hint: result should be like \"36912...\").\\n\\nUsing .pop() and .append(), create a list whose values are the same as the list from question 1 but in reverse order. (Hint: .pop() removes the last element from a list. The value can be save, i.e., x = lst.pop().)\\n\\nUsing len(), calculate the midpoint of the list from question 1. Pass this midpoint to slice the list so that the resultant copy includes only the second half of the list from question 1.\\n\\nCreate a string that includes only every other element, starting from the 0th element, from the string in question 3 while maintaining the order of these elements (Hint: this can be done be using a for loop whose values are descending).\\n\\nExplain the difference between a dynamic list in Python (usually referred to as a list) and a tuple.\\n'"
      ]
     },
     "execution_count": 1,
     "metadata": {},
     "output_type": "execute_result"
    }
   ],
   "source": [
    "# Calvin Anderson, Spring 2023 Homework 2\n",
    "# 01-19-2023\n",
    "\n",
    "# range(j, k , l)\tIdentifies a range of integers from j  to k–1 separated by some interval l.\n",
    "# 1.\n",
    "# list = []\n",
    "# i = len(list)\n",
    "# for i in range(i, 100, 3):\n",
    "\n",
    "\n",
    "\n",
    "    \n",
    "\n",
    "\"\"\"\n",
    "Create a list of numbers 100 elements in length that counts by 3s - i.e., [3,6,9,12,...]\n",
    "\n",
    "Using the list from question 1, create a second list whose elements are the same values converted to strings. hint: use a for loop and the function str().\n",
    "\n",
    "Using the list from question 2, create a variable that concatenates each of the elements in order of index (Hint: result should be like \"36912...\").\n",
    "\n",
    "Using .pop() and .append(), create a list whose values are the same as the list from question 1 but in reverse order. (Hint: .pop() removes the last element from a list. The value can be save, i.e., x = lst.pop().)\n",
    "\n",
    "Using len(), calculate the midpoint of the list from question 1. Pass this midpoint to slice the list so that the resultant copy includes only the second half of the list from question 1.\n",
    "\n",
    "Create a string that includes only every other element, starting from the 0th element, from the string in question 3 while maintaining the order of these elements (Hint: this can be done be using a for loop whose values are descending).\n",
    "\n",
    "Explain the difference between a dynamic list in Python (usually referred to as a list) and a tuple.\n",
    "\"\"\""
   ]
  },
  {
   "cell_type": "markdown",
   "metadata": {},
   "source": [
    "# One"
   ]
  },
  {
   "cell_type": "code",
   "execution_count": 2,
   "metadata": {},
   "outputs": [
    {
     "name": "stdout",
     "output_type": "stream",
     "text": [
      "[3, 6, 9, 12, 15, 18, 21, 24, 27, 30, 33, 36, 39, 42, 45, 48, 51, 54, 57, 60, 63, 66, 69, 72, 75, 78, 81, 84, 87, 90, 93, 96, 99, 102, 105, 108, 111, 114, 117, 120, 123, 126, 129, 132, 135, 138, 141, 144, 147, 150, 153, 156, 159, 162, 165, 168, 171, 174, 177, 180, 183, 186, 189, 192, 195, 198, 201, 204, 207, 210, 213, 216, 219, 222, 225, 228, 231, 234, 237, 240, 243, 246, 249, 252, 255, 258, 261, 264, 267, 270, 273, 276, 279, 282, 285, 288, 291, 294, 297, 300] length: 100\n"
     ]
    }
   ],
   "source": [
    "myList = list(range(3,303,3))\n",
    "print(myList, \"length:\", len(myList))"
   ]
  },
  {
   "cell_type": "markdown",
   "metadata": {},
   "source": [
    "# Two"
   ]
  },
  {
   "cell_type": "code",
   "execution_count": 3,
   "metadata": {},
   "outputs": [
    {
     "name": "stdout",
     "output_type": "stream",
     "text": [
      "['3', '6', '9', '12', '15', '18', '21', '24', '27', '30', '33', '36', '39', '42', '45', '48', '51', '54', '57', '60', '63', '66', '69', '72', '75', '78', '81', '84', '87', '90', '93', '96', '99', '102', '105', '108', '111', '114', '117', '120', '123', '126', '129', '132', '135', '138', '141', '144', '147', '150', '153', '156', '159', '162', '165', '168', '171', '174', '177', '180', '183', '186', '189', '192', '195', '198', '201', '204', '207', '210', '213', '216', '219', '222', '225', '228', '231', '234', '237', '240', '243', '246', '249', '252', '255', '258', '261', '264', '267', '270', '273', '276', '279', '282', '285', '288', '291', '294', '297', '300'] type: <class 'str'>\n"
     ]
    }
   ],
   "source": [
    "myStrList = []\n",
    "for i in range(len(myList)):\n",
    "    myStrList.append(str(myList[i]))\n",
    "print(myStrList, \"type:\", type(myStrList[1]))"
   ]
  },
  {
   "cell_type": "markdown",
   "metadata": {},
   "source": [
    "# Three"
   ]
  },
  {
   "cell_type": "code",
   "execution_count": 4,
   "metadata": {},
   "outputs": [
    {
     "name": "stdout",
     "output_type": "stream",
     "text": [
      "369121518212427303336394245485154576063666972757881848790939699102105108111114117120123126129132135138141144147150153156159162165168171174177180183186189192195198201204207210213216219222225228231234237240243246249252255258261264267270273276279282285288291294297300\n"
     ]
    }
   ],
   "source": [
    "myConcList=\"\".join(myStrList)\n",
    "print(myConcList)"
   ]
  },
  {
   "cell_type": "markdown",
   "metadata": {},
   "source": [
    "# Four"
   ]
  },
  {
   "cell_type": "code",
   "execution_count": 5,
   "metadata": {},
   "outputs": [
    {
     "name": "stdout",
     "output_type": "stream",
     "text": [
      "[300, 297, 294, 291, 288, 285, 282, 279, 276, 273, 270, 267, 264, 261, 258, 255, 252, 249, 246, 243, 240, 237, 234, 231, 228, 225, 222, 219, 216, 213, 210, 207, 204, 201, 198, 195, 192, 189, 186, 183, 180, 177, 174, 171, 168, 165, 162, 159, 156, 153, 150, 147, 144, 141, 138, 135, 132, 129, 126, 123, 120, 117, 114, 111, 108, 105, 102, 99, 96, 93, 90, 87, 84, 81, 78, 75, 72, 69, 66, 63, 60, 57, 54, 51, 48, 45, 42, 39, 36, 33, 30, 27, 24, 21, 18, 15, 12, 9, 6, 3] Length: 100\n",
      "[300, 297, 294, 291, 288, 285, 282, 279, 276, 273, 270, 267, 264, 261, 258, 255, 252, 249, 246, 243, 240, 237, 234, 231, 228, 225, 222, 219, 216, 213, 210, 207, 204, 201, 198, 195, 192, 189, 186, 183, 180, 177, 174, 171, 168, 165, 162, 159, 156, 153, 150, 147, 144, 141, 138, 135, 132, 129, 126, 123, 120, 117, 114, 111, 108, 105, 102, 99, 96, 93, 90, 87, 84, 81, 78, 75, 72, 69, 66, 63, 60, 57, 54, 51, 48, 45, 42, 39, 36, 33, 30, 27, 24, 21, 18, 15, 12, 9, 6, 3] Length: 100\n"
     ]
    }
   ],
   "source": [
    "myCopyList = myList\n",
    "myAlternativeReverseList = sorted(myList, reverse=True)\n",
    "myReverseList = []\n",
    "for i in range(len(myCopyList)):\n",
    "    last_val = myCopyList.pop()\n",
    "    myReverseList.append(last_val)\n",
    "print(myReverseList, \"Length:\", len(myReverseList))\n",
    "\n",
    "print(myAlternativeReverseList, \"Length:\", len(myAlternativeReverseList))"
   ]
  },
  {
   "cell_type": "markdown",
   "metadata": {},
   "source": [
    "# Five"
   ]
  },
  {
   "cell_type": "code",
   "execution_count": 6,
   "metadata": {},
   "outputs": [
    {
     "name": "stdout",
     "output_type": "stream",
     "text": [
      "[] Length: 0\n"
     ]
    }
   ],
   "source": [
    "myListMidPoint = int(len(myList)/2)\n",
    "print(myList[myListMidPoint:], \"Length:\", len(myList[myListMidPoint:]))"
   ]
  },
  {
   "cell_type": "markdown",
   "metadata": {},
   "source": [
    "# Six"
   ]
  },
  {
   "cell_type": "code",
   "execution_count": 7,
   "metadata": {},
   "outputs": [
    {
     "name": "stdout",
     "output_type": "stream",
     "text": [
      "264\n",
      "Index 1 was not included\n",
      "It has the value: 6\n",
      "Index 3 was not included\n",
      "It has the value: 1\n",
      "Index 5 was not included\n",
      "It has the value: 1\n",
      "Index 7 was not included\n",
      "It has the value: 1\n",
      "Index 9 was not included\n",
      "It has the value: 2\n",
      "Index 11 was not included\n",
      "It has the value: 2\n",
      "Index 13 was not included\n",
      "It has the value: 2\n",
      "Index 15 was not included\n",
      "It has the value: 3\n",
      "Index 17 was not included\n",
      "It has the value: 3\n",
      "Index 19 was not included\n",
      "It has the value: 3\n",
      "Index 21 was not included\n",
      "It has the value: 3\n",
      "Index 23 was not included\n",
      "It has the value: 4\n",
      "Index 25 was not included\n",
      "It has the value: 4\n",
      "Index 27 was not included\n",
      "It has the value: 4\n",
      "Index 29 was not included\n",
      "It has the value: 5\n",
      "Index 31 was not included\n",
      "It has the value: 5\n",
      "Index 33 was not included\n",
      "It has the value: 5\n",
      "Index 35 was not included\n",
      "It has the value: 6\n",
      "Index 37 was not included\n",
      "It has the value: 6\n",
      "Index 39 was not included\n",
      "It has the value: 6\n",
      "Index 41 was not included\n",
      "It has the value: 6\n",
      "Index 43 was not included\n",
      "It has the value: 7\n",
      "Index 45 was not included\n",
      "It has the value: 7\n",
      "Index 47 was not included\n",
      "It has the value: 7\n",
      "Index 49 was not included\n",
      "It has the value: 8\n",
      "Index 51 was not included\n",
      "It has the value: 8\n",
      "Index 53 was not included\n",
      "It has the value: 8\n",
      "Index 55 was not included\n",
      "It has the value: 9\n",
      "Index 57 was not included\n",
      "It has the value: 9\n",
      "Index 59 was not included\n",
      "It has the value: 9\n",
      "Index 61 was not included\n",
      "It has the value: 9\n",
      "Index 63 was not included\n",
      "It has the value: 1\n",
      "Index 65 was not included\n",
      "It has the value: 2\n",
      "Index 67 was not included\n",
      "It has the value: 0\n",
      "Index 69 was not included\n",
      "It has the value: 1\n",
      "Index 71 was not included\n",
      "It has the value: 8\n",
      "Index 73 was not included\n",
      "It has the value: 1\n",
      "Index 75 was not included\n",
      "It has the value: 1\n",
      "Index 77 was not included\n",
      "It has the value: 4\n",
      "Index 79 was not included\n",
      "It has the value: 1\n",
      "Index 81 was not included\n",
      "It has the value: 1\n",
      "Index 83 was not included\n",
      "It has the value: 0\n",
      "Index 85 was not included\n",
      "It has the value: 2\n",
      "Index 87 was not included\n",
      "It has the value: 1\n",
      "Index 89 was not included\n",
      "It has the value: 6\n",
      "Index 91 was not included\n",
      "It has the value: 2\n",
      "Index 93 was not included\n",
      "It has the value: 1\n",
      "Index 95 was not included\n",
      "It has the value: 2\n",
      "Index 97 was not included\n",
      "It has the value: 3\n",
      "Index 99 was not included\n",
      "It has the value: 1\n",
      "Index 101 was not included\n",
      "It has the value: 8\n",
      "Index 103 was not included\n",
      "It has the value: 4\n",
      "Index 105 was not included\n",
      "It has the value: 1\n",
      "Index 107 was not included\n",
      "It has the value: 4\n",
      "Index 109 was not included\n",
      "It has the value: 4\n",
      "Index 111 was not included\n",
      "It has the value: 1\n",
      "Index 113 was not included\n",
      "It has the value: 0\n",
      "Index 115 was not included\n",
      "It has the value: 5\n",
      "Index 117 was not included\n",
      "It has the value: 1\n",
      "Index 119 was not included\n",
      "It has the value: 6\n",
      "Index 121 was not included\n",
      "It has the value: 5\n",
      "Index 123 was not included\n",
      "It has the value: 1\n",
      "Index 125 was not included\n",
      "It has the value: 2\n",
      "Index 127 was not included\n",
      "It has the value: 6\n",
      "Index 129 was not included\n",
      "It has the value: 1\n",
      "Index 131 was not included\n",
      "It has the value: 8\n",
      "Index 133 was not included\n",
      "It has the value: 7\n",
      "Index 135 was not included\n",
      "It has the value: 1\n",
      "Index 137 was not included\n",
      "It has the value: 4\n",
      "Index 139 was not included\n",
      "It has the value: 7\n",
      "Index 141 was not included\n",
      "It has the value: 1\n",
      "Index 143 was not included\n",
      "It has the value: 0\n",
      "Index 145 was not included\n",
      "It has the value: 8\n",
      "Index 147 was not included\n",
      "It has the value: 1\n",
      "Index 149 was not included\n",
      "It has the value: 6\n",
      "Index 151 was not included\n",
      "It has the value: 8\n",
      "Index 153 was not included\n",
      "It has the value: 1\n",
      "Index 155 was not included\n",
      "It has the value: 2\n",
      "Index 157 was not included\n",
      "It has the value: 9\n",
      "Index 159 was not included\n",
      "It has the value: 1\n",
      "Index 161 was not included\n",
      "It has the value: 8\n",
      "Index 163 was not included\n",
      "It has the value: 0\n",
      "Index 165 was not included\n",
      "It has the value: 2\n",
      "Index 167 was not included\n",
      "It has the value: 4\n",
      "Index 169 was not included\n",
      "It has the value: 0\n",
      "Index 171 was not included\n",
      "It has the value: 2\n",
      "Index 173 was not included\n",
      "It has the value: 0\n",
      "Index 175 was not included\n",
      "It has the value: 1\n",
      "Index 177 was not included\n",
      "It has the value: 2\n",
      "Index 179 was not included\n",
      "It has the value: 6\n",
      "Index 181 was not included\n",
      "It has the value: 1\n",
      "Index 183 was not included\n",
      "It has the value: 2\n",
      "Index 185 was not included\n",
      "It has the value: 2\n",
      "Index 187 was not included\n",
      "It has the value: 2\n",
      "Index 189 was not included\n",
      "It has the value: 2\n",
      "Index 191 was not included\n",
      "It has the value: 8\n",
      "Index 193 was not included\n",
      "It has the value: 3\n",
      "Index 195 was not included\n",
      "It has the value: 2\n",
      "Index 197 was not included\n",
      "It has the value: 4\n",
      "Index 199 was not included\n",
      "It has the value: 3\n",
      "Index 201 was not included\n",
      "It has the value: 2\n",
      "Index 203 was not included\n",
      "It has the value: 0\n",
      "Index 205 was not included\n",
      "It has the value: 4\n",
      "Index 207 was not included\n",
      "It has the value: 2\n",
      "Index 209 was not included\n",
      "It has the value: 6\n",
      "Index 211 was not included\n",
      "It has the value: 4\n",
      "Index 213 was not included\n",
      "It has the value: 2\n",
      "Index 215 was not included\n",
      "It has the value: 2\n",
      "Index 217 was not included\n",
      "It has the value: 5\n",
      "Index 219 was not included\n",
      "It has the value: 2\n",
      "Index 221 was not included\n",
      "It has the value: 8\n",
      "Index 223 was not included\n",
      "It has the value: 6\n",
      "Index 225 was not included\n",
      "It has the value: 2\n",
      "Index 227 was not included\n",
      "It has the value: 4\n",
      "Index 229 was not included\n",
      "It has the value: 6\n",
      "Index 231 was not included\n",
      "It has the value: 2\n",
      "Index 233 was not included\n",
      "It has the value: 0\n",
      "Index 235 was not included\n",
      "It has the value: 7\n",
      "Index 237 was not included\n",
      "It has the value: 2\n",
      "Index 239 was not included\n",
      "It has the value: 6\n",
      "Index 241 was not included\n",
      "It has the value: 7\n",
      "Index 243 was not included\n",
      "It has the value: 2\n",
      "Index 245 was not included\n",
      "It has the value: 2\n",
      "Index 247 was not included\n",
      "It has the value: 8\n",
      "Index 249 was not included\n",
      "It has the value: 2\n",
      "Index 251 was not included\n",
      "It has the value: 8\n",
      "Index 253 was not included\n",
      "It has the value: 9\n",
      "Index 255 was not included\n",
      "It has the value: 2\n",
      "Index 257 was not included\n",
      "It has the value: 4\n",
      "Index 259 was not included\n",
      "It has the value: 9\n",
      "Index 261 was not included\n",
      "It has the value: 3\n",
      "Index 263 was not included\n",
      "It has the value: 0\n",
      "['3', '9', '2', '5', '8', '1', '4', '7', '0', '3', '6', '9', '2', '5', '8', '1', '4', '7', '0', '3', '6', '9', '2', '5', '8', '1', '4', '7', '0', '3', '6', '9', '0', '1', '5', '0', '1', '1', '1', '1', '7', '2', '1', '3', '2', '1', '9', '3', '1', '5', '3', '1', '1', '4', '1', '7', '5', '1', '3', '5', '1', '9', '6', '1', '5', '6', '1', '1', '7', '1', '7', '8', '1', '3', '8', '1', '9', '9', '1', '5', '9', '2', '1', '0', '2', '7', '1', '2', '3', '1', '2', '9', '2', '2', '5', '2', '2', '1', '3', '2', '7', '4', '2', '3', '4', '2', '9', '5', '2', '5', '5', '2', '1', '6', '2', '7', '7', '2', '3', '7', '2', '9', '8', '2', '5', '8', '2', '1', '9', '2', '7', '0'] 132\n"
     ]
    }
   ],
   "source": [
    "print(len(myConcList))\n",
    "myConcListCopy = []\n",
    "for i in range(len(myConcList)):\n",
    "    if(i % 2==0):\n",
    "        myConcListCopy.append(myConcList[i])\n",
    "    else:\n",
    "        print(\"Index\", i, \"was not included\\nIt has the value:\", myConcList[i])\n",
    "print(myConcListCopy, len(myConcListCopy))\n",
    "        "
   ]
  },
  {
   "cell_type": "markdown",
   "metadata": {},
   "source": [
    "# Seven"
   ]
  },
  {
   "cell_type": "markdown",
   "metadata": {},
   "source": [
    "Syntactically, a tuple is defined using () while a list is defined using a [].\n",
    "\n",
    "Functionally, lists are mutable. They can be modified after instantiation. The opposite is true for tuples. I.E. see below\n"
   ]
  },
  {
   "cell_type": "code",
   "execution_count": 8,
   "metadata": {},
   "outputs": [
    {
     "name": "stdout",
     "output_type": "stream",
     "text": [
      "[1, 2, 3, 4, 5]\n",
      "[1, 2.5, 3, 4, 5]\n"
     ]
    }
   ],
   "source": [
    "myList = [1,2,3,4,5]\n",
    "print(myList)\n",
    "myList[1] = 2.5\n",
    "print(myList)\n",
    "# The second element was replaced with 2.5\n",
    "# You can append, remove, pop. All these methods work for lists but not Tuples"
   ]
  },
  {
   "cell_type": "code",
   "execution_count": 9,
   "metadata": {},
   "outputs": [
    {
     "name": "stdout",
     "output_type": "stream",
     "text": [
      "(1, 2, 3, 4, 5)\n"
     ]
    },
    {
     "data": {
      "text/plain": [
       "'\\nmyTuple.pop()\\nmyTuple.remove(1)\\nmyTuple[1] = 2.5\\n==NONE OF THESE WORK==\\n'"
      ]
     },
     "execution_count": 9,
     "metadata": {},
     "output_type": "execute_result"
    }
   ],
   "source": [
    "myTuple = (1,2,3,4,5)\n",
    "print(myTuple)\n",
    "\"\"\"\n",
    "myTuple.pop()\n",
    "myTuple.remove(1)\n",
    "myTuple[1] = 2.5\n",
    "==NONE OF THESE WORK==\n",
    "\"\"\""
   ]
  },
  {
   "cell_type": "markdown",
   "metadata": {},
   "source": [
    "The point being your data structure choice is about communicating what your intentions for the code are to the people reading your code. Choosing to use a tuple communicates that that \"list\" shall remain the list and should not be changed/modified."
   ]
  },
  {
   "cell_type": "code",
   "execution_count": 10,
   "metadata": {},
   "outputs": [
    {
     "data": {
      "text/plain": [
       "[2,\n",
       " 3,\n",
       " 5,\n",
       " 7,\n",
       " 11,\n",
       " 13,\n",
       " 17,\n",
       " 19,\n",
       " 23,\n",
       " 29,\n",
       " 31,\n",
       " 37,\n",
       " 41,\n",
       " 43,\n",
       " 47,\n",
       " 53,\n",
       " 59,\n",
       " 61,\n",
       " 67,\n",
       " 71,\n",
       " 73,\n",
       " 79,\n",
       " 83,\n",
       " 89,\n",
       " 97,\n",
       " 101,\n",
       " 103,\n",
       " 107,\n",
       " 109,\n",
       " 113,\n",
       " 127,\n",
       " 131,\n",
       " 137,\n",
       " 139,\n",
       " 149,\n",
       " 151,\n",
       " 157,\n",
       " 163,\n",
       " 167,\n",
       " 173,\n",
       " 179,\n",
       " 181,\n",
       " 191,\n",
       " 193,\n",
       " 197,\n",
       " 199,\n",
       " 211,\n",
       " 223,\n",
       " 227,\n",
       " 229,\n",
       " 233,\n",
       " 239,\n",
       " 241,\n",
       " 251,\n",
       " 257,\n",
       " 263,\n",
       " 269,\n",
       " 271,\n",
       " 277,\n",
       " 281,\n",
       " 283,\n",
       " 293,\n",
       " 307,\n",
       " 311,\n",
       " 313,\n",
       " 317,\n",
       " 331,\n",
       " 337,\n",
       " 347,\n",
       " 349,\n",
       " 353,\n",
       " 359,\n",
       " 367,\n",
       " 373,\n",
       " 379,\n",
       " 383,\n",
       " 389,\n",
       " 397,\n",
       " 401,\n",
       " 409,\n",
       " 419,\n",
       " 421,\n",
       " 431,\n",
       " 433,\n",
       " 439,\n",
       " 443,\n",
       " 449,\n",
       " 457,\n",
       " 461,\n",
       " 463,\n",
       " 467,\n",
       " 479,\n",
       " 487,\n",
       " 491,\n",
       " 499,\n",
       " 503,\n",
       " 509,\n",
       " 521,\n",
       " 523,\n",
       " 541]"
      ]
     },
     "execution_count": 10,
     "metadata": {},
     "output_type": "execute_result"
    }
   ],
   "source": [
    "def primes_upto(limit):\n",
    "    prime = [True] * limit\n",
    "    for n in range(2, limit):\n",
    "        if prime[n]:\n",
    "            yield n # n is a prime\n",
    "            for c in range(n*n, limit, n):\n",
    "                prime[c] = False # mark composites\n",
    "                \n",
    "list(primes_upto(542))"
   ]
  },
  {
   "cell_type": "markdown",
   "metadata": {},
   "source": [
    "\n",
    "### Exploration\n",
    "\n",
    "1. Use a generator to create a list of the first 100 prime numbers. Include a paragraph explaining how a generator works.\n",
    "\n",
    "2. Using a for loop and the pop function, create a list of the values from the list of prime numbers whose values are descending from highest to lowest.\n",
    "\n",
    "3. Using either of prime numbers, create another list that includes the same numbers but is randomly ordered. Do this without shuffling the initial list (Hint: you will need to import random and import copy). Explain in a paragraph the process that you followed to accomplish the task.\n"
   ]
  },
  {
   "cell_type": "code",
   "execution_count": null,
   "metadata": {},
   "outputs": [],
   "source": []
  }
 ],
 "metadata": {
  "kernelspec": {
   "display_name": "Python 3",
   "language": "python",
   "name": "python3"
  },
  "language_info": {
   "codemirror_mode": {
    "name": "ipython",
    "version": 3
   },
   "file_extension": ".py",
   "mimetype": "text/x-python",
   "name": "python",
   "nbconvert_exporter": "python",
   "pygments_lexer": "ipython3",
   "version": "3.8.5"
  }
 },
 "nbformat": 4,
 "nbformat_minor": 4
}
