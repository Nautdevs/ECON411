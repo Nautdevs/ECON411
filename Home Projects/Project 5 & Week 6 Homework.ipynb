{
 "cells": [
  {
   "cell_type": "markdown",
   "metadata": {},
   "source": [
    "Week 6: Submit Project Proposal in Jupyter Notebook\n",
    "(1000 words; at least 2 data sources; at least 2 different types \n"
   ]
  },
  {
   "cell_type": "markdown",
   "metadata": {},
   "source": [
    "# Imports"
   ]
  },
  {
   "cell_type": "code",
   "execution_count": 1,
   "metadata": {},
   "outputs": [],
   "source": [
    "import random\n",
    "import numpy as np\n",
    "import pandas as pd"
   ]
  },
  {
   "cell_type": "markdown",
   "metadata": {},
   "source": [
    "### 1."
   ]
  },
  {
   "cell_type": "code",
   "execution_count": 76,
   "metadata": {},
   "outputs": [
    {
     "name": "stdout",
     "output_type": "stream",
     "text": [
      "[57, 11, 84, 18, 85, 33, 47, 76, 73, 96, 3, 83, 44, 84, 3, 18, 12, 65, 25, 67, 60, 35, 35, 39, 17, 30, 34, 76, 11, 17, 5, 13, 73, 4, 80, 91, 17, 37, 21, 79, 92, 60, 81, 14, 24, 47, 37, 65, 75, 16, 78, 31, 87, 9, 81, 42, 63, 47, 58, 40, 15, 59, 37, 29, 78, 80, 10, 56, 81, 74, 98, 41, 17, 91, 0, 99, 75, 48, 83, 1, 17, 32, 29, 24, 90, 98, 91, 22, 50, 73, 57, 21, 8, 16, 11, 65, 47, 30, 88, 55, 51, 39, 12, 28, 56, 48, 62, 34, 89, 6, 85, 16, 59, 95, 9, 32, 9, 36, 99, 69, 53, 91, 0, 76, 13, 30, 99, 0, 20, 79, 52, 24, 58, 9, 36, 57, 54, 19, 57, 20, 28, 8, 52, 46, 45, 84, 94, 5, 29, 90, 95, 49, 15, 14, 4, 39, 11, 62, 65, 31, 99, 24, 47, 51, 20, 48, 99, 70, 83, 66, 0, 10, 1, 40, 71, 0, 84, 75, 9, 52, 49, 67, 85, 7, 87, 99, 66, 30, 77, 12, 77, 50, 100, 52, 83, 62, 54, 46, 25, 88, 70, 76, 20, 38, 69, 86, 39, 31, 93, 14, 26, 60, 59, 59, 21, 82, 3, 6, 49, 3, 10, 86, 71, 28, 30, 5, 74, 59, 74, 33, 8, 33, 85, 67, 83, 11, 40, 73, 81, 39, 40, 38, 15, 85, 44, 77, 45, 36, 40, 56, 80, 95, 71, 20, 6, 91, 48, 96, 26, 16, 50, 54, 12, 77, 47, 13, 82, 12, 33, 12, 66, 82, 95, 50, 71, 61, 96, 33, 38, 42, 47, 96, 9, 24, 23, 35, 3, 95, 92, 39, 2, 8, 71, 12, 61, 31, 20, 31, 99, 72, 70, 38, 24, 73, 49, 14, 72, 46, 84, 70, 89, 3, 39, 12, 2, 93, 61, 53, 3, 25, 77, 31, 70, 5, 97, 1, 31, 85, 43, 40, 74, 21, 83, 16, 95, 50, 17, 3, 75, 22, 58, 95, 34, 80, 83, 19, 61, 20, 76, 98, 66, 87, 39, 77, 8, 14, 20, 17, 81, 5, 76, 44, 57, 98, 75, 84, 68, 87, 24, 29, 98, 40, 70, 59, 88, 6, 26, 2, 100, 36, 43, 42, 48, 46, 52, 26, 91, 70, 8, 64, 42, 32, 20, 82, 78, 6, 90, 92, 41, 77, 79, 58, 68, 34, 34, 31, 73, 20, 88, 3, 70, 60, 58, 78, 57, 93, 23, 38, 45, 78, 44, 8, 5, 85, 71, 24, 96, 44, 54, 36, 22, 66, 24, 96, 73, 5, 42, 51, 65, 4, 85, 82, 47, 1, 98, 36, 48, 32, 61, 47, 88, 24, 20, 4, 74, 44, 30, 94, 9, 5, 59, 80, 18, 97, 100, 60, 45, 88, 58, 98, 56, 41, 57, 91, 62, 1, 35, 53, 98, 4, 62, 45, 14, 78, 73, 82, 90, 6, 58, 12, 61, 26, 52, 7, 53, 40, 36, 72, 48, 34, 40, 62, 46, 67, 11, 8, 22, 20, 33, 31, 15, 23, 36, 25, 6, 10, 20, 85, 54, 26, 36, 27, 74, 86, 28, 20, 84, 100, 29, 10, 34, 91, 85, 99, 25, 15, 27, 45, 2, 45, 51, 96, 39, 64, 22, 3, 37, 60, 59, 85, 40, 87, 8, 25, 39, 59, 1, 4, 86, 51, 57, 83, 21, 24, 11, 85, 31, 72, 12, 11, 6, 33, 91, 71, 23, 70, 71, 65, 2, 22, 22, 69, 46, 80, 92, 17, 58, 64, 40, 25, 57, 36, 97, 29, 28, 32, 36, 37, 71, 61, 54, 83, 84, 65, 29, 15, 68, 21, 4, 52, 5, 82, 3, 49, 70, 64, 43, 91, 11, 14, 76, 52, 14, 65, 19, 9, 15, 32, 80, 35, 74, 32, 63, 31, 40, 14, 1, 46, 22, 46, 45, 39, 42, 35, 54, 98, 68, 17, 80, 80, 77, 38, 87, 70, 45, 19, 5, 10, 44, 95, 87, 44, 99, 26, 47, 79, 3, 1, 70, 45, 60, 18, 77, 55, 4, 98, 52, 66, 71, 76, 34, 30, 92, 41, 2, 14, 20, 75, 49, 89, 22, 83, 74, 20, 90, 66, 55, 29, 67, 57, 57, 50, 70, 41, 84, 85, 58, 21, 35, 69, 9, 84, 18, 37, 91, 37, 19, 61, 3, 58, 44, 69, 46, 82, 47, 75, 21, 46, 67, 17, 26, 30, 47, 42, 70, 15, 30, 45, 33, 22, 3, 77, 91, 36, 32, 81, 54, 78, 93, 18, 45, 26, 72, 93, 71, 88, 84, 94, 10, 27, 77, 13, 3, 28, 74, 5, 47, 40, 34, 82, 37, 50, 58, 81, 63, 9, 63, 75, 50, 51, 61, 90, 95, 79, 57, 8, 58, 53, 87, 59, 47, 8, 58, 85, 88, 22, 12, 43, 3, 86, 11, 83, 62, 68, 4, 24, 23, 10, 43, 88, 69, 74, 98, 27, 31, 8, 74, 67, 85, 31, 29, 83, 34, 70, 50, 9, 21, 43, 51, 19, 46, 22, 78, 29, 94, 65, 62, 86, 92, 72, 6, 28, 73, 57, 15, 92, 41, 73, 30, 9, 62, 34, 81, 85, 49, 54, 95, 97, 73, 22, 45, 33, 51, 43, 7, 35, 47, 24, 81, 41, 70, 16, 31, 32, 57, 37, 58, 85, 3, 25, 25, 10, 48, 62, 2, 66, 1, 87, 84, 75, 4, 63, 100, 97, 65, 34, 88, 45, 0, 51, 0, 30, 44, 61, 23, 81, 40, 98, 37, 89, 31, 77, 33, 11, 92, 45, 77, 44, 2, 19, 95, 52, 53, 64, 17, 65, 0, 96, 68, 62, 21, 25, 7, 84, 55, 69, 42, 81, 77, 59, 69, 4, 89, 59, 61, 74, 19, 44, 22, 34, 68, 1, 27, 83, 19, 34, 95, 80, 16, 35, 10, 22, 47, 78, 12, 91, 12, 54, 20, 41, 93, 33, 55, 14, 56, 35, 83, 87, 14, 28, 57, 53, 42, 23, 69, 58, 33, 70, 23, 46, 99, 87, 60, 55, 73, 31, 74, 73, 64, 46]\n"
     ]
    },
    {
     "data": {
      "text/plain": [
       "(1000, None)"
      ]
     },
     "execution_count": 76,
     "metadata": {},
     "output_type": "execute_result"
    }
   ],
   "source": [
    "def gen_rand100(n):\n",
    "    return [random.randint(0, 100) for i in range(n)]\n",
    "\n",
    "list1000 = gen_rand100(1000)\n",
    "len(list1000), print(list1000)"
   ]
  },
  {
   "cell_type": "markdown",
   "metadata": {},
   "source": [
    "### 2."
   ]
  },
  {
   "cell_type": "code",
   "execution_count": 104,
   "metadata": {},
   "outputs": [
    {
     "data": {
      "text/plain": [
       "822.0137910000003"
      ]
     },
     "execution_count": 104,
     "metadata": {},
     "output_type": "execute_result"
    }
   ],
   "source": [
    "def var(nums, sample = True):\n",
    "    n = len(nums)\n",
    "    mean = sum(nums) / n\n",
    "    \n",
    "    # If sample is set to truer then use n-1 else n (since obviously it is false)\n",
    "    var = sum((i - mean)**2 for i in nums) / ((n - 1) if sample == True else n)\n",
    "    return var\n",
    "\n",
    "var(list1000, sample = False)"
   ]
  },
  {
   "cell_type": "markdown",
   "metadata": {},
   "source": [
    "### 3."
   ]
  },
  {
   "cell_type": "code",
   "execution_count": 105,
   "metadata": {},
   "outputs": [
    {
     "data": {
      "text/plain": [
       "(5, {'list0': [7, 35, 76, 68, 74]})"
      ]
     },
     "execution_count": 105,
     "metadata": {},
     "output_type": "execute_result"
    }
   ],
   "source": [
    "tenRandom = {}\n",
    "listLength = 5\n",
    "numKeys = 10\n",
    "for index_key in range(numKeys):\n",
    "    tenRandom[index_key] = {'list'+str(index_key):gen_rand100(listLength)}\n",
    "len(tenRandom[0]['list0']),tenRandom[0] "
   ]
  },
  {
   "cell_type": "code",
   "execution_count": 106,
   "metadata": {},
   "outputs": [],
   "source": [
    "# for index_key in tenRandom: # For each dict in tenRandom\n",
    "#     for other_key in tenRandom[index_key]:\n",
    "#         tenRandom[index_key]['variance'] = {var(tenRandom[index_key][other_key])}\n",
    "#  # for each dict in tenRandom's second layer dic"
   ]
  },
  {
   "cell_type": "code",
   "execution_count": 107,
   "metadata": {},
   "outputs": [
    {
     "data": {
      "text/plain": [
       "907.5"
      ]
     },
     "execution_count": 107,
     "metadata": {},
     "output_type": "execute_result"
    }
   ],
   "source": [
    "var(tenRandom[0]['list0'])"
   ]
  },
  {
   "cell_type": "code",
   "execution_count": 176,
   "metadata": {},
   "outputs": [],
   "source": [
    "# for index_key in tenRandom: # For each dict in tenRandom\n",
    "#     print(tenRandom[index_key])\n",
    "#     for otherKey in tenRandom[index_key]: # for each dict in tenRandom's second layer dict\n",
    "#         print(var(tenRandom[index_key][otherKey]))\n",
    "#         tenRandom[index_key][otherKey] = {'Variance':var(tenRandom[index_key][otherKey])}\n",
    "# tenRandom"
   ]
  },
  {
   "cell_type": "markdown",
   "metadata": {},
   "source": [
    "Technically this is exactly what you asked! It only took me ~1.5 hours to figure out something which would work. The problem I kept running into what iterating over it to \"add\" the new \"variance\" key value pair was that it said there was runtime error: size of dict changed."
   ]
  },
  {
   "cell_type": "markdown",
   "metadata": {},
   "source": [
    "Update: I had momentary inspiration to use two dictionaries"
   ]
  },
  {
   "cell_type": "markdown",
   "metadata": {},
   "source": [
    "# 4."
   ]
  },
  {
   "cell_type": "code",
   "execution_count": 171,
   "metadata": {},
   "outputs": [],
   "source": [
    "dict = {}\n",
    "dict2 = {}\n",
    "\n",
    "for i in range(10):\n",
    "    dict2[i]=gen_rand100(1000)\n",
    "\n",
    "for i in range(10):\n",
    "    dict[i] = {'list': dict2[i],\n",
    "              'variance': var(dict2[i])}"
   ]
  },
  {
   "cell_type": "code",
   "execution_count": 181,
   "metadata": {},
   "outputs": [
    {
     "data": {
      "text/plain": [
       "(1000, 891.4749939939933)"
      ]
     },
     "execution_count": 181,
     "metadata": {},
     "output_type": "execute_result"
    }
   ],
   "source": [
    "len(dict[1]['list']), dict[1]['variance']"
   ]
  },
  {
   "cell_type": "markdown",
   "metadata": {},
   "source": [
    "# 5."
   ]
  },
  {
   "cell_type": "code",
   "execution_count": 183,
   "metadata": {},
   "outputs": [],
   "source": [
    "def min(lst):\n",
    "    minVal = 0\n",
    "    for i in lst:\n",
    "        if lst[i] < minVal:\n",
    "            minVal = lst[i]\n",
    "    return minVal\n",
    "\n",
    "def max(lst):\n",
    "    maxVal = 0\n",
    "    for i in lst:\n",
    "        if lst[i] > maxVal:\n",
    "            maxVal = lst[i]\n",
    "    return maxVal"
   ]
  },
  {
   "cell_type": "code",
   "execution_count": 185,
   "metadata": {},
   "outputs": [
    {
     "data": {
      "text/plain": [
       "(0, 99)"
      ]
     },
     "execution_count": 185,
     "metadata": {},
     "output_type": "execute_result"
    }
   ],
   "source": [
    "min(list1000), max(list1000)"
   ]
  },
  {
   "cell_type": "markdown",
   "metadata": {},
   "source": [
    "# 6."
   ]
  },
  {
   "cell_type": "markdown",
   "metadata": {},
   "source": [
    "Writing vanilla functions is time consuming and mentally rigorous. It makes it easier for you to reason through your high level math code when you are not worrying about the low level math functions. The program reads better when you instinctively know what the min, max, median, mode functions all do and they are part of your code. Contrast this to reading that function's logic as a block of code in the middle of your other function. It may take you a minute or two to understand that this is just a simple average function--across millions of coders that is a ton of time. I like to think of it like us writing in assembly code or C-lang when you are trying to write a simple program to get the average of some numbers. Why would anyone do that when we can save that function's logic in memory and abstract all that difficult logic away.\n",
    "\n",
    "Additionally, the logic can be optimized separately from your programs which use it. This function can be more robust, less error-prone, and optimized for that particular algorithm's best time complexity. \n",
    "\n",
    "On top of that, importing functions is very easy to perform and thus makes function-writing even more beneficial since distribution is easy to accomplish. It is much easier for me to know I need to open up my terminal and type 'pip install LIBRARY_OF_FUNCTIONS' then it is for me to start writing the tens of thousands of lines of pure logic required in order to implement that same program's functionality myself."
   ]
  },
  {
   "cell_type": "markdown",
   "metadata": {},
   "source": [
    "# Exploration"
   ]
  },
  {
   "cell_type": "markdown",
   "metadata": {},
   "source": [
    "# 1."
   ]
  },
  {
   "cell_type": "code",
   "execution_count": null,
   "metadata": {},
   "outputs": [],
   "source": []
  },
  {
   "cell_type": "markdown",
   "metadata": {},
   "source": [
    "# 2."
   ]
  },
  {
   "cell_type": "markdown",
   "metadata": {},
   "source": [
    "### Exercises\n",
    "1. Create a list of random numbers between 0 and 100 whose length is 1000. (Hint: import random; search \"python random\" to learn more about the library.)\n",
    "\n",
    "2. Use the variance function from the textbook to find the variance of this list. Assume that the list represent a population in whole. \n",
    "\n",
    "3. Create a 9 more lists of the same length whose elements are random numbers between 0 and 100. Use a nested dictionary to house and identify these lists. Keys for the first layer should be the numbers 1 through 10. Lists should be stored using a second key as follows: dict_name[index][\"list\"]. Index represents the particular integer key between 1 and 10 as noted above.\n",
    "\n",
    "4. Find the variance of each list and store it as follows: dict_name[index][\"variance\"].\n",
    "\n",
    "5. At the end of chapter 2, we used for loops to find min and max values. Create a min() function and max() function and pass the values from the list in question 1 to each of these to determine the min and max values in that list.\n",
    "\n",
    "6. Explain why it might be advantageous to create a function instead of building all commands from scratch as you create a script.\n",
    "\n",
    "### Exploration:\n",
    "1. Visit the Python Essentials lesson from Sargent and Stachurski. Complete exercise 3. Pass 3 other sentences to the function that you create. Include a paragraph that explains in detail how the function operates\n",
    "\n",
    "2. Visit the Python Essentials lesson from Sargent and Stachurski. Complete exercise 4. Pass 3 pairs of unique lists to the function. Include a paragraph explaining in detail how the function operates, including explanation for a solution that uses set().\n",
    "\n"
   ]
  },
  {
   "cell_type": "markdown",
   "metadata": {},
   "source": [
    " # Project"
   ]
  },
  {
   "cell_type": "markdown",
   "metadata": {},
   "source": [
    "# Introduction:\n",
    "Inflation is a critical economic factor that investors must consider when making investment decisions. Inflation affects the value of both stocks and bonds, as it impacts the purchasing power of money over time. However, the way inflation is integrated into the underlying valuation of stocks and bonds is different. This computational model aims to investigate how traditional stocks and bonds integrate inflation into their underlying valuation, using statistical analysis to determine the relationship between these securities and interest rates. The model will also examine how the relationship between stocks, bonds, and interest rates has changed structurally since the dot-com bubble, housing crisis, and the pandemic. In a market environment where expectations are highly uncertain--general truths about the markets break down and can lead an investor astray. Examining these effects and looking for indicators of how exactly the financial market respond to uncertainty could make us all better investors through informing our decisions. \n",
    "\n",
    "Ultimately this computational model aims to explore how components of the economy influence the relationship between interest rates and stocks and bonds.\n",
    "\n",
    "\n",
    "# Background\n",
    "The COVID-19 pandemic has had an outsized impact on traditional stock and bond portfolios. The pandemic caused a sharp decline in the global financial markets due to many countries stay at home orders which caused businesses to shut down. While countries went into lockdown many investors sold off their investments in certain sectors of the economy.\n",
    "\n",
    "During the early stages of the pandemic stock from industries such as hospitality, travel, and energy were hit the hardest. Later on investors focused on more pandemic resilient sectors like technology and ecommerce where they found significant returns.\n",
    "\n",
    "It wasn't just stocks, but bonds also. With unprecedented monetary stimulus being injected into economies around the world, but especially in the United States, interest rates saw historic lows. This confluence of events made it especially difficult for investors to earn returns on traditional fixed income investments. \n",
    "\n",
    "Now with the bulk of the pandemic past us, traditional stock and bond portfolios have cautiously recovered with the historical vaccine rollout and proceeding economic recovery seen in the labor market. As Federal Reserve Chairman Jerome Powell would like it, we could be in for a 'soft landing' despite our inflationary fears. \n",
    "\n",
    "The dot-com bubble, 2008 housing crisis, and the COVID-19 pandemic have each had significant impacts on the stock and bond markets. The dot-com bubble was a speculative bubble in the late 1990s, where many internet-based companies saw their stock prices soar to unsustainable levels. The bubble burst in 2000, leading to a significant decline in stock prices. The housing crisis occurred in in 2008 and was caused by a combination of factors, including a housing market bubble and risky lending practices by banks.\n",
    "\n",
    "If there is a financial lesson to be learned from each of these, in the words of Nicholas Taleb, 'black swan' events, it is that portfolio diversification is of paramount importance. One of the most common portfolio diversification methods is to hold a split between stocks and bonds, typically in a ratio of something like 60% stocks and 40% bonds--depending on your risk tolerance and time horizon. If one were younger, they would hold more stocks than that and vice-versa. The underlying thought behind doing so is that one can avoid the extreme downsides in one or the other, but as a cost they won't quite experience the extreme upside in the event stocks or bonds perform particularly well. Diversification can be thought of as a financial return 'equalizer' or 'normalizer'. \n",
    "\n",
    "Now traditional finance would posit that when stocks are down, that bonds should be up. The peculiar truth of the matter is that bonds are currently down and stock are down. Why is that? The reason is the effect interest rates are having on bonds is different. As interest rates go up, bond prices actually go down since most of the bonds in existing portfolios are held at particularly low rates. The value of the fixed interest payments those bonds pay out is reduced as a result. There is also the expectation from individual investors that rates may continue going up making those portfolios worth even less. Contrasting that to stocks, although the value of the residual income that stocks pay out is less in an inflationary environment, stock ownership still fundamentally represents a claim on a portion of all the income that firm generates. Oftentimes, increased input costs are simply passed on to consumers. \n",
    "\n",
    "\n",
    "\n",
    "# Research Methodology\n",
    "This computational model will use statistical analysis to investigate the relationship between traditional stocks and interest rates, as well as the relationship between traditional bonds and interest rates. The analysis will be conducted using time-series data from the Federal Reserve Economic Database (FRED), a comprehensive economic data platform that provides access to a wide range of economic data, yahoo finance, which provides market price and financial statement data, and finally the Bureau of Economic Analysis (BEA), which provides comprehensive economic data similar to FRED.\n",
    "\n",
    "The model will start by gathering the time-series data for stock prices and interest rates over the last 30 years. This analysis will provide insights into how changes in interest rates impact stock prices over time. Afterward, we will zoom in on individual components as well as the three major crises timeframes.\n",
    "\n",
    "Next, the model will examine the time-series data for bond prices and interest rates over the last 30 years. This analysis will provide insights into how changes in interest rates impact bond prices over time. \n",
    "\n",
    "Then the model will compare the statistical analysis of stock prices and interest rates to that of bond prices and interest rates. This comparison will hopefully provide insights into how stocks and bonds integrate inflation into their underlying valuation differently.\n",
    "\n",
    "Finally, the article will summarize the investigation with how the relationship between stocks, bonds, and interest rates has changed structurally during each respective financial crises. This analysis will provide insights into how the integration of inflation into the underlying valuation of stocks and bonds has evolved over the last few decades and how that can inform our future investment decisions.\n",
    "\n"
   ]
  },
  {
   "cell_type": "markdown",
   "metadata": {},
   "source": [
    "# Imports"
   ]
  },
  {
   "cell_type": "code",
   "execution_count": 303,
   "metadata": {},
   "outputs": [],
   "source": [
    "import requests, pandas as pd, matplotlib as mpl, numpy as np, os, dotenv\n",
    "from dotenv import load_dotenv\n",
    "from fredapi import Fred\n",
    "from pprint import pprint\n",
    "from pybea.client import BureauEconomicAnalysisClient\n",
    "\n",
    "def configure():\n",
    "    load_dotenv()\n",
    "    \n",
    "configure()"
   ]
  },
  {
   "cell_type": "markdown",
   "metadata": {},
   "source": [
    "# 1. Create fred object"
   ]
  },
  {
   "cell_type": "code",
   "execution_count": 288,
   "metadata": {},
   "outputs": [],
   "source": [
    "fred = Fred(api_key=os.getenv('FRED_KEY'))"
   ]
  },
  {
   "cell_type": "code",
   "execution_count": 289,
   "metadata": {},
   "outputs": [
    {
     "data": {
      "text/plain": [
       "<fredapi.fred.Fred at 0x221d0b147f0>"
      ]
     },
     "execution_count": 289,
     "metadata": {},
     "output_type": "execute_result"
    }
   ],
   "source": [
    "fred"
   ]
  },
  {
   "cell_type": "markdown",
   "metadata": {},
   "source": [
    "# 2. Search for economic data"
   ]
  },
  {
   "cell_type": "markdown",
   "metadata": {},
   "source": [
    "- fred api lets you (1) search the dataset or (2) pull the dataset\n",
    "- fred search limit defaults to 1000, sort order is specifiable"
   ]
  },
  {
   "cell_type": "code",
   "execution_count": 290,
   "metadata": {},
   "outputs": [],
   "source": [
    "sp_df = fred.search('S&P', order_by='popularity')"
   ]
  },
  {
   "cell_type": "code",
   "execution_count": 291,
   "metadata": {},
   "outputs": [
    {
     "data": {
      "text/html": [
       "<div>\n",
       "<style scoped>\n",
       "    .dataframe tbody tr th:only-of-type {\n",
       "        vertical-align: middle;\n",
       "    }\n",
       "\n",
       "    .dataframe tbody tr th {\n",
       "        vertical-align: top;\n",
       "    }\n",
       "\n",
       "    .dataframe thead th {\n",
       "        text-align: right;\n",
       "    }\n",
       "</style>\n",
       "<table border=\"1\" class=\"dataframe\">\n",
       "  <thead>\n",
       "    <tr style=\"text-align: right;\">\n",
       "      <th></th>\n",
       "      <th>id</th>\n",
       "      <th>realtime_start</th>\n",
       "      <th>realtime_end</th>\n",
       "      <th>title</th>\n",
       "      <th>observation_start</th>\n",
       "      <th>observation_end</th>\n",
       "      <th>frequency</th>\n",
       "      <th>frequency_short</th>\n",
       "      <th>units</th>\n",
       "      <th>units_short</th>\n",
       "      <th>seasonal_adjustment</th>\n",
       "      <th>seasonal_adjustment_short</th>\n",
       "      <th>last_updated</th>\n",
       "      <th>popularity</th>\n",
       "      <th>notes</th>\n",
       "    </tr>\n",
       "    <tr>\n",
       "      <th>series id</th>\n",
       "      <th></th>\n",
       "      <th></th>\n",
       "      <th></th>\n",
       "      <th></th>\n",
       "      <th></th>\n",
       "      <th></th>\n",
       "      <th></th>\n",
       "      <th></th>\n",
       "      <th></th>\n",
       "      <th></th>\n",
       "      <th></th>\n",
       "      <th></th>\n",
       "      <th></th>\n",
       "      <th></th>\n",
       "      <th></th>\n",
       "    </tr>\n",
       "  </thead>\n",
       "  <tbody>\n",
       "    <tr>\n",
       "      <th>BAMLH0A0HYM2</th>\n",
       "      <td>BAMLH0A0HYM2</td>\n",
       "      <td>2023-02-19</td>\n",
       "      <td>2023-02-19</td>\n",
       "      <td>ICE BofA US High Yield Index Option-Adjusted S...</td>\n",
       "      <td>1996-12-31</td>\n",
       "      <td>2023-02-16</td>\n",
       "      <td>Daily, Close</td>\n",
       "      <td>D</td>\n",
       "      <td>Percent</td>\n",
       "      <td>%</td>\n",
       "      <td>Not Seasonally Adjusted</td>\n",
       "      <td>NSA</td>\n",
       "      <td>2023-02-17 09:22:17-06:00</td>\n",
       "      <td>94</td>\n",
       "      <td>The ICE BofA Option-Adjusted Spreads (OASs) ar...</td>\n",
       "    </tr>\n",
       "    <tr>\n",
       "      <th>CSUSHPINSA</th>\n",
       "      <td>CSUSHPINSA</td>\n",
       "      <td>2023-02-19</td>\n",
       "      <td>2023-02-19</td>\n",
       "      <td>S&amp;P/Case-Shiller U.S. National Home Price Index</td>\n",
       "      <td>1987-01-01</td>\n",
       "      <td>2022-11-01</td>\n",
       "      <td>Monthly</td>\n",
       "      <td>M</td>\n",
       "      <td>Index Jan 2000=100</td>\n",
       "      <td>Index Jan 2000=100</td>\n",
       "      <td>Not Seasonally Adjusted</td>\n",
       "      <td>NSA</td>\n",
       "      <td>2023-01-31 08:01:02-06:00</td>\n",
       "      <td>90</td>\n",
       "      <td>For more information regarding the index, plea...</td>\n",
       "    </tr>\n",
       "    <tr>\n",
       "      <th>SP500</th>\n",
       "      <td>SP500</td>\n",
       "      <td>2023-02-19</td>\n",
       "      <td>2023-02-19</td>\n",
       "      <td>S&amp;P 500</td>\n",
       "      <td>2013-02-19</td>\n",
       "      <td>2023-02-17</td>\n",
       "      <td>Daily, Close</td>\n",
       "      <td>D</td>\n",
       "      <td>Index</td>\n",
       "      <td>Index</td>\n",
       "      <td>Not Seasonally Adjusted</td>\n",
       "      <td>NSA</td>\n",
       "      <td>2023-02-17 19:10:50-06:00</td>\n",
       "      <td>84</td>\n",
       "      <td>The observations for the S&amp;P 500 represent the...</td>\n",
       "    </tr>\n",
       "    <tr>\n",
       "      <th>BAMLH0A0HYM2EY</th>\n",
       "      <td>BAMLH0A0HYM2EY</td>\n",
       "      <td>2023-02-19</td>\n",
       "      <td>2023-02-19</td>\n",
       "      <td>ICE BofA US High Yield Index Effective Yield</td>\n",
       "      <td>1996-12-31</td>\n",
       "      <td>2023-02-16</td>\n",
       "      <td>Daily, Close</td>\n",
       "      <td>D</td>\n",
       "      <td>Percent</td>\n",
       "      <td>%</td>\n",
       "      <td>Not Seasonally Adjusted</td>\n",
       "      <td>NSA</td>\n",
       "      <td>2023-02-17 09:22:16-06:00</td>\n",
       "      <td>84</td>\n",
       "      <td>This data represents the effective yield of th...</td>\n",
       "    </tr>\n",
       "    <tr>\n",
       "      <th>CSUSHPISA</th>\n",
       "      <td>CSUSHPISA</td>\n",
       "      <td>2023-02-19</td>\n",
       "      <td>2023-02-19</td>\n",
       "      <td>S&amp;P/Case-Shiller U.S. National Home Price Index</td>\n",
       "      <td>1987-01-01</td>\n",
       "      <td>2022-11-01</td>\n",
       "      <td>Monthly</td>\n",
       "      <td>M</td>\n",
       "      <td>Index Jan 2000=100</td>\n",
       "      <td>Index Jan 2000=100</td>\n",
       "      <td>Seasonally Adjusted</td>\n",
       "      <td>SA</td>\n",
       "      <td>2023-01-31 08:01:04-06:00</td>\n",
       "      <td>81</td>\n",
       "      <td>For more information regarding the index, plea...</td>\n",
       "    </tr>\n",
       "  </tbody>\n",
       "</table>\n",
       "</div>"
      ],
      "text/plain": [
       "                            id realtime_start realtime_end  \\\n",
       "series id                                                    \n",
       "BAMLH0A0HYM2      BAMLH0A0HYM2     2023-02-19   2023-02-19   \n",
       "CSUSHPINSA          CSUSHPINSA     2023-02-19   2023-02-19   \n",
       "SP500                    SP500     2023-02-19   2023-02-19   \n",
       "BAMLH0A0HYM2EY  BAMLH0A0HYM2EY     2023-02-19   2023-02-19   \n",
       "CSUSHPISA            CSUSHPISA     2023-02-19   2023-02-19   \n",
       "\n",
       "                                                            title  \\\n",
       "series id                                                           \n",
       "BAMLH0A0HYM2    ICE BofA US High Yield Index Option-Adjusted S...   \n",
       "CSUSHPINSA        S&P/Case-Shiller U.S. National Home Price Index   \n",
       "SP500                                                     S&P 500   \n",
       "BAMLH0A0HYM2EY       ICE BofA US High Yield Index Effective Yield   \n",
       "CSUSHPISA         S&P/Case-Shiller U.S. National Home Price Index   \n",
       "\n",
       "               observation_start observation_end     frequency  \\\n",
       "series id                                                        \n",
       "BAMLH0A0HYM2          1996-12-31      2023-02-16  Daily, Close   \n",
       "CSUSHPINSA            1987-01-01      2022-11-01       Monthly   \n",
       "SP500                 2013-02-19      2023-02-17  Daily, Close   \n",
       "BAMLH0A0HYM2EY        1996-12-31      2023-02-16  Daily, Close   \n",
       "CSUSHPISA             1987-01-01      2022-11-01       Monthly   \n",
       "\n",
       "               frequency_short               units         units_short  \\\n",
       "series id                                                                \n",
       "BAMLH0A0HYM2                 D             Percent                   %   \n",
       "CSUSHPINSA                   M  Index Jan 2000=100  Index Jan 2000=100   \n",
       "SP500                        D               Index               Index   \n",
       "BAMLH0A0HYM2EY               D             Percent                   %   \n",
       "CSUSHPISA                    M  Index Jan 2000=100  Index Jan 2000=100   \n",
       "\n",
       "                    seasonal_adjustment seasonal_adjustment_short  \\\n",
       "series id                                                           \n",
       "BAMLH0A0HYM2    Not Seasonally Adjusted                       NSA   \n",
       "CSUSHPINSA      Not Seasonally Adjusted                       NSA   \n",
       "SP500           Not Seasonally Adjusted                       NSA   \n",
       "BAMLH0A0HYM2EY  Not Seasonally Adjusted                       NSA   \n",
       "CSUSHPISA           Seasonally Adjusted                        SA   \n",
       "\n",
       "                             last_updated popularity  \\\n",
       "series id                                              \n",
       "BAMLH0A0HYM2    2023-02-17 09:22:17-06:00         94   \n",
       "CSUSHPINSA      2023-01-31 08:01:02-06:00         90   \n",
       "SP500           2023-02-17 19:10:50-06:00         84   \n",
       "BAMLH0A0HYM2EY  2023-02-17 09:22:16-06:00         84   \n",
       "CSUSHPISA       2023-01-31 08:01:04-06:00         81   \n",
       "\n",
       "                                                            notes  \n",
       "series id                                                          \n",
       "BAMLH0A0HYM2    The ICE BofA Option-Adjusted Spreads (OASs) ar...  \n",
       "CSUSHPINSA      For more information regarding the index, plea...  \n",
       "SP500           The observations for the S&P 500 represent the...  \n",
       "BAMLH0A0HYM2EY  This data represents the effective yield of th...  \n",
       "CSUSHPISA       For more information regarding the index, plea...  "
      ]
     },
     "execution_count": 291,
     "metadata": {},
     "output_type": "execute_result"
    }
   ],
   "source": [
    "sp_df.head()"
   ]
  },
  {
   "cell_type": "markdown",
   "metadata": {},
   "source": [
    "# 3. Pull data & Plot"
   ]
  },
  {
   "cell_type": "code",
   "execution_count": 292,
   "metadata": {},
   "outputs": [],
   "source": [
    "sp500 = fred.get_series(series_id='SP500')"
   ]
  },
  {
   "cell_type": "code",
   "execution_count": 293,
   "metadata": {},
   "outputs": [
    {
     "data": {
      "text/plain": [
       "<Axes: title={'center': 'S&P 500'}>"
      ]
     },
     "execution_count": 293,
     "metadata": {},
     "output_type": "execute_result"
    },
    {
     "data": {
      "image/png": "[encoded data removed]",
      "text/plain": [
       "<Figure size 720x360 with 1 Axes>"
      ]
     },
     "metadata": {
      "needs_background": "light"
     },
     "output_type": "display_data"
    }
   ],
   "source": [
    "sp500.plot(figsize=(10,5), title='S&P 500', lw=0.5)"
   ]
  },
  {
   "cell_type": "code",
   "execution_count": 357,
   "metadata": {},
   "outputs": [],
   "source": [
    "gdp_search = fred.search('GDPC1')"
   ]
  },
  {
   "cell_type": "code",
   "execution_count": 359,
   "metadata": {},
   "outputs": [],
   "source": [
    "gdp_df = fred.get_series(series_id='GDPC1')"
   ]
  },
  {
   "cell_type": "code",
   "execution_count": 361,
   "metadata": {},
   "outputs": [
    {
     "data": {
      "text/plain": [
       "<Axes: title={'center': 'Real GDP'}>"
      ]
     },
     "execution_count": 361,
     "metadata": {},
     "output_type": "execute_result"
    },
    {
     "data": {
      "image/png": "[encoded data removed]",
      "text/plain": [
       "<Figure size 720x360 with 1 Axes>"
      ]
     },
     "metadata": {
      "needs_background": "light"
     },
     "output_type": "display_data"
    }
   ],
   "source": [
    "gdp_df.plot(figsize=(10,5), title='Real GDP')"
   ]
  },
  {
   "cell_type": "markdown",
   "metadata": {},
   "source": [
    "# Maybe a better question is does more GDP = more personal income? In states where that is the case, do home prices increase at a faster rate?\n",
    "\n",
    "\n",
    "https://www.bea.gov/data/economic-accounts/regional/"
   ]
  },
  {
   "cell_type": "markdown",
   "metadata": {},
   "source": [
    "# BEA data"
   ]
  },
  {
   "cell_type": "code",
   "execution_count": 347,
   "metadata": {},
   "outputs": [],
   "source": [
    "# Initialize API client using wrapper\n",
    "# bea = BureauEconomicAnalysisClient(os.getenv('API_KEY'))"
   ]
  },
  {
   "cell_type": "code",
   "execution_count": 312,
   "metadata": {},
   "outputs": [],
   "source": [
    "# List all datasets (careful it shows your api key)\n",
    "# pprint(bea.get_dataset_list()) "
   ]
  },
  {
   "cell_type": "code",
   "execution_count": 340,
   "metadata": {},
   "outputs": [],
   "source": [
    "# List all parameters\n",
    "# pprint(bea.get_parameters_list(dataset_name='Regional'))"
   ]
  },
  {
   "cell_type": "code",
   "execution_count": 346,
   "metadata": {},
   "outputs": [],
   "source": [
    "# def getBea(dataset_name, method, params):\n",
    "#     base_url = \"https://apps.bea.gov/api/data/\"\n",
    "#     url = base_url + f\"?&UserID=\" + os.getenv('API_KEY') + \"&method=\" + method + \"&datasetname=\" + dataset_name + \"&\" + params\n",
    "#     response = requests.get(url)\n",
    "#     response_dict = response.json()\n",
    "\n",
    "#     if response_dict['BEAAPI']['Results']['Error'] is not None:\n",
    "#         print(response_dict['BEAAPI']['Results']['Error'])\n",
    "#         return None\n",
    "\n",
    "#     data = response_dict['BEAAPI']['Results']['Data']\n",
    "\n",
    "#     return data"
   ]
  },
  {
   "cell_type": "code",
   "execution_count": 345,
   "metadata": {},
   "outputs": [],
   "source": [
    "# dataset_name = \"NIPA\"\n",
    "# method = \"GetData\"\n",
    "# params = \"Year=2021&TableID=2&Frequency=Q&ResultFormat=json\"\n",
    "\n",
    "# data = getBea(dataset_name, method, params)\n",
    "\n",
    "# print(data)"
   ]
  },
  {
   "cell_type": "code",
   "execution_count": 344,
   "metadata": {},
   "outputs": [],
   "source": [
    "# method = 'Regional'\n",
    "\n",
    "\n",
    "# url = f\"https://apps.bea.gov/api/data?&UserID={os.getenv('API_KEY')}&method={method}&resultformat=JSON\"\n",
    "# response = requests.post(url, data=data)\n",
    "# if response.status_code == 200:\n",
    "#     data = response.json()\n",
    "# else:\n",
    "#     print(f\"Error: {response.status_code}\")"
   ]
  },
  {
   "cell_type": "code",
   "execution_count": null,
   "metadata": {},
   "outputs": [],
   "source": []
  }
 ],
 "metadata": {
  "kernelspec": {
   "display_name": "Python 3",
   "language": "python",
   "name": "python3"
  },
  "language_info": {
   "codemirror_mode": {
    "name": "ipython",
    "version": 3
   },
   "file_extension": ".py",
   "mimetype": "text/x-python",
   "name": "python",
   "nbconvert_exporter": "python",
   "pygments_lexer": "ipython3",
   "version": "3.8.5"
  }
 },
 "nbformat": 4,
 "nbformat_minor": 5
}
