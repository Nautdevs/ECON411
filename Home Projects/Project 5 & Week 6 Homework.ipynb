{
 "cells": [
  {
   "cell_type": "markdown",
   "id": "b1eec48b",
   "metadata": {},
   "source": [
    "### Exercises\n",
    "1. Create a list of random numbers between 0 and 100 whose length is 1000. (Hint: import random; search \"python random\" to learn more about the library.)\n",
    "\n",
    "2. Use the variance function from the textbook to find the variance of this list. Assume that the list represent a population in whole. \n",
    "\n",
    "3. Create a 9 more lists of the same length whose elements are random numbers between 0 and 100. Use a nested dictionary to house and identify these lists. Keys for the first layer should be the numbers 1 through 10. Lists should be stored using a second key as follows: dict_name[index][\"list\"]. Index represents the particular integer key between 1 and 10 as noted above.\n",
    "\n",
    "4. Find the variance of each list and store it as follows: dict_name[index][\"variance\"].\n",
    "\n",
    "5. At the end of chapter 2, we used for loops to find min and max values. Create a min() function and max() function and pass the values from the list in question 1 to each of these to determine the min and max values in that list.\n",
    "\n",
    "6. Explain why it might be advantageous to create a function instead of building all commands from scratch as you create a script.\n",
    "\n",
    "### Exploration:\n",
    "1. Visit the Python Essentials lesson from Sargent and Stachurski. Complete exercise 3. Pass 3 other sentences to the function that you create. Include a paragraph that explains in detail how the function operates\n",
    "\n",
    "2. Visit the Python Essentials lesson from Sargent and Stachurski. Complete exercise 4. Pass 3 pairs of unique lists to the function. Include a paragraph explaining in detail how the function operates, including explanation for a solution that uses set().\n",
    "\n"
   ]
  },
  {
   "cell_type": "markdown",
   "id": "1f41a5cb",
   "metadata": {},
   "source": [
    "Agreed due date: February 19, 2023"
   ]
  },
  {
   "cell_type": "markdown",
   "id": "d40b082b",
   "metadata": {},
   "source": [
    "Week 6: Submit Project Proposal in Jupyter Notebook\n",
    "(1000 words; at least 2 data sources; at least 2 different types \n"
   ]
  }
 ],
 "metadata": {
  "kernelspec": {
   "display_name": "Python 3 (ipykernel)",
   "language": "python",
   "name": "python3"
  },
  "language_info": {
   "codemirror_mode": {
    "name": "ipython",
    "version": 3
   },
   "file_extension": ".py",
   "mimetype": "text/x-python",
   "name": "python",
   "nbconvert_exporter": "python",
   "pygments_lexer": "ipython3",
   "version": "3.9.13"
  }
 },
 "nbformat": 4,
 "nbformat_minor": 5
}
