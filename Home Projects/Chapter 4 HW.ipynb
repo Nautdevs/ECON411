{
 "cells": [
  {
   "attachments": {},
   "cell_type": "markdown",
   "metadata": {},
   "source": [
    "What other feature would be useful to include in these functions? What about parameters for different font sizes, size and colors of points and lines in scatter plots?\n",
    "\n",
    "### Exercises:\n",
    "\n",
    "1. Create an array with (100) elements using np.arange()\n",
    "\n",
    "2. Create two numpy arrays whose values are neither all 0 or 1. Multiply the two arrays and save the result i.e., result = array1 * array2.\n",
    "\n",
    "3. Create a dictionary where each key points to a unique numpy array. All arrays should be of the same length. Then transform that dictionary into a pandas dataframe.\n",
    "\n",
    "4. Import a data set for your project in pandas. You may use whatever means you prefer to import the data. Print the dataframe.\n",
    "\n",
    "5. Create a new column of data derived from the data that you have already imported. hint: this may be a ratio or whatever transformation that you think would be useful...\n",
    "\n",
    "6. Use a for loop to print individually each column in the dataframe.\n",
    "\n",
    "7. Create a function that plots 2 to 3 different variables from the dataframe. The function may look something like \"def plot_data(df,names, etc...). Each plot should include a legend and title.\n",
    "\n",
    "8. Create a bar graph plot using the data you have imported.\n",
    "\n",
    "9. On any of the graphs you have created, change the font size, axis labels, tick labels, color, linewidth, and so forth. Adjust these parameters to make the visualization aesthetically appealing..\n"
   ]
  },
  {
   "attachments": {},
   "cell_type": "markdown",
   "metadata": {},
   "source": [
    "# 1"
   ]
  },
  {
   "cell_type": "code",
   "execution_count": 4,
   "metadata": {},
   "outputs": [
    {
     "data": {
      "text/plain": [
       "100"
      ]
     },
     "execution_count": 4,
     "metadata": {},
     "output_type": "execute_result"
    }
   ],
   "source": [
    "import numpy as np, pandas as pd, matplotlib as mpl\n",
    "array = np.arange(100)\n",
    "len(array)"
   ]
  },
  {
   "attachments": {},
   "cell_type": "markdown",
   "metadata": {},
   "source": [
    "# 2"
   ]
  },
  {
   "cell_type": "code",
   "execution_count": 9,
   "metadata": {},
   "outputs": [
    {
     "name": "stdout",
     "output_type": "stream",
     "text": [
      "[0. 0. 0. 0. 0.]\n"
     ]
    }
   ],
   "source": [
    "zerosArray = np.zeros(5)\n",
    "onesArray = np.ones(5)\n",
    "def mult(a,b):\n",
    "    result = a * b\n",
    "    return result\n",
    "multArray = mult(zerosArray, onesArray)\n",
    "print(multArray)"
   ]
  },
  {
   "attachments": {},
   "cell_type": "markdown",
   "metadata": {},
   "source": [
    "# 3"
   ]
  },
  {
   "cell_type": "code",
   "execution_count": 12,
   "metadata": {},
   "outputs": [
    {
     "name": "stdout",
     "output_type": "stream",
     "text": [
      "                0    1    2    3    4\n",
      "First Array   0.0  0.0  0.0  0.0  0.0\n",
      "Second Array  1.0  1.0  1.0  1.0  1.0\n",
      "Third Array   0.0  0.0  0.0  0.0  0.0\n"
     ]
    }
   ],
   "source": [
    "dict = {\"First Array\": zerosArray, \"Second Array\": onesArray, \"Third Array\": multArray}\n",
    "df = pd.DataFrame(dict)\n",
    "print(df.T)\n"
   ]
  },
  {
   "attachments": {},
   "cell_type": "markdown",
   "metadata": {},
   "source": [
    "# 4"
   ]
  },
  {
   "cell_type": "code",
   "execution_count": null,
   "metadata": {},
   "outputs": [],
   "source": []
  },
  {
   "attachments": {},
   "cell_type": "markdown",
   "metadata": {},
   "source": [
    "# 5"
   ]
  },
  {
   "cell_type": "code",
   "execution_count": null,
   "metadata": {},
   "outputs": [],
   "source": []
  },
  {
   "attachments": {},
   "cell_type": "markdown",
   "metadata": {},
   "source": [
    "# 6"
   ]
  },
  {
   "cell_type": "code",
   "execution_count": null,
   "metadata": {},
   "outputs": [],
   "source": []
  },
  {
   "attachments": {},
   "cell_type": "markdown",
   "metadata": {},
   "source": [
    "# 7"
   ]
  },
  {
   "cell_type": "code",
   "execution_count": null,
   "metadata": {},
   "outputs": [],
   "source": []
  },
  {
   "attachments": {},
   "cell_type": "markdown",
   "metadata": {},
   "source": [
    "# 8"
   ]
  },
  {
   "cell_type": "code",
   "execution_count": null,
   "metadata": {},
   "outputs": [],
   "source": []
  },
  {
   "attachments": {},
   "cell_type": "markdown",
   "metadata": {},
   "source": [
    "# 9"
   ]
  },
  {
   "cell_type": "code",
   "execution_count": null,
   "metadata": {},
   "outputs": [],
   "source": []
  }
 ],
 "metadata": {
  "kernelspec": {
   "display_name": "Python 3",
   "language": "python",
   "name": "python3"
  },
  "language_info": {
   "codemirror_mode": {
    "name": "ipython",
    "version": 3
   },
   "file_extension": ".py",
   "mimetype": "text/x-python",
   "name": "python",
   "nbconvert_exporter": "python",
   "pygments_lexer": "ipython3",
   "version": "3.9.5"
  },
  "orig_nbformat": 4,
  "vscode": {
   "interpreter": {
    "hash": "081900b9bb118c517ac80c3d66bfaa638375828be94533b3225786867613032f"
   }
  }
 },
 "nbformat": 4,
 "nbformat_minor": 2
}
