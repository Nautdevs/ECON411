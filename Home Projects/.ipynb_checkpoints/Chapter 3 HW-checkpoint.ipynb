{
 "cells": [
  {
   "cell_type": "markdown",
   "metadata": {},
   "source": [
    "Create a dictionary with the same structure as the dictionary we created in the in class project for 10 professionals or specialists that you admire. The dictionary should include keys that identify the name of the professional, their area of expertise, a short biography, and a link to their website (or social media profile if no website is available). Print the dataframe and save this dataframe as a csv."
   ]
  },
  {
   "cell_type": "code",
   "execution_count": 25,
   "metadata": {},
   "outputs": [],
   "source": [
    "import pandas as pd\n",
    "import numpy as np\n",
    "# you can scrape using beautifulSoup\n",
    "table = pd.read_html('https://www.ndsu.edu/agriculture/academics/faculty-and-staff', match='Bangsund, Dean')"
   ]
  },
  {
   "cell_type": "code",
   "execution_count": 26,
   "metadata": {},
   "outputs": [
    {
     "name": "stdout",
     "output_type": "stream",
     "text": [
      "1\n"
     ]
    },
    {
     "data": {
      "text/html": [
       "<div>\n",
       "<style scoped>\n",
       "    .dataframe tbody tr th:only-of-type {\n",
       "        vertical-align: middle;\n",
       "    }\n",
       "\n",
       "    .dataframe tbody tr th {\n",
       "        vertical-align: top;\n",
       "    }\n",
       "\n",
       "    .dataframe thead th {\n",
       "        text-align: right;\n",
       "    }\n",
       "</style>\n",
       "<table border=\"1\" class=\"dataframe\">\n",
       "  <thead>\n",
       "    <tr style=\"text-align: right;\">\n",
       "      <th></th>\n",
       "      <th>Name</th>\n",
       "      <th>Position</th>\n",
       "      <th>Email</th>\n",
       "      <th>Phone</th>\n",
       "    </tr>\n",
       "  </thead>\n",
       "  <tbody>\n",
       "    <tr>\n",
       "      <th>0</th>\n",
       "      <td>Bangsund, Dean</td>\n",
       "      <td>Research Scientist</td>\n",
       "      <td>d.bangsund@ndsu.edu</td>\n",
       "      <td>Phone  701-231-7471</td>\n",
       "    </tr>\n",
       "    <tr>\n",
       "      <th>1</th>\n",
       "      <td>Biermacher, Jon</td>\n",
       "      <td>Extension Livestock Development Specialist</td>\n",
       "      <td>jon.biermacher@ndsu.edu</td>\n",
       "      <td>Phone  701-231-7379</td>\n",
       "    </tr>\n",
       "    <tr>\n",
       "      <th>2</th>\n",
       "      <td>Bullock, David</td>\n",
       "      <td>Research Assoc Professor</td>\n",
       "      <td>david.w.bullock@ndsu.edu</td>\n",
       "      <td>Phone  701-231-8672</td>\n",
       "    </tr>\n",
       "    <tr>\n",
       "      <th>3</th>\n",
       "      <td>Carney, Jennifer</td>\n",
       "      <td>Student Services Director</td>\n",
       "      <td>Jennifer.Carney@ndsu.edu</td>\n",
       "      <td>Phone  701-231-7442</td>\n",
       "    </tr>\n",
       "    <tr>\n",
       "      <th>4</th>\n",
       "      <td>Caton, James</td>\n",
       "      <td>Assistant Professor</td>\n",
       "      <td>james.caton@ndsu.edu</td>\n",
       "      <td>Phone  701-231-7337</td>\n",
       "    </tr>\n",
       "    <tr>\n",
       "      <th>5</th>\n",
       "      <td>Dean, James</td>\n",
       "      <td>Assistant Professor of Economics</td>\n",
       "      <td>james.dean.1@ndsu.edu</td>\n",
       "      <td>Phone  701-231-9797</td>\n",
       "    </tr>\n",
       "    <tr>\n",
       "      <th>6</th>\n",
       "      <td>Englund, David</td>\n",
       "      <td>Senior Lecturer</td>\n",
       "      <td>david.englund@ndsu.edu</td>\n",
       "      <td>Phone  701-231-6641</td>\n",
       "    </tr>\n",
       "    <tr>\n",
       "      <th>7</th>\n",
       "      <td>Haakenson, Paulann</td>\n",
       "      <td>Information Processing Specialist</td>\n",
       "      <td>paulann.haakenson@ndsu.edu</td>\n",
       "      <td>Phone  701-231-7393</td>\n",
       "    </tr>\n",
       "    <tr>\n",
       "      <th>8</th>\n",
       "      <td>Hanson, Erik</td>\n",
       "      <td>Assistant Professor</td>\n",
       "      <td>erik.drevlow.hanson@ndsu.edu</td>\n",
       "      <td>Phone  701-231-5747</td>\n",
       "    </tr>\n",
       "    <tr>\n",
       "      <th>9</th>\n",
       "      <td>Haugen, Ron</td>\n",
       "      <td>Farm Management Specialist</td>\n",
       "      <td>ronald.haugen@ndsu.edu</td>\n",
       "      <td>Phone  701-231-8103</td>\n",
       "    </tr>\n",
       "  </tbody>\n",
       "</table>\n",
       "</div>"
      ],
      "text/plain": [
       "                 Name                                    Position  \\\n",
       "0      Bangsund, Dean                          Research Scientist   \n",
       "1     Biermacher, Jon  Extension Livestock Development Specialist   \n",
       "2      Bullock, David                    Research Assoc Professor   \n",
       "3    Carney, Jennifer                   Student Services Director   \n",
       "4        Caton, James                         Assistant Professor   \n",
       "5         Dean, James            Assistant Professor of Economics   \n",
       "6      Englund, David                             Senior Lecturer   \n",
       "7  Haakenson, Paulann           Information Processing Specialist   \n",
       "8        Hanson, Erik                         Assistant Professor   \n",
       "9         Haugen, Ron                  Farm Management Specialist   \n",
       "\n",
       "                          Email                Phone  \n",
       "0           d.bangsund@ndsu.edu  Phone  701-231-7471  \n",
       "1       jon.biermacher@ndsu.edu  Phone  701-231-7379  \n",
       "2      david.w.bullock@ndsu.edu  Phone  701-231-8672  \n",
       "3      Jennifer.Carney@ndsu.edu  Phone  701-231-7442  \n",
       "4          james.caton@ndsu.edu  Phone  701-231-7337  \n",
       "5         james.dean.1@ndsu.edu  Phone  701-231-9797  \n",
       "6        david.englund@ndsu.edu  Phone  701-231-6641  \n",
       "7    paulann.haakenson@ndsu.edu  Phone  701-231-7393  \n",
       "8  erik.drevlow.hanson@ndsu.edu  Phone  701-231-5747  \n",
       "9        ronald.haugen@ndsu.edu  Phone  701-231-8103  "
      ]
     },
     "execution_count": 26,
     "metadata": {},
     "output_type": "execute_result"
    }
   ],
   "source": [
    "print(len(table))\n",
    "df = table[0]\n",
    "df.head(10)"
   ]
  },
  {
   "cell_type": "code",
   "execution_count": 27,
   "metadata": {},
   "outputs": [],
   "source": [
    "df.to_excel(\"List.xls\")"
   ]
  },
  {
   "cell_type": "code",
   "execution_count": null,
   "metadata": {},
   "outputs": [],
   "source": []
  }
 ],
 "metadata": {
  "kernelspec": {
   "display_name": "Python 3",
   "language": "python",
   "name": "python3"
  },
  "language_info": {
   "codemirror_mode": {
    "name": "ipython",
    "version": 3
   },
   "file_extension": ".py",
   "mimetype": "text/x-python",
   "name": "python",
   "nbconvert_exporter": "python",
   "pygments_lexer": "ipython3",
   "version": "3.8.5"
  }
 },
 "nbformat": 4,
 "nbformat_minor": 4
}
