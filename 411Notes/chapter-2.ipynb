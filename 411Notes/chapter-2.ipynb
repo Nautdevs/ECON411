{
 "cells": [
  {
   "cell_type": "code",
   "execution_count": 1,
   "metadata": {},
   "outputs": [
    {
     "name": "stdout",
     "output_type": "stream",
     "text": [
      "[]\n",
      "[1, 2, 3, 4, 5]\n",
      "[1.0, 2.0, 3.0, 4.0, 5.0]\n",
      "['This is a string', 'This is also a string']\n",
      "[1, 2.0, 'Mix it up']\n"
     ]
    }
   ],
   "source": [
    "#lists.py\n",
    "empty_list = []\n",
    "int_list = [1,2,3,4,5]\n",
    "float_list = [1.0, 2.0, 3.0, 4.0, 5.0]\n",
    "string_list = [\"This is a string\", \"This is also a string\"]\n",
    "mixed_list = [1,2.0, \"Mix it up\"]\n",
    "\n",
    "\n",
    "print(empty_list)\n",
    "print(int_list)\n",
    "print(float_list)\n",
    "print(string_list)\n",
    "print(mixed_list)\n"
   ]
  },
  {
   "cell_type": "code",
   "execution_count": 2,
   "metadata": {},
   "outputs": [
    {
     "name": "stdout",
     "output_type": "stream",
     "text": [
      "list1:  [1, 2, 3, 4]\n",
      "list2:  [5, 6, 7, 8]\n",
      "[1, 2, 3, 4, 5, 6, 7, 8]\n"
     ]
    }
   ],
   "source": [
    "#concatenate lists\n",
    "\n",
    "list1 = [1,2,3,4]\n",
    "list2 = [5,6,7,8]\n",
    "join_lists = list1+list2\n",
    "\n",
    "print(\"list1: \", list1)\n",
    "print(\"list2: \", list2)\n",
    "print(join_lists)"
   ]
  },
  {
   "cell_type": "code",
   "execution_count": 3,
   "metadata": {},
   "outputs": [
    {
     "name": "stdout",
     "output_type": "stream",
     "text": [
      "This is loop i\n",
      "This is loop i\n",
      "This is loop i\n",
      "This is loop i\n",
      "This is loop i\n"
     ]
    }
   ],
   "source": [
    "for i in range(1, 10, 2):\n",
    "    print(\"This is loop i\")"
   ]
  },
  {
   "cell_type": "code",
   "execution_count": 4,
   "metadata": {},
   "outputs": [
    {
     "name": "stdout",
     "output_type": "stream",
     "text": [
      "This is another list, but we copied the indices in list1 to it:\n",
      " [1, 2, 3, 4]\n"
     ]
    }
   ],
   "source": [
    "another_list = []\n",
    "for i in range(len(list1)):\n",
    "    another_list.append(list1[i])\n",
    "print(\"This is another list, but we copied the indices in list1 to it:\\n\", another_list)"
   ]
  },
  {
   "cell_type": "code",
   "execution_count": 5,
   "metadata": {},
   "outputs": [
    {
     "data": {
      "text/plain": [
       "4"
      ]
     },
     "execution_count": 5,
     "metadata": {},
     "output_type": "execute_result"
    }
   ],
   "source": [
    "len(another_list)"
   ]
  },
  {
   "cell_type": "markdown",
   "metadata": {},
   "source": [
    "### Creating a New List using Values from Other Lists"
   ]
  },
  {
   "cell_type": "markdown",
   "metadata": {},
   "source": [
    "| this is a table | Chequelo |\n",
    "|-----------------|----------|\n",
    "|column | column|"
   ]
  },
  {
   "cell_type": "markdown",
   "metadata": {},
   "source": [
    "|concepts|description|\n",
    "|---|---|\n",
    "|.append() and .insert() list methods|List methods append and insert increse the length of a list by adding in element to the list.|\n",
    "|if statements| If statements execute the block of code contained in it if conditions are met (returns true)|\n",
    "|else statement|this is the default case for if statements in the case the conditions are not met|\n",
    "|conditional operators in python (==, !=, <, >, <=, >=)| indicates the condition relating two variables|"
   ]
  },
  {
   "cell_type": "code",
   "execution_count": 6,
   "metadata": {},
   "outputs": [
    {
     "name": "stdout",
     "output_type": "stream",
     "text": [
      "list uno's elements: 1 2 3 4 5\n",
      "Element: 0 Value: 7\n",
      "Element: 1 Value: 8\n",
      "Element: 2 Value: 9\n",
      "Element: 3 Value: 10\n",
      "Element: 4 Value: 11\n",
      "Element: 5 Value: 12\n",
      "Element: 6 Value: 13\n",
      "[8, 10, 12, 14, 16, 18]\n"
     ]
    }
   ],
   "source": [
    "#addListElements.py\n",
    "camelCaseListUno = [1,2,3,4,5,6]\n",
    "camelCaseListDos = [7,8,9,10,11,12,13]\n",
    "print(\"list uno's elements:\", camelCaseListUno[0], camelCaseListUno[1],camelCaseListUno[2], camelCaseListUno[3], camelCaseListUno[4])\n",
    "# I am too lazy to type out list dos so I will just use a for loop\n",
    "\n",
    "for i in range(len(camelCaseListDos)):\n",
    "    print(\"Element:\", i, \"Value:\", camelCaseListDos[i])\n",
    "    \n",
    "empty_list = []\n",
    "for i in range(len(camelCaseListUno)):\n",
    "    empty_list.append(camelCaseListDos[i] + camelCaseListUno[i])\n",
    "\n",
    "print(empty_list)"
   ]
  },
  {
   "cell_type": "code",
   "execution_count": 7,
   "metadata": {},
   "outputs": [
    {
     "name": "stdout",
     "output_type": "stream",
     "text": [
      "[6, 5, 4, 3, 2, 1]\n"
     ]
    }
   ],
   "source": [
    "empty_list = []\n",
    "for i in range(len(camelCaseListUno)):\n",
    "    empty_list.insert(0,camelCaseListUno[i])\n",
    "    \n",
    "print(empty_list)"
   ]
  },
  {
   "cell_type": "code",
   "execution_count": 8,
   "metadata": {},
   "outputs": [
    {
     "name": "stdout",
     "output_type": "stream",
     "text": [
      "index 0 doesn't satisfy the condition\n",
      "This is index: 1 \n",
      "With Value: 2\n",
      "index 2 doesn't satisfy the condition\n",
      "This is index: 3 \n",
      "With Value: 4\n",
      "index 4 doesn't satisfy the condition\n",
      "This is index: 5 \n",
      "With Value: 6\n",
      "index 6 doesn't satisfy the condition\n",
      "This is index: 7 \n",
      "With Value: 8\n",
      "index 8 doesn't satisfy the condition\n",
      "This is index: 9 \n",
      "With Value: 10\n",
      "index 10 doesn't satisfy the condition\n"
     ]
    }
   ],
   "source": [
    "x = [1,2,3,4,5,6,7,8,9,10,11]\n",
    "y = [12,13,14,15,16,17,18]\n",
    "\n",
    "for i in range(len(x)):\n",
    "    if (x[i]%2<1):\n",
    "        print(\"This is index:\",i, \"\\nWith Value:\", x[i])\n",
    "    else:\n",
    "        print(\"index\", i, \"doesn't satisfy the condition\")\n"
   ]
  },
  {
   "cell_type": "markdown",
   "metadata": {},
   "source": [
    "### Methods to remove list elements"
   ]
  },
  {
   "cell_type": "markdown",
   "metadata": {},
   "source": [
    "| method | description|\n",
    "|---|---|\n",
    "|del|deletes an element from a list, this is a command and not a method (keyword)|\n",
    "|pop()|removes the last element|\n",
    "|remove()|deletes an explicitly identified element|\n",
    "|append|adds an additional elements at the end of a list|\n"
   ]
  },
  {
   "cell_type": "code",
   "execution_count": 1,
   "metadata": {},
   "outputs": [
    {
     "name": "stdout",
     "output_type": "stream",
     "text": [
      "Lists before deleting elements:\n",
      "red \t sky blue\n",
      "green \t sky green\n",
      "blue \t sky purple\n",
      "indigo \t lilac\n",
      "Lists after deleting elements:\n",
      "green \t sky blue\n",
      "blue \t sky green\n",
      "indigo \t sky purple\n"
     ]
    }
   ],
   "source": [
    "#deleteListElements.py\n",
    "L1 = [\"red\",\"green\", \"blue\", \"indigo\"]\n",
    "L2 = [\"sky blue\", \"sky green\", \"sky purple\", \"lilac\"]\n",
    "\n",
    "print(\"Lists before deleting elements:\")\n",
    "for i in range(len(L1)):\n",
    "    print(L1[i], \"\\t\", L2[i])\n",
    "\n",
    "del L1[0]\n",
    "del L2[3]\n",
    "print(\"Lists after deleting elements:\")\n",
    "for i in range(len(L1)):\n",
    "    print(L1[i], \"\\t\", L2[i])\n"
   ]
  },
  {
   "cell_type": "code",
   "execution_count": 2,
   "metadata": {},
   "outputs": [
    {
     "name": "stdout",
     "output_type": "stream",
     "text": [
      "green \t sky blue\n",
      "blue \t sky green\n",
      "indigo \t lilac\n"
     ]
    }
   ],
   "source": [
    "#deleteListElements.py\n",
    "L1 = [\"red\",\"green\", \"blue\", \"indigo\"]\n",
    "L2 = [\"sky blue\", \"sky green\", \"sky purple\", \"lilac\"]\n",
    "\n",
    "L1.remove(\"red\")\n",
    "L2.remove(\"sky purple\")\n",
    "\n",
    "for i in range(len(L1)):\n",
    "    print(L1[i], \"\\t\", L2[i])"
   ]
  },
  {
   "cell_type": "code",
   "execution_count": 4,
   "metadata": {},
   "outputs": [
    {
     "name": "stdout",
     "output_type": "stream",
     "text": [
      "j False\n",
      "k True\n",
      "j False\n",
      "f False\n",
      "d False\n",
      "h False\n",
      "s False\n",
      "k True\n",
      "l False\n",
      "j False\n",
      "f False\n",
      "d False\n",
      "a False\n",
      "p False\n",
      "j False\n",
      "d False\n",
      "k True\n",
      "f False\n",
      "k True\n",
      "w False\n",
      "e False\n",
      "k True\n",
      "r False\n",
      "d False\n",
      "f False\n",
      "k True\n"
     ]
    }
   ],
   "source": [
    "string1 = 'jkjfdhskljfdapjdkfkwekrdfk'\n",
    "\n",
    "for k in string1:\n",
    "    print(k, k==\"k\")"
   ]
  },
  {
   "cell_type": "markdown",
   "metadata": {},
   "source": [
    "You can pass the remove method a variable containing variables containing explicit values you want to remove."
   ]
  },
  {
   "cell_type": "code",
   "execution_count": 11,
   "metadata": {},
   "outputs": [
    {
     "name": "stdout",
     "output_type": "stream",
     "text": [
      "lists before deletion: \n",
      "red \t nose\n",
      "blue \t ice\n",
      "orange \t fire\n",
      "black \t cat\n",
      "white \t mouse\n",
      "golden \t dog\n",
      "\n",
      "lists after deletion: \n",
      "blue \t nose\n",
      "orange \t ice\n",
      "black \t fire\n",
      "white \t cat\n",
      "golden \t mouse\n",
      "\n",
      "Res1 \tRes2\n",
      "red \tdog\n"
     ]
    }
   ],
   "source": [
    "#removeAndSaveListElementsPop.py\n",
    "\n",
    "#define list1 and list2\n",
    "list1 = [\"red\", \"blue\", \"orange\", \"black\", \"white\", \"golden\"]\n",
    "list2 = [\"nose\", \"ice\", \"fire\", \"cat\", \"mouse\", \"dog\"]\n",
    "\n",
    "#identify what is printed in for loop\n",
    "print(\"lists before deletion: \")\n",
    "if len(list1) == len(list2):\n",
    "    # use for loop to print lists in parallel\n",
    "    for i in range(len(list1)):\n",
    "        print(list1[i],\"\\t\", list2[i])\n",
    "    \n",
    "# pass remove the values you want to remove\n",
    "list1_res = \"red\"\n",
    "list2_res = \"dog\"\n",
    "list1.remove(list1_res)\n",
    "list2.remove(list2_res)\n",
    "\n",
    "print()\n",
    "# print lists again as in lines 8-11\n",
    "print(\"lists after deletion: \")\n",
    "if len(list1) == len(list2):\n",
    "    for i in range(len(list1)):\n",
    "        print(list1[i], \"\\t\",list2[i])\n",
    "     \n",
    "print()\n",
    "print(\"Res1\", \"\\tRes2\")\n",
    "print(list1_res, \"\\t\" + (list2_res))"
   ]
  },
  {
   "cell_type": "code",
   "execution_count": 12,
   "metadata": {},
   "outputs": [
    {
     "name": "stdout",
     "output_type": "stream",
     "text": [
      "lists before deletion: \n",
      "red \t nose\n",
      "blue \t ice\n",
      "orange \t fire\n",
      "black \t cat\n",
      "white \t mouse\n",
      "golden \t dog\n"
     ]
    }
   ],
   "source": [
    "#define list1 and list2\n",
    "list1 = [\"red\", \"blue\", \"orange\", \"black\", \"white\", \"golden\"]\n",
    "list2 = [\"nose\", \"ice\", \"fire\", \"cat\", \"mouse\", \"dog\"]\n",
    "\n",
    "#identify what is printed in for loop\n",
    "print(\"lists before deletion: \")\n",
    "if len(list1) == len(list2):\n",
    "    # use for loop to print lists in parallel\n",
    "    for i in range(len(list1)):\n",
    "        print(list1[i],\"\\t\", list2[i])\n",
    "    \n",
    "# pass remove the values you want to remove\n",
    "list1_res = \"red\"\n",
    "list2_res = \"dog\""
   ]
  },
  {
   "cell_type": "code",
   "execution_count": 13,
   "metadata": {
    "scrolled": true
   },
   "outputs": [
    {
     "name": "stdout",
     "output_type": "stream",
     "text": [
      "lists after deletion: \n",
      "black \t ice\n",
      "white \t fire\n",
      "golden \t cat\n"
     ]
    },
    {
     "ename": "IndexError",
     "evalue": "list index out of range",
     "output_type": "error",
     "traceback": [
      "\u001b[1;31m---------------------------------------------------------------------------\u001b[0m",
      "\u001b[1;31mIndexError\u001b[0m                                Traceback (most recent call last)",
      "\u001b[1;32m<ipython-input-13-69165d010385>\u001b[0m in \u001b[0;36m<module>\u001b[1;34m\u001b[0m\n\u001b[0;32m      7\u001b[0m \u001b[1;32mif\u001b[0m \u001b[0mlen\u001b[0m\u001b[1;33m(\u001b[0m\u001b[0mlist1\u001b[0m\u001b[1;33m)\u001b[0m \u001b[1;33m==\u001b[0m \u001b[0mlen\u001b[0m\u001b[1;33m(\u001b[0m\u001b[0mlist2\u001b[0m\u001b[1;33m)\u001b[0m\u001b[1;33m:\u001b[0m\u001b[1;33m\u001b[0m\u001b[1;33m\u001b[0m\u001b[0m\n\u001b[0;32m      8\u001b[0m     \u001b[1;32mfor\u001b[0m \u001b[0mi\u001b[0m \u001b[1;32min\u001b[0m \u001b[0mrange\u001b[0m\u001b[1;33m(\u001b[0m\u001b[0mlen\u001b[0m\u001b[1;33m(\u001b[0m\u001b[0mlist1\u001b[0m\u001b[1;33m)\u001b[0m\u001b[1;33m)\u001b[0m\u001b[1;33m:\u001b[0m\u001b[1;33m\u001b[0m\u001b[1;33m\u001b[0m\u001b[0m\n\u001b[1;32m----> 9\u001b[1;33m         \u001b[1;32mif\u001b[0m\u001b[1;33m(\u001b[0m\u001b[0mlen\u001b[0m\u001b[1;33m(\u001b[0m\u001b[0mlist1\u001b[0m\u001b[1;33m[\u001b[0m\u001b[0mi\u001b[0m\u001b[1;33m]\u001b[0m\u001b[1;33m)\u001b[0m\u001b[1;33m<\u001b[0m\u001b[1;36m5\u001b[0m\u001b[1;33m)\u001b[0m\u001b[1;33m:\u001b[0m\u001b[1;33m\u001b[0m\u001b[1;33m\u001b[0m\u001b[0m\n\u001b[0m\u001b[0;32m     10\u001b[0m             \u001b[0mlist1\u001b[0m\u001b[1;33m.\u001b[0m\u001b[0mremove\u001b[0m\u001b[1;33m(\u001b[0m\u001b[0mlist1\u001b[0m\u001b[1;33m[\u001b[0m\u001b[0mi\u001b[0m\u001b[1;33m]\u001b[0m\u001b[1;33m)\u001b[0m\u001b[1;33m\u001b[0m\u001b[1;33m\u001b[0m\u001b[0m\n\u001b[0;32m     11\u001b[0m             \u001b[0msaved_variables\u001b[0m\u001b[1;33m.\u001b[0m\u001b[0mappend\u001b[0m\u001b[1;33m(\u001b[0m\u001b[0mlist1\u001b[0m\u001b[1;33m[\u001b[0m\u001b[0mi\u001b[0m\u001b[1;33m]\u001b[0m\u001b[1;33m)\u001b[0m\u001b[1;33m\u001b[0m\u001b[1;33m\u001b[0m\u001b[0m\n",
      "\u001b[1;31mIndexError\u001b[0m: list index out of range"
     ]
    }
   ],
   "source": [
    "list1.remove(list1_res)\n",
    "list2.remove(list2_res)\n",
    "\n",
    "saved_variables = []\n",
    "saved_indices = []\n",
    "print(\"lists after deletion: \")\n",
    "if len(list1) == len(list2):\n",
    "    for i in range(len(list1)):\n",
    "        if(len(list1[i])<5):\n",
    "            list1.remove(list1[i])\n",
    "            saved_variables.append(list1[i])\n",
    "            saved_indices.append(i)\n",
    "        else:\n",
    "            print(list1[i], \"\\t\",list2[i])\n",
    "print(\"Saved lists\")\n",
    "print(saved_variables)\n",
    "print(saved_indices)"
   ]
  },
  {
   "cell_type": "code",
   "execution_count": 19,
   "metadata": {},
   "outputs": [
    {
     "ename": "TypeError",
     "evalue": "'list' object cannot be interpreted as an integer",
     "output_type": "error",
     "traceback": [
      "\u001b[1;31m---------------------------------------------------------------------------\u001b[0m",
      "\u001b[1;31mTypeError\u001b[0m                                 Traceback (most recent call last)",
      "\u001b[1;32m<ipython-input-19-1b45d9776dc6>\u001b[0m in \u001b[0;36m<module>\u001b[1;34m\u001b[0m\n\u001b[1;32m----> 1\u001b[1;33m \u001b[1;32mfor\u001b[0m \u001b[0mi\u001b[0m \u001b[1;32min\u001b[0m \u001b[0mrange\u001b[0m\u001b[1;33m(\u001b[0m\u001b[0mlist1\u001b[0m\u001b[1;33m)\u001b[0m\u001b[1;33m:\u001b[0m\u001b[1;33m\u001b[0m\u001b[1;33m\u001b[0m\u001b[0m\n\u001b[0m\u001b[0;32m      2\u001b[0m     \u001b[1;32mif\u001b[0m \u001b[0mlen\u001b[0m\u001b[1;33m(\u001b[0m\u001b[0mi\u001b[0m\u001b[1;33m)\u001b[0m\u001b[1;33m<=\u001b[0m\u001b[1;36m5\u001b[0m\u001b[1;33m:\u001b[0m\u001b[1;33m\u001b[0m\u001b[1;33m\u001b[0m\u001b[0m\n\u001b[0;32m      3\u001b[0m         \u001b[1;32mcontinue\u001b[0m\u001b[1;33m\u001b[0m\u001b[1;33m\u001b[0m\u001b[0m\n\u001b[0;32m      4\u001b[0m     \u001b[1;32melse\u001b[0m\u001b[1;33m:\u001b[0m\u001b[1;33m\u001b[0m\u001b[1;33m\u001b[0m\u001b[0m\n\u001b[0;32m      5\u001b[0m         \u001b[0mlist1\u001b[0m\u001b[1;33m.\u001b[0m\u001b[0mremove\u001b[0m\u001b[1;33m(\u001b[0m\u001b[0mi\u001b[0m\u001b[1;33m)\u001b[0m\u001b[1;33m\u001b[0m\u001b[1;33m\u001b[0m\u001b[0m\n",
      "\u001b[1;31mTypeError\u001b[0m: 'list' object cannot be interpreted as an integer"
     ]
    }
   ],
   "source": [
    "for i in range(list1):\n",
    "    if len(i)<=5:\n",
    "        continue\n",
    "    else:\n",
    "        list1.remove(i)"
   ]
  },
  {
   "cell_type": "code",
   "execution_count": 21,
   "metadata": {},
   "outputs": [
    {
     "name": "stdout",
     "output_type": "stream",
     "text": [
      "lists before deletion: \n",
      "red \t nose\n",
      "blue \t ice\n",
      "orange \t fire\n",
      "black \t cat\n",
      "white \t mouse\n",
      "golden \t dog\n",
      "\n",
      "lists after deletion: \n",
      "blue \t nose\n",
      "orange \t ice\n",
      "black \t fire\n",
      "white \t cat\n",
      "golden \t mouse\n",
      "\n",
      "Res1 \tRes2\n",
      "red \tdog\n"
     ]
    }
   ],
   "source": [
    "#removeAndSaveListElementsPop.py\n",
    "\n",
    "#define list1 and list2\n",
    "list1 = [\"red\", \"blue\", \"orange\", \"black\", \"white\", \"golden\"]\n",
    "list2 = [\"nose\", \"ice\", \"fire\", \"cat\", \"mouse\", \"dog\"]\n",
    "\n",
    "#identify what is printed in for loop\n",
    "print(\"lists before deletion: \")\n",
    "if len(list1) == len(list2):\n",
    "    # use for loop to print lists in parallel\n",
    "    for i in range(len(list1)):\n",
    "        print(list1[i],\"\\t\", list2[i])\n",
    "    \n",
    "# remove list elements and save them as variables '_res\"\n",
    "list1_res = \"red\"\n",
    "list2_res = \"dog\"\n",
    "list1.remove(list1_res)\n",
    "list2.remove(list2_res)\n",
    "\n",
    "print()\n",
    "# print lists again as in lines 8-11\n",
    "print(\"lists after deletion: \")\n",
    "if len(list1) == len(list2):\n",
    "    for i in range(len(list1)):\n",
    "        print(list1[i], \"\\t\",list2[i])\n",
    "     \n",
    "print()\n",
    "print(\"Res1\", \"\\tRes2\")\n",
    "print(list1_res, \"\\t\" + (list2_res))"
   ]
  },
  {
   "cell_type": "markdown",
   "metadata": {},
   "source": [
    "### Skip index using a For loop\n"
   ]
  },
  {
   "cell_type": "code",
   "execution_count": 1,
   "metadata": {},
   "outputs": [
    {
     "name": "stdout",
     "output_type": "stream",
     "text": [
      "list1 elements: 1 2 3 4 5\n",
      "list2 elements: 11 12 13 14 15\n",
      "list3: [12, 16, 20, 24, 28]\n"
     ]
    }
   ],
   "source": [
    "#addListElements5.py\n",
    "list1 = [1,2,3,4,5,6,7,8,9,10]\n",
    "list2 = [11,12,13,14,15,16,17,18,19,20]\n",
    "print(\"list1 elements:\", list1[0], list1[1], list1[2], list1[3], list1[4])\n",
    "print(\"list2 elements:\", list2[0], list2[1], list2[2], list2[3], list2[4])\n",
    "\n",
    "list3 = []\n",
    "j = len(list1)\n",
    "if j == len(list2):\n",
    "    for i in range(0, j, 2):\n",
    "        list3.append(list1[i] + list2[i])\n",
    "else:\n",
    "    print(\"Lists are not the same length, cannot perform element-wise operations.\")\n",
    "print(\"list3:\", list3)"
   ]
  },
  {
   "cell_type": "code",
   "execution_count": 3,
   "metadata": {},
   "outputs": [
    {
     "name": "stdout",
     "output_type": "stream",
     "text": [
      "0\n",
      "\tAfter:  [0]\n",
      "3\n",
      "\tAfter:  [0, 3]\n",
      "6\n",
      "\tAfter:  [0, 3, 6]\n",
      "9\n",
      "\tAfter:  [0, 3, 6, 9]\n",
      "12\n",
      "\tAfter:  [0, 3, 6, 9, 12]\n",
      "15\n",
      "\tAfter:  [0, 3, 6, 9, 12, 15]\n",
      "18\n",
      "\tAfter:  [0, 3, 6, 9, 12, 15, 18]\n",
      "21\n",
      "\tAfter:  [0, 3, 6, 9, 12, 15, 18, 21]\n",
      "24\n",
      "\tAfter:  [0, 3, 6, 9, 12, 15, 18, 21, 24]\n",
      "27\n",
      "\tAfter:  [0, 3, 6, 9, 12, 15, 18, 21, 24, 27]\n",
      "30\n",
      "\tAfter:  [0, 3, 6, 9, 12, 15, 18, 21, 24, 27, 30]\n",
      "33\n",
      "\tAfter:  [0, 3, 6, 9, 12, 15, 18, 21, 24, 27, 30, 33]\n",
      "36\n",
      "\tAfter:  [0, 3, 6, 9, 12, 15, 18, 21, 24, 27, 30, 33, 36]\n",
      "39\n",
      "\tAfter:  [0, 3, 6, 9, 12, 15, 18, 21, 24, 27, 30, 33, 36, 39]\n",
      "42\n",
      "\tAfter:  [0, 3, 6, 9, 12, 15, 18, 21, 24, 27, 30, 33, 36, 39, 42]\n",
      "45\n",
      "\tAfter:  [0, 3, 6, 9, 12, 15, 18, 21, 24, 27, 30, 33, 36, 39, 42, 45]\n",
      "48\n",
      "\tAfter:  [0, 3, 6, 9, 12, 15, 18, 21, 24, 27, 30, 33, 36, 39, 42, 45, 48]\n",
      "51\n",
      "\tAfter:  [0, 3, 6, 9, 12, 15, 18, 21, 24, 27, 30, 33, 36, 39, 42, 45, 48, 51]\n",
      "54\n",
      "\tAfter:  [0, 3, 6, 9, 12, 15, 18, 21, 24, 27, 30, 33, 36, 39, 42, 45, 48, 51, 54]\n",
      "57\n",
      "\tAfter:  [0, 3, 6, 9, 12, 15, 18, 21, 24, 27, 30, 33, 36, 39, 42, 45, 48, 51, 54, 57]\n",
      "60\n",
      "\tAfter:  [0, 3, 6, 9, 12, 15, 18, 21, 24, 27, 30, 33, 36, 39, 42, 45, 48, 51, 54, 57, 60]\n",
      "63\n",
      "\tAfter:  [0, 3, 6, 9, 12, 15, 18, 21, 24, 27, 30, 33, 36, 39, 42, 45, 48, 51, 54, 57, 60, 63]\n",
      "66\n",
      "\tAfter:  [0, 3, 6, 9, 12, 15, 18, 21, 24, 27, 30, 33, 36, 39, 42, 45, 48, 51, 54, 57, 60, 63, 66]\n",
      "69\n",
      "\tAfter:  [0, 3, 6, 9, 12, 15, 18, 21, 24, 27, 30, 33, 36, 39, 42, 45, 48, 51, 54, 57, 60, 63, 66, 69]\n",
      "72\n",
      "\tAfter:  [0, 3, 6, 9, 12, 15, 18, 21, 24, 27, 30, 33, 36, 39, 42, 45, 48, 51, 54, 57, 60, 63, 66, 69, 72]\n",
      "75\n",
      "\tAfter:  [0, 3, 6, 9, 12, 15, 18, 21, 24, 27, 30, 33, 36, 39, 42, 45, 48, 51, 54, 57, 60, 63, 66, 69, 72, 75]\n",
      "78\n",
      "\tAfter:  [0, 3, 6, 9, 12, 15, 18, 21, 24, 27, 30, 33, 36, 39, 42, 45, 48, 51, 54, 57, 60, 63, 66, 69, 72, 75, 78]\n",
      "81\n",
      "\tAfter:  [0, 3, 6, 9, 12, 15, 18, 21, 24, 27, 30, 33, 36, 39, 42, 45, 48, 51, 54, 57, 60, 63, 66, 69, 72, 75, 78, 81]\n",
      "84\n",
      "\tAfter:  [0, 3, 6, 9, 12, 15, 18, 21, 24, 27, 30, 33, 36, 39, 42, 45, 48, 51, 54, 57, 60, 63, 66, 69, 72, 75, 78, 81, 84]\n",
      "87\n",
      "\tAfter:  [0, 3, 6, 9, 12, 15, 18, 21, 24, 27, 30, 33, 36, 39, 42, 45, 48, 51, 54, 57, 60, 63, 66, 69, 72, 75, 78, 81, 84, 87]\n",
      "90\n",
      "\tAfter:  [0, 3, 6, 9, 12, 15, 18, 21, 24, 27, 30, 33, 36, 39, 42, 45, 48, 51, 54, 57, 60, 63, 66, 69, 72, 75, 78, 81, 84, 87, 90]\n",
      "93\n",
      "\tAfter:  [0, 3, 6, 9, 12, 15, 18, 21, 24, 27, 30, 33, 36, 39, 42, 45, 48, 51, 54, 57, 60, 63, 66, 69, 72, 75, 78, 81, 84, 87, 90, 93]\n",
      "96\n",
      "\tAfter:  [0, 3, 6, 9, 12, 15, 18, 21, 24, 27, 30, 33, 36, 39, 42, 45, 48, 51, 54, 57, 60, 63, 66, 69, 72, 75, 78, 81, 84, 87, 90, 93, 96]\n",
      "99\n",
      "\tAfter:  [0, 3, 6, 9, 12, 15, 18, 21, 24, 27, 30, 33, 36, 39, 42, 45, 48, 51, 54, 57, 60, 63, 66, 69, 72, 75, 78, 81, 84, 87, 90, 93, 96, 99]\n",
      "[0, 3, 6, 9, 12, 15, 18, 21, 24, 27, 30, 33, 36, 39, 42, 45, 48, 51, 54, 57, 60, 63, 66, 69, 72, 75, 78, 81, 84, 87, 90, 93, 96, 99]\n"
     ]
    }
   ],
   "source": [
    "list_uno = []\n",
    "for i in range (0, 100, 3):\n",
    "    print(i)\n",
    "    list_uno.append(i)\n",
    "    print(\"\\tAfter: \", list_uno)\n",
    "    \n",
    "print(list_uno)"
   ]
  },
  {
   "cell_type": "code",
   "execution_count": 9,
   "metadata": {},
   "outputs": [
    {
     "name": "stdout",
     "output_type": "stream",
     "text": [
      "[0, 3, 6]\n"
     ]
    }
   ],
   "source": [
    "range_list = list(range(0,9,3))\n",
    "print(range_list)"
   ]
  },
  {
   "cell_type": "markdown",
   "metadata": {},
   "source": [
    "# Nested For Loop~!"
   ]
  },
  {
   "cell_type": "code",
   "execution_count": 16,
   "metadata": {},
   "outputs": [
    {
     "name": "stdout",
     "output_type": "stream",
     "text": [
      "i list\n",
      "1 [0, 1, 2, 3, 4, 5, 6, 7, 8]\n",
      "length: 9\n",
      "j val\n",
      "0 0\n",
      "1 1\n",
      "2 2\n",
      "3 3\n",
      "4 4\n",
      "5 5\n",
      "6 6\n",
      "7 7\n",
      "8 8\n",
      "2 [0, 2, 4, 6, 8]\n",
      "length: 5\n",
      "j val\n",
      "0 0\n",
      "1 2\n",
      "2 4\n",
      "3 6\n",
      "4 8\n",
      "3 [0, 3, 6]\n",
      "length: 3\n",
      "j val\n",
      "0 0\n",
      "1 3\n",
      "2 6\n",
      "4 [0, 4, 8]\n",
      "length: 3\n",
      "j val\n",
      "0 0\n",
      "1 4\n",
      "2 8\n",
      "5 [0, 5]\n",
      "length: 2\n",
      "j val\n",
      "0 0\n",
      "1 5\n"
     ]
    }
   ],
   "source": [
    "print(\"i\", \"list\")\n",
    "\n",
    "for i in range(1,6):\n",
    "    list2=list(range(0,9,i))\n",
    "    print(i,list2)\n",
    "    print(\"length:\", len(list2))\n",
    "    print(\"j\", \"val\")\n",
    "    for j in range(len(list2)):\n",
    "        print(j,list2[j])"
   ]
  },
  {
   "cell_type": "code",
   "execution_count": 26,
   "metadata": {},
   "outputs": [
    {
     "name": "stdout",
     "output_type": "stream",
     "text": [
      "[0, 1, 2, 3, 4, 5, 6, 7, 8, 9, 10, 11, 12, 13, 14, 15, 16, 17, 18, 19, 20, 21, 22, 23, 24, 25, 26, 27, 28, 29, 30, 31, 32, 33, 34, 35, 36, 37, 38, 39, 40, 41, 42, 43, 44, 45, 46, 47, 48, 49, 50, 51, 52, 53, 54, 55, 56, 57, 58, 59, 60, 61, 62, 63, 64, 65, 66, 67, 68, 69, 70, 71, 72, 73, 74, 75, 76, 77, 78, 79, 80, 81, 82, 83, 84, 85, 86, 87, 88, 89, 90, 91, 92, 93, 94, 95, 96, 97, 98, 99] \n",
      "Length: 100\n"
     ]
    }
   ],
   "source": [
    "boolist = list(range(0,100,1))\n",
    "print(boolist, \"\\nLength:\", len(boolist))"
   ]
  },
  {
   "cell_type": "code",
   "execution_count": 30,
   "metadata": {},
   "outputs": [
    {
     "name": "stdout",
     "output_type": "stream",
     "text": [
      "Yes\t 0\n",
      "No:\t 1\n",
      "Yes\t 2\n",
      "No:\t 3\n",
      "Yes\t 4\n",
      "No:\t 5\n",
      "Yes\t 6\n",
      "No:\t 7\n",
      "Yes\t 8\n",
      "No:\t 9\n",
      "Yes\t 10\n",
      "No:\t 11\n",
      "Yes\t 12\n",
      "No:\t 13\n",
      "Yes\t 14\n",
      "No:\t 15\n",
      "Yes\t 16\n",
      "No:\t 17\n",
      "Yes\t 18\n",
      "No:\t 19\n",
      "Yes\t 20\n",
      "No:\t 21\n",
      "Yes\t 22\n",
      "No:\t 23\n",
      "Yes\t 24\n",
      "No:\t 25\n",
      "Yes\t 26\n",
      "No:\t 27\n",
      "Yes\t 28\n",
      "No:\t 29\n",
      "Yes\t 30\n",
      "No:\t 31\n",
      "Yes\t 32\n",
      "No:\t 33\n",
      "Yes\t 34\n",
      "No:\t 35\n",
      "Yes\t 36\n",
      "No:\t 37\n",
      "Yes\t 38\n",
      "No:\t 39\n",
      "Yes\t 40\n",
      "No:\t 41\n",
      "Yes\t 42\n",
      "No:\t 43\n",
      "Yes\t 44\n",
      "No:\t 45\n",
      "Yes\t 46\n",
      "No:\t 47\n",
      "Yes\t 48\n",
      "No:\t 49\n",
      "Yes\t 50\n",
      "No:\t 51\n",
      "Yes\t 52\n",
      "No:\t 53\n",
      "Yes\t 54\n",
      "No:\t 55\n",
      "Yes\t 56\n",
      "No:\t 57\n",
      "Yes\t 58\n",
      "No:\t 59\n",
      "Yes\t 60\n",
      "No:\t 61\n",
      "Yes\t 62\n",
      "No:\t 63\n",
      "Yes\t 64\n",
      "No:\t 65\n",
      "Yes\t 66\n",
      "No:\t 67\n",
      "Yes\t 68\n",
      "No:\t 69\n",
      "Yes\t 70\n",
      "No:\t 71\n",
      "Yes\t 72\n",
      "No:\t 73\n",
      "Yes\t 74\n",
      "No:\t 75\n",
      "Yes\t 76\n",
      "No:\t 77\n",
      "Yes\t 78\n",
      "No:\t 79\n",
      "Yes\t 80\n",
      "No:\t 81\n",
      "Yes\t 82\n",
      "No:\t 83\n",
      "Yes\t 84\n",
      "No:\t 85\n",
      "Yes\t 86\n",
      "No:\t 87\n",
      "Yes\t 88\n",
      "No:\t 89\n",
      "Yes\t 90\n",
      "No:\t 91\n",
      "Yes\t 92\n",
      "No:\t 93\n",
      "Yes\t 94\n",
      "No:\t 95\n",
      "Yes\t 96\n",
      "No:\t 97\n",
      "Yes\t 98\n",
      "No:\t 99\n"
     ]
    }
   ],
   "source": [
    "for i in boolist:\n",
    "    if (i%2 == 0):\n",
    "        print(\"Yes\\t\", i)\n",
    "    else:\n",
    "        print(\"No:\\t\", i)"
   ]
  },
  {
   "cell_type": "code",
   "execution_count": 1,
   "metadata": {},
   "outputs": [
    {
     "data": {
      "text/plain": [
       "False"
      ]
     },
     "execution_count": 1,
     "metadata": {},
     "output_type": "execute_result"
    }
   ],
   "source": [
    "0 == True"
   ]
  },
  {
   "cell_type": "code",
   "execution_count": 2,
   "metadata": {},
   "outputs": [
    {
     "data": {
      "text/plain": [
       "True"
      ]
     },
     "execution_count": 2,
     "metadata": {},
     "output_type": "execute_result"
    }
   ],
   "source": [
    "1 == True"
   ]
  },
  {
   "cell_type": "code",
   "execution_count": 3,
   "metadata": {},
   "outputs": [
    {
     "data": {
      "text/plain": [
       "1"
      ]
     },
     "execution_count": 3,
     "metadata": {},
     "output_type": "execute_result"
    }
   ],
   "source": [
    "int(True)"
   ]
  },
  {
   "cell_type": "code",
   "execution_count": 4,
   "metadata": {},
   "outputs": [
    {
     "data": {
      "text/plain": [
       "1.0"
      ]
     },
     "execution_count": 4,
     "metadata": {},
     "output_type": "execute_result"
    }
   ],
   "source": [
    "float(True)"
   ]
  },
  {
   "cell_type": "code",
   "execution_count": 5,
   "metadata": {},
   "outputs": [
    {
     "ename": "NameError",
     "evalue": "name 'double' is not defined",
     "output_type": "error",
     "traceback": [
      "\u001b[1;31m---------------------------------------------------------------------------\u001b[0m",
      "\u001b[1;31mNameError\u001b[0m                                 Traceback (most recent call last)",
      "\u001b[1;32m<ipython-input-5-605896e09173>\u001b[0m in \u001b[0;36m<module>\u001b[1;34m\u001b[0m\n\u001b[1;32m----> 1\u001b[1;33m \u001b[0mdouble\u001b[0m\u001b[1;33m(\u001b[0m\u001b[1;32mTrue\u001b[0m\u001b[1;33m)\u001b[0m\u001b[1;33m\u001b[0m\u001b[1;33m\u001b[0m\u001b[0m\n\u001b[0m",
      "\u001b[1;31mNameError\u001b[0m: name 'double' is not defined"
     ]
    }
   ],
   "source": [
    "double(True)"
   ]
  },
  {
   "cell_type": "code",
   "execution_count": 6,
   "metadata": {},
   "outputs": [
    {
     "data": {
      "text/plain": [
       "False"
      ]
     },
     "execution_count": 6,
     "metadata": {},
     "output_type": "execute_result"
    }
   ],
   "source": [
    "1 != True"
   ]
  },
  {
   "cell_type": "code",
   "execution_count": 9,
   "metadata": {},
   "outputs": [
    {
     "data": {
      "text/plain": [
       "False"
      ]
     },
     "execution_count": 9,
     "metadata": {},
     "output_type": "execute_result"
    }
   ],
   "source": [
    "1 != True"
   ]
  },
  {
   "cell_type": "code",
   "execution_count": 12,
   "metadata": {},
   "outputs": [
    {
     "data": {
      "text/plain": [
       "1"
      ]
     },
     "execution_count": 12,
     "metadata": {},
     "output_type": "execute_result"
    }
   ],
   "source": [
    "1 & True"
   ]
  },
  {
   "cell_type": "code",
   "execution_count": 22,
   "metadata": {},
   "outputs": [
    {
     "name": "stdout",
     "output_type": "stream",
     "text": [
      "0 the\n",
      "1 dog\n",
      "2 ate\n",
      "3 the\n",
      "4 snow\n"
     ]
    }
   ],
   "source": [
    "words = [\"the\", \"dog\", \"ate\", \"the\", \"snow\"]\n",
    "\n",
    "num_words = len(words)\n",
    "for i in range(num_words):\n",
    "    word = words[i]\n",
    "    is_ate = word == \"ate\"\n",
    "    print(i, words[i])"
   ]
  },
  {
   "cell_type": "code",
   "execution_count": 25,
   "metadata": {},
   "outputs": [
    {
     "name": "stdout",
     "output_type": "stream",
     "text": [
      "0\n",
      "2\n",
      "4\n",
      "6\n",
      "8\n"
     ]
    }
   ],
   "source": [
    "numeros = list(range(0, 9))\n",
    "\n",
    "for i in numeros:\n",
    "    if (numeros[i] % 2 == 0):\n",
    "        print(i)"
   ]
  },
  {
   "cell_type": "code",
   "execution_count": 34,
   "metadata": {},
   "outputs": [
    {
     "ename": "TypeError",
     "evalue": "list indices must be integers or slices, not str",
     "output_type": "error",
     "traceback": [
      "\u001b[1;31m---------------------------------------------------------------------------\u001b[0m",
      "\u001b[1;31mTypeError\u001b[0m                                 Traceback (most recent call last)",
      "\u001b[1;32m<ipython-input-34-88ab46acc218>\u001b[0m in \u001b[0;36m<module>\u001b[1;34m\u001b[0m\n\u001b[0;32m      3\u001b[0m \u001b[0mnum_palabs\u001b[0m \u001b[1;33m=\u001b[0m \u001b[0mlen\u001b[0m\u001b[1;33m(\u001b[0m\u001b[0mpalabras\u001b[0m\u001b[1;33m)\u001b[0m\u001b[1;33m\u001b[0m\u001b[1;33m\u001b[0m\u001b[0m\n\u001b[0;32m      4\u001b[0m \u001b[1;32mfor\u001b[0m \u001b[0mi\u001b[0m \u001b[1;32min\u001b[0m \u001b[0mpalabras\u001b[0m\u001b[1;33m:\u001b[0m\u001b[1;33m\u001b[0m\u001b[1;33m\u001b[0m\u001b[0m\n\u001b[1;32m----> 5\u001b[1;33m     \u001b[1;32mif\u001b[0m\u001b[1;33m(\u001b[0m\u001b[0mpalabras\u001b[0m\u001b[1;33m[\u001b[0m\u001b[0mi\u001b[0m\u001b[1;33m]\u001b[0m \u001b[1;33m==\u001b[0m \u001b[0mword_check\u001b[0m\u001b[1;33m)\u001b[0m\u001b[1;33m:\u001b[0m\u001b[1;33m\u001b[0m\u001b[1;33m\u001b[0m\u001b[0m\n\u001b[0m\u001b[0;32m      6\u001b[0m         \u001b[0mprint\u001b[0m\u001b[1;33m(\u001b[0m\u001b[0mi\u001b[0m\u001b[1;33m,\u001b[0m \u001b[0mpalabras\u001b[0m\u001b[1;33m[\u001b[0m\u001b[0mi\u001b[0m\u001b[1;33m]\u001b[0m\u001b[1;33m)\u001b[0m\u001b[1;33m\u001b[0m\u001b[1;33m\u001b[0m\u001b[0m\n\u001b[0;32m      7\u001b[0m         \u001b[0mpalabras\u001b[0m\u001b[1;33m.\u001b[0m\u001b[0mappend\u001b[0m\u001b[1;33m(\u001b[0m\u001b[0mi\u001b[0m\u001b[1;33m)\u001b[0m\u001b[1;33m\u001b[0m\u001b[1;33m\u001b[0m\u001b[0m\n",
      "\u001b[1;31mTypeError\u001b[0m: list indices must be integers or slices, not str"
     ]
    }
   ],
   "source": [
    "palabras = [\"this\", \"is\", \"a\", \"test\"]\n",
    "word_check = \"this\"\n",
    "num_palabs = len(palabras)\n",
    "for i in palabras:\n",
    "    if(palabras[i] == word_check):\n",
    "        print(i, palabras[i])\n",
    "        palabras.append(i)\n",
    "        \n",
    "palabras"
   ]
  },
  {
   "cell_type": "code",
   "execution_count": 35,
   "metadata": {},
   "outputs": [],
   "source": [
    "aleatorio_lista = [1,2,3,4,65,734,12412,873546,-943254.0,34,435,7,324,5,-72435,7,-435,-15432,-72,45]"
   ]
  },
  {
   "cell_type": "code",
   "execution_count": 48,
   "metadata": {},
   "outputs": [
    {
     "name": "stdout",
     "output_type": "stream",
     "text": [
      "1 is the domain of 0 and 10\n",
      "2 is the domain of 0 and 10\n",
      "3 is the domain of 0 and 10\n",
      "4 is the domain of 0 and 10\n",
      "65 is greater than 10\n",
      "734 is greater than 10\n",
      "12412 is greater than 10\n",
      "873546 is greater than 10\n",
      "943254 is greater than 10\n",
      "34 is greater than 10\n",
      "435 is greater than 10\n",
      "7 is the domain of 0 and 10\n",
      "324 is greater than 10\n",
      "5 is the domain of 0 and 10\n",
      "72435 is greater than 10\n",
      "7 is the domain of 0 and 10\n",
      "435 is greater than 10\n",
      "15432 is greater than 10\n",
      "72 is greater than 10\n",
      "45 is greater than 10\n"
     ]
    }
   ],
   "source": [
    "greater_than_10 = []\n",
    "zero_ten = []\n",
    "negative = []\n",
    "\n",
    "larga_lista = len(aleatorio_lista)\n",
    "\n",
    "for i in aleatorio_lista:\n",
    "    if i > 10:\n",
    "        greater_than_10.append(i)\n",
    "        print(i, \"is greater than 10\")\n",
    "    elif i >=0:\n",
    "        print(i, \"is the domain of 0 and 10\")\n",
    "        zero_ten.append(i)\n",
    "    elif i <=0:\n",
    "        print(i, \"Is negative\")\n",
    "        negative.append(i)\n",
    "    else:\n",
    "        print(i)"
   ]
  },
  {
   "cell_type": "code",
   "execution_count": 49,
   "metadata": {},
   "outputs": [
    {
     "data": {
      "text/plain": [
       "[1, 2, 3, 4, 7, 5, 7]"
      ]
     },
     "execution_count": 49,
     "metadata": {},
     "output_type": "execute_result"
    }
   ],
   "source": [
    "zero_ten"
   ]
  },
  {
   "cell_type": "code",
   "execution_count": 50,
   "metadata": {},
   "outputs": [],
   "source": [
    "del zero_ten[1]"
   ]
  },
  {
   "cell_type": "code",
   "execution_count": 51,
   "metadata": {},
   "outputs": [
    {
     "data": {
      "text/plain": [
       "[1, 3, 4, 7, 5, 7]"
      ]
     },
     "execution_count": 51,
     "metadata": {},
     "output_type": "execute_result"
    }
   ],
   "source": [
    "zero_ten"
   ]
  },
  {
   "cell_type": "code",
   "execution_count": 52,
   "metadata": {},
   "outputs": [],
   "source": [
    "del zero_ten[-1]"
   ]
  },
  {
   "cell_type": "code",
   "execution_count": 53,
   "metadata": {},
   "outputs": [
    {
     "data": {
      "text/plain": [
       "[1, 3, 4, 7, 5]"
      ]
     },
     "execution_count": 53,
     "metadata": {},
     "output_type": "execute_result"
    }
   ],
   "source": [
    "zero_ten"
   ]
  },
  {
   "cell_type": "markdown",
   "metadata": {},
   "source": [
    "## use list.pop() & lst.remove(val)"
   ]
  },
  {
   "cell_type": "code",
   "execution_count": 56,
   "metadata": {},
   "outputs": [
    {
     "data": {
      "text/plain": [
       "[4, 7, 5]"
      ]
     },
     "execution_count": 56,
     "metadata": {},
     "output_type": "execute_result"
    }
   ],
   "source": [
    "zero_ten.remove(1)\n",
    "zero_ten.remove(3)\n",
    "zero_ten"
   ]
  },
  {
   "cell_type": "code",
   "execution_count": 58,
   "metadata": {},
   "outputs": [
    {
     "data": {
      "text/plain": [
       "[1,\n",
       " 2,\n",
       " 3,\n",
       " 4,\n",
       " 65,\n",
       " 734,\n",
       " 12412,\n",
       " 873546,\n",
       " 943254,\n",
       " 34,\n",
       " 435,\n",
       " 7,\n",
       " 324,\n",
       " 5,\n",
       " 72435,\n",
       " 7,\n",
       " 435,\n",
       " 15432,\n",
       " 72,\n",
       " 45]"
      ]
     },
     "execution_count": 58,
     "metadata": {},
     "output_type": "execute_result"
    }
   ],
   "source": [
    "aleatorio_lista"
   ]
  },
  {
   "cell_type": "code",
   "execution_count": 65,
   "metadata": {},
   "outputs": [],
   "source": [
    "last_val = aleatorio_lista.pop()"
   ]
  },
  {
   "cell_type": "code",
   "execution_count": 66,
   "metadata": {},
   "outputs": [
    {
     "data": {
      "text/plain": [
       "7"
      ]
     },
     "execution_count": 66,
     "metadata": {},
     "output_type": "execute_result"
    }
   ],
   "source": [
    "last_val"
   ]
  },
  {
   "cell_type": "code",
   "execution_count": 67,
   "metadata": {},
   "outputs": [
    {
     "data": {
      "text/plain": [
       "[1, 2, 3, 4, 65, 734, 12412, 873546, 943254, 34, 435, 7, 324, 5, 72435]"
      ]
     },
     "execution_count": 67,
     "metadata": {},
     "output_type": "execute_result"
    }
   ],
   "source": [
    "aleatorio_lista"
   ]
  },
  {
   "cell_type": "markdown",
   "metadata": {},
   "source": [
    "# Sorting Lists"
   ]
  },
  {
   "cell_type": "code",
   "execution_count": 71,
   "metadata": {},
   "outputs": [
    {
     "data": {
      "text/plain": [
       "[0, 1, 2, 2, 3, 3, 3, 4, 6, 8, 9, 12, 12, 34, 45, 63, 64, 82, 83, 91, 99]"
      ]
     },
     "execution_count": 71,
     "metadata": {},
     "output_type": "execute_result"
    }
   ],
   "source": [
    "sortedList = [1,9,3,2,6,8,4,3,0,91,2,3,45,64,83,12,34,63,82,12,99]\n",
    "sorted(sortedList)"
   ]
  },
  {
   "cell_type": "code",
   "execution_count": 72,
   "metadata": {},
   "outputs": [
    {
     "data": {
      "text/plain": [
       "[1, 9, 3, 2, 6, 8, 4, 3, 0, 91, 2, 3, 45, 64, 83, 12, 34, 63, 82, 12, 99]"
      ]
     },
     "execution_count": 72,
     "metadata": {},
     "output_type": "execute_result"
    }
   ],
   "source": [
    "sortedList"
   ]
  },
  {
   "cell_type": "code",
   "execution_count": null,
   "metadata": {},
   "outputs": [],
   "source": []
  }
 ],
 "metadata": {
  "kernelspec": {
   "display_name": "Python 3",
   "language": "python",
   "name": "python3"
  },
  "language_info": {
   "codemirror_mode": {
    "name": "ipython",
    "version": 3
   },
   "file_extension": ".py",
   "mimetype": "text/x-python",
   "name": "python",
   "nbconvert_exporter": "python",
   "pygments_lexer": "ipython3",
   "version": "3.8.5"
  },
  "vscode": {
   "interpreter": {
    "hash": "081900b9bb118c517ac80c3d66bfaa638375828be94533b3225786867613032f"
   }
  }
 },
 "nbformat": 4,
 "nbformat_minor": 2
}
