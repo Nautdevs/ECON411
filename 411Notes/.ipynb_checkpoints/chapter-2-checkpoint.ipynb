{
 "cells": [
  {
   "cell_type": "code",
   "execution_count": 1,
   "metadata": {},
   "outputs": [
    {
     "name": "stdout",
     "output_type": "stream",
     "text": [
      "[]\n",
      "[1, 2, 3, 4, 5]\n",
      "[1.0, 2.0, 3.0, 4.0, 5.0]\n",
      "['This is a string', 'This is also a string']\n",
      "[1, 2.0, 'Mix it up']\n"
     ]
    }
   ],
   "source": [
    "#lists.py\n",
    "empty_list = []\n",
    "int_list = [1,2,3,4,5]\n",
    "float_list = [1.0, 2.0, 3.0, 4.0, 5.0]\n",
    "string_list = [\"This is a string\", \"This is also a string\"]\n",
    "mixed_list = [1,2.0, \"Mix it up\"]\n",
    "\n",
    "\n",
    "print(empty_list)\n",
    "print(int_list)\n",
    "print(float_list)\n",
    "print(string_list)\n",
    "print(mixed_list)\n"
   ]
  },
  {
   "cell_type": "code",
   "execution_count": 2,
   "metadata": {},
   "outputs": [
    {
     "name": "stdout",
     "output_type": "stream",
     "text": [
      "list1:  [1, 2, 3, 4]\n",
      "list2:  [5, 6, 7, 8]\n",
      "[1, 2, 3, 4, 5, 6, 7, 8]\n"
     ]
    }
   ],
   "source": [
    "#concatenate lists\n",
    "\n",
    "list1 = [1,2,3,4]\n",
    "list2 = [5,6,7,8]\n",
    "join_lists = list1+list2\n",
    "\n",
    "print(\"list1: \", list1)\n",
    "print(\"list2: \", list2)\n",
    "print(join_lists)"
   ]
  },
  {
   "cell_type": "code",
   "execution_count": 3,
   "metadata": {},
   "outputs": [
    {
     "name": "stdout",
     "output_type": "stream",
     "text": [
      "This is loop i\n",
      "This is loop i\n",
      "This is loop i\n",
      "This is loop i\n",
      "This is loop i\n"
     ]
    }
   ],
   "source": [
    "for i in range(1, 10, 2):\n",
    "    print(\"This is loop i\")"
   ]
  },
  {
   "cell_type": "code",
   "execution_count": 4,
   "metadata": {},
   "outputs": [
    {
     "name": "stdout",
     "output_type": "stream",
     "text": [
      "This is another list, but we copied the indices in list1 to it:\n",
      " [1, 2, 3, 4]\n"
     ]
    }
   ],
   "source": [
    "another_list = []\n",
    "for i in range(len(list1)):\n",
    "    another_list.append(list1[i])\n",
    "print(\"This is another list, but we copied the indices in list1 to it:\\n\", another_list)"
   ]
  },
  {
   "cell_type": "code",
   "execution_count": 5,
   "metadata": {},
   "outputs": [
    {
     "data": {
      "text/plain": [
       "4"
      ]
     },
     "execution_count": 5,
     "metadata": {},
     "output_type": "execute_result"
    }
   ],
   "source": [
    "len(another_list)"
   ]
  },
  {
   "cell_type": "markdown",
   "metadata": {},
   "source": [
    "### Creating a New List using Values from Other Lists"
   ]
  },
  {
   "cell_type": "markdown",
   "metadata": {},
   "source": [
    "| this is a table | Chequelo |\n",
    "|-----------------|----------|\n",
    "|column | column|"
   ]
  },
  {
   "cell_type": "markdown",
   "metadata": {},
   "source": [
    "|concepts|description|\n",
    "|---|---|\n",
    "|.append() and .insert() list methods|List methods append and insert increse the length of a list by adding in element to the list.|\n",
    "|if statements| If statements execute the block of code contained in it if conditions are met (returns true)|\n",
    "|else statement|this is the default case for if statements in the case the conditions are not met|\n",
    "|conditional operators in python (==, !=, <, >, <=, >=)| indicates the condition relating two variables|"
   ]
  },
  {
   "cell_type": "code",
   "execution_count": 6,
   "metadata": {},
   "outputs": [
    {
     "name": "stdout",
     "output_type": "stream",
     "text": [
      "list uno's elements: 1 2 3 4 5\n",
      "Element: 0 Value: 7\n",
      "Element: 1 Value: 8\n",
      "Element: 2 Value: 9\n",
      "Element: 3 Value: 10\n",
      "Element: 4 Value: 11\n",
      "Element: 5 Value: 12\n",
      "Element: 6 Value: 13\n",
      "[8, 10, 12, 14, 16, 18]\n"
     ]
    }
   ],
   "source": [
    "#addListElements.py\n",
    "camelCaseListUno = [1,2,3,4,5,6]\n",
    "camelCaseListDos = [7,8,9,10,11,12,13]\n",
    "print(\"list uno's elements:\", camelCaseListUno[0], camelCaseListUno[1],camelCaseListUno[2], camelCaseListUno[3], camelCaseListUno[4])\n",
    "# I am too lazy to type out list dos so I will just use a for loop\n",
    "\n",
    "for i in range(len(camelCaseListDos)):\n",
    "    print(\"Element:\", i, \"Value:\", camelCaseListDos[i])\n",
    "    \n",
    "empty_list = []\n",
    "for i in range(len(camelCaseListUno)):\n",
    "    empty_list.append(camelCaseListDos[i] + camelCaseListUno[i])\n",
    "\n",
    "print(empty_list)"
   ]
  },
  {
   "cell_type": "code",
   "execution_count": 7,
   "metadata": {},
   "outputs": [
    {
     "name": "stdout",
     "output_type": "stream",
     "text": [
      "[6, 5, 4, 3, 2, 1]\n"
     ]
    }
   ],
   "source": [
    "empty_list = []\n",
    "for i in range(len(camelCaseListUno)):\n",
    "    empty_list.insert(0,camelCaseListUno[i])\n",
    "    \n",
    "print(empty_list)"
   ]
  },
  {
   "cell_type": "code",
   "execution_count": 8,
   "metadata": {},
   "outputs": [
    {
     "name": "stdout",
     "output_type": "stream",
     "text": [
      "index 0 doesn't satisfy the condition\n",
      "This is index: 1 \n",
      "With Value: 2\n",
      "index 2 doesn't satisfy the condition\n",
      "This is index: 3 \n",
      "With Value: 4\n",
      "index 4 doesn't satisfy the condition\n",
      "This is index: 5 \n",
      "With Value: 6\n",
      "index 6 doesn't satisfy the condition\n",
      "This is index: 7 \n",
      "With Value: 8\n",
      "index 8 doesn't satisfy the condition\n",
      "This is index: 9 \n",
      "With Value: 10\n",
      "index 10 doesn't satisfy the condition\n"
     ]
    }
   ],
   "source": [
    "x = [1,2,3,4,5,6,7,8,9,10,11]\n",
    "y = [12,13,14,15,16,17,18]\n",
    "\n",
    "for i in range(len(x)):\n",
    "    if (x[i]%2<1):\n",
    "        print(\"This is index:\",i, \"\\nWith Value:\", x[i])\n",
    "    else:\n",
    "        print(\"index\", i, \"doesn't satisfy the condition\")\n"
   ]
  },
  {
   "cell_type": "markdown",
   "metadata": {},
   "source": [
    "### Methods to remove list elements"
   ]
  },
  {
   "cell_type": "markdown",
   "metadata": {},
   "source": [
    "| method | description|\n",
    "|---|---|\n",
    "|del|deletes an element from a list, this is a command and not a method (keyword)|\n",
    "|pop()|removes the last element|\n",
    "|remove()|deletes an explicitly identified element|\n",
    "|append|adds an additional elements at the end of a list|\n"
   ]
  },
  {
   "cell_type": "code",
   "execution_count": 9,
   "metadata": {},
   "outputs": [
    {
     "name": "stdout",
     "output_type": "stream",
     "text": [
      "Lists before deleting elements:\n",
      "red \t sky blue\n",
      "green \t sky green\n",
      "blue \t sky purple\n",
      "indigo \t lilac\n",
      "Lists after deleting elements:\n",
      "green \t sky blue\n",
      "blue \t sky green\n",
      "indigo \t sky purple\n"
     ]
    }
   ],
   "source": [
    "#deleteListElements.py\n",
    "L1 = [\"red\",\"green\", \"blue\", \"indigo\"]\n",
    "L2 = [\"sky blue\", \"sky green\", \"sky purple\", \"lilac\"]\n",
    "\n",
    "print(\"Lists before deleting elements:\")\n",
    "for i in range(len(L1)):\n",
    "    print(L1[i], \"\\t\", L2[i])\n",
    "\n",
    "del L1[0]\n",
    "del L2[3]\n",
    "print(\"Lists after deleting elements:\")\n",
    "for i in range(len(L1)):\n",
    "    print(L1[i], \"\\t\", L2[i])\n"
   ]
  },
  {
   "cell_type": "code",
   "execution_count": 10,
   "metadata": {},
   "outputs": [
    {
     "name": "stdout",
     "output_type": "stream",
     "text": [
      "green \t sky blue\n",
      "blue \t sky green\n",
      "indigo \t lilac\n"
     ]
    }
   ],
   "source": [
    "#deleteListElements.py\n",
    "L1 = [\"red\",\"green\", \"blue\", \"indigo\"]\n",
    "L2 = [\"sky blue\", \"sky green\", \"sky purple\", \"lilac\"]\n",
    "\n",
    "L1.remove(\"red\")\n",
    "L2.remove(\"sky purple\")\n",
    "\n",
    "for i in range(len(L1)):\n",
    "    print(L1[i], \"\\t\", L2[i])"
   ]
  },
  {
   "cell_type": "markdown",
   "metadata": {},
   "source": [
    "You can pass the remove method a variable containing variables containing explicit values you want to remove."
   ]
  },
  {
   "cell_type": "code",
   "execution_count": 11,
   "metadata": {},
   "outputs": [
    {
     "name": "stdout",
     "output_type": "stream",
     "text": [
      "lists before deletion: \n",
      "red \t nose\n",
      "blue \t ice\n",
      "orange \t fire\n",
      "black \t cat\n",
      "white \t mouse\n",
      "golden \t dog\n",
      "\n",
      "lists after deletion: \n",
      "blue \t nose\n",
      "orange \t ice\n",
      "black \t fire\n",
      "white \t cat\n",
      "golden \t mouse\n",
      "\n",
      "Res1 \tRes2\n",
      "red \tdog\n"
     ]
    }
   ],
   "source": [
    "#removeAndSaveListElementsPop.py\n",
    "\n",
    "#define list1 and list2\n",
    "list1 = [\"red\", \"blue\", \"orange\", \"black\", \"white\", \"golden\"]\n",
    "list2 = [\"nose\", \"ice\", \"fire\", \"cat\", \"mouse\", \"dog\"]\n",
    "\n",
    "#identify what is printed in for loop\n",
    "print(\"lists before deletion: \")\n",
    "if len(list1) == len(list2):\n",
    "    # use for loop to print lists in parallel\n",
    "    for i in range(len(list1)):\n",
    "        print(list1[i],\"\\t\", list2[i])\n",
    "    \n",
    "# pass remove the values you want to remove\n",
    "list1_res = \"red\"\n",
    "list2_res = \"dog\"\n",
    "list1.remove(list1_res)\n",
    "list2.remove(list2_res)\n",
    "\n",
    "print()\n",
    "# print lists again as in lines 8-11\n",
    "print(\"lists after deletion: \")\n",
    "if len(list1) == len(list2):\n",
    "    for i in range(len(list1)):\n",
    "        print(list1[i], \"\\t\",list2[i])\n",
    "     \n",
    "print()\n",
    "print(\"Res1\", \"\\tRes2\")\n",
    "print(list1_res, \"\\t\" + (list2_res))"
   ]
  },
  {
   "cell_type": "code",
   "execution_count": 12,
   "metadata": {},
   "outputs": [
    {
     "name": "stdout",
     "output_type": "stream",
     "text": [
      "lists before deletion: \n",
      "red \t nose\n",
      "blue \t ice\n",
      "orange \t fire\n",
      "black \t cat\n",
      "white \t mouse\n",
      "golden \t dog\n"
     ]
    }
   ],
   "source": [
    "#define list1 and list2\n",
    "list1 = [\"red\", \"blue\", \"orange\", \"black\", \"white\", \"golden\"]\n",
    "list2 = [\"nose\", \"ice\", \"fire\", \"cat\", \"mouse\", \"dog\"]\n",
    "\n",
    "#identify what is printed in for loop\n",
    "print(\"lists before deletion: \")\n",
    "if len(list1) == len(list2):\n",
    "    # use for loop to print lists in parallel\n",
    "    for i in range(len(list1)):\n",
    "        print(list1[i],\"\\t\", list2[i])\n",
    "    \n",
    "# pass remove the values you want to remove\n",
    "list1_res = \"red\"\n",
    "list2_res = \"dog\""
   ]
  },
  {
   "cell_type": "code",
   "execution_count": 13,
   "metadata": {},
   "outputs": [
    {
     "name": "stdout",
     "output_type": "stream",
     "text": [
      "lists after deletion: \n",
      "blue \t nose\n",
      "orange \t ice\n",
      "black \t fire\n",
      "white \t cat\n"
     ]
    },
    {
     "ename": "IndexError",
     "evalue": "list index out of range",
     "output_type": "error",
     "traceback": [
      "\u001b[1;31m---------------------------------------------------------------------------\u001b[0m",
      "\u001b[1;31mIndexError\u001b[0m                                Traceback (most recent call last)",
      "\u001b[1;32m<ipython-input-13-2a38f490a8a0>\u001b[0m in \u001b[0;36m<module>\u001b[1;34m\u001b[0m\n\u001b[0;32m      7\u001b[0m \u001b[1;32mif\u001b[0m \u001b[0mlen\u001b[0m\u001b[1;33m(\u001b[0m\u001b[0mlist1\u001b[0m\u001b[1;33m)\u001b[0m \u001b[1;33m==\u001b[0m \u001b[0mlen\u001b[0m\u001b[1;33m(\u001b[0m\u001b[0mlist2\u001b[0m\u001b[1;33m)\u001b[0m\u001b[1;33m:\u001b[0m\u001b[1;33m\u001b[0m\u001b[1;33m\u001b[0m\u001b[0m\n\u001b[0;32m      8\u001b[0m     \u001b[1;32mfor\u001b[0m \u001b[0mi\u001b[0m \u001b[1;32min\u001b[0m \u001b[0mrange\u001b[0m\u001b[1;33m(\u001b[0m\u001b[0mlen\u001b[0m\u001b[1;33m(\u001b[0m\u001b[0mlist1\u001b[0m\u001b[1;33m)\u001b[0m\u001b[1;33m)\u001b[0m\u001b[1;33m:\u001b[0m\u001b[1;33m\u001b[0m\u001b[1;33m\u001b[0m\u001b[0m\n\u001b[1;32m----> 9\u001b[1;33m         \u001b[1;32mif\u001b[0m\u001b[1;33m(\u001b[0m\u001b[0mlen\u001b[0m\u001b[1;33m(\u001b[0m\u001b[0mlist1\u001b[0m\u001b[1;33m[\u001b[0m\u001b[0mi\u001b[0m\u001b[1;33m+\u001b[0m\u001b[1;36m1\u001b[0m\u001b[1;33m]\u001b[0m\u001b[1;33m)\u001b[0m\u001b[1;33m<\u001b[0m\u001b[1;36m5\u001b[0m\u001b[1;33m)\u001b[0m\u001b[1;33m:\u001b[0m\u001b[1;33m\u001b[0m\u001b[1;33m\u001b[0m\u001b[0m\n\u001b[0m\u001b[0;32m     10\u001b[0m             \u001b[0mlist1\u001b[0m\u001b[1;33m.\u001b[0m\u001b[0mremove\u001b[0m\u001b[1;33m(\u001b[0m\u001b[0mlist1\u001b[0m\u001b[1;33m[\u001b[0m\u001b[0mi\u001b[0m\u001b[1;33m]\u001b[0m\u001b[1;33m)\u001b[0m\u001b[1;33m\u001b[0m\u001b[1;33m\u001b[0m\u001b[0m\n\u001b[0;32m     11\u001b[0m             \u001b[0msaved_variables\u001b[0m\u001b[1;33m.\u001b[0m\u001b[0mappend\u001b[0m\u001b[1;33m(\u001b[0m\u001b[0mlist1\u001b[0m\u001b[1;33m[\u001b[0m\u001b[0mi\u001b[0m\u001b[1;33m]\u001b[0m\u001b[1;33m)\u001b[0m\u001b[1;33m\u001b[0m\u001b[1;33m\u001b[0m\u001b[0m\n",
      "\u001b[1;31mIndexError\u001b[0m: list index out of range"
     ]
    }
   ],
   "source": [
    "list1.remove(list1_res)\n",
    "list2.remove(list2_res)\n",
    "\n",
    "saved_variables = []\n",
    "saved_indices = []\n",
    "print(\"lists after deletion: \")\n",
    "if len(list1) == len(list2):\n",
    "    for i in range(len(list1)):\n",
    "        if(len(list1[i])<5):\n",
    "            list1.remove(list1[i])\n",
    "            saved_variables.append(list1[i])\n",
    "            saved_indices.append(i)\n",
    "        else:\n",
    "            print(list1[i], \"\\t\",list2[i])\n",
    "print(\"Saved lists\")\n",
    "print(saved_variables)\n",
    "print(saved_indices)"
   ]
  },
  {
   "cell_type": "code",
   "execution_count": null,
   "metadata": {},
   "outputs": [],
   "source": []
  },
  {
   "cell_type": "code",
   "execution_count": null,
   "metadata": {},
   "outputs": [],
   "source": []
  }
 ],
 "metadata": {
  "kernelspec": {
   "display_name": "Python 3",
   "language": "python",
   "name": "python3"
  },
  "language_info": {
   "codemirror_mode": {
    "name": "ipython",
    "version": 3
   },
   "file_extension": ".py",
   "mimetype": "text/x-python",
   "name": "python",
   "nbconvert_exporter": "python",
   "pygments_lexer": "ipython3",
   "version": "3.8.5"
  },
  "vscode": {
   "interpreter": {
    "hash": "081900b9bb118c517ac80c3d66bfaa638375828be94533b3225786867613032f"
   }
  }
 },
 "nbformat": 4,
 "nbformat_minor": 2
}
