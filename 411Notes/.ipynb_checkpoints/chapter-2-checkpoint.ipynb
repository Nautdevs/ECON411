{
 "cells": [
  {
   "cell_type": "code",
   "execution_count": 1,
   "metadata": {},
   "outputs": [
    {
     "name": "stdout",
     "output_type": "stream",
     "text": [
      "[]\n",
      "[1, 2, 3, 4, 5]\n",
      "[1.0, 2.0, 3.0, 4.0, 5.0]\n",
      "['This is a string', 'This is also a string']\n",
      "[1, 2.0, 'Mix it up']\n"
     ]
    }
   ],
   "source": [
    "#lists.py\n",
    "empty_list = []\n",
    "int_list = [1,2,3,4,5]\n",
    "float_list = [1.0, 2.0, 3.0, 4.0, 5.0]\n",
    "string_list = [\"This is a string\", \"This is also a string\"]\n",
    "mixed_list = [1,2.0, \"Mix it up\"]\n",
    "\n",
    "\n",
    "print(empty_list)\n",
    "print(int_list)\n",
    "print(float_list)\n",
    "print(string_list)\n",
    "print(mixed_list)\n"
   ]
  },
  {
   "cell_type": "code",
   "execution_count": 2,
   "metadata": {},
   "outputs": [
    {
     "name": "stdout",
     "output_type": "stream",
     "text": [
      "list1:  [1, 2, 3, 4]\n",
      "list2:  [5, 6, 7, 8]\n",
      "[1, 2, 3, 4, 5, 6, 7, 8]\n"
     ]
    }
   ],
   "source": [
    "#concatenate lists\n",
    "\n",
    "list1 = [1,2,3,4]\n",
    "list2 = [5,6,7,8]\n",
    "join_lists = list1+list2\n",
    "\n",
    "print(\"list1: \", list1)\n",
    "print(\"list2: \", list2)\n",
    "print(join_lists)"
   ]
  },
  {
   "cell_type": "code",
   "execution_count": 3,
   "metadata": {},
   "outputs": [
    {
     "name": "stdout",
     "output_type": "stream",
     "text": [
      "This is loop i\n",
      "This is loop i\n",
      "This is loop i\n",
      "This is loop i\n",
      "This is loop i\n"
     ]
    }
   ],
   "source": [
    "for i in range(1, 10, 2):\n",
    "    print(\"This is loop i\")"
   ]
  },
  {
   "cell_type": "code",
   "execution_count": 4,
   "metadata": {},
   "outputs": [
    {
     "name": "stdout",
     "output_type": "stream",
     "text": [
      "This is another list, but we copied the indices in list1 to it:\n",
      " [1, 2, 3, 4]\n"
     ]
    }
   ],
   "source": [
    "another_list = []\n",
    "for i in range(len(list1)):\n",
    "    another_list.append(list1[i])\n",
    "print(\"This is another list, but we copied the indices in list1 to it:\\n\", another_list)"
   ]
  },
  {
   "cell_type": "code",
   "execution_count": 5,
   "metadata": {},
   "outputs": [
    {
     "data": {
      "text/plain": [
       "4"
      ]
     },
     "execution_count": 5,
     "metadata": {},
     "output_type": "execute_result"
    }
   ],
   "source": [
    "len(another_list)"
   ]
  },
  {
   "cell_type": "markdown",
   "metadata": {},
   "source": [
    "### Creating a New List using Values from Other Lists"
   ]
  },
  {
   "cell_type": "markdown",
   "metadata": {},
   "source": [
    "| this is a table | Chequelo |\n",
    "|-----------------|----------|\n",
    "|column | column|"
   ]
  },
  {
   "cell_type": "markdown",
   "metadata": {},
   "source": [
    "|concepts|description|\n",
    "|---|---|\n",
    "|.append() and .insert() list methods|List methods append and insert increse the length of a list by adding in element to the list.|\n",
    "|if statements| If statements execute the block of code contained in it if conditions are met (returns true)|\n",
    "|else statement|this is the default case for if statements in the case the conditions are not met|\n",
    "|conditional operators in python (==, !=, <, >, <=, >=)| indicates the condition relating two variables|"
   ]
  },
  {
   "cell_type": "code",
   "execution_count": 6,
   "metadata": {},
   "outputs": [
    {
     "name": "stdout",
     "output_type": "stream",
     "text": [
      "list uno's elements: 1 2 3 4 5\n",
      "Element: 0 Value: 7\n",
      "Element: 1 Value: 8\n",
      "Element: 2 Value: 9\n",
      "Element: 3 Value: 10\n",
      "Element: 4 Value: 11\n",
      "Element: 5 Value: 12\n",
      "Element: 6 Value: 13\n",
      "[8, 10, 12, 14, 16, 18]\n"
     ]
    }
   ],
   "source": [
    "#addListElements.py\n",
    "camelCaseListUno = [1,2,3,4,5,6]\n",
    "camelCaseListDos = [7,8,9,10,11,12,13]\n",
    "print(\"list uno's elements:\", camelCaseListUno[0], camelCaseListUno[1],camelCaseListUno[2], camelCaseListUno[3], camelCaseListUno[4])\n",
    "# I am too lazy to type out list dos so I will just use a for loop\n",
    "\n",
    "for i in range(len(camelCaseListDos)):\n",
    "    print(\"Element:\", i, \"Value:\", camelCaseListDos[i])\n",
    "    \n",
    "empty_list = []\n",
    "for i in range(len(camelCaseListUno)):\n",
    "    empty_list.append(camelCaseListDos[i] + camelCaseListUno[i])\n",
    "\n",
    "print(empty_list)"
   ]
  },
  {
   "cell_type": "code",
   "execution_count": 7,
   "metadata": {},
   "outputs": [
    {
     "name": "stdout",
     "output_type": "stream",
     "text": [
      "[6, 5, 4, 3, 2, 1]\n"
     ]
    }
   ],
   "source": [
    "empty_list = []\n",
    "for i in range(len(camelCaseListUno)):\n",
    "    empty_list.insert(0,camelCaseListUno[i])\n",
    "    \n",
    "print(empty_list)"
   ]
  },
  {
   "cell_type": "code",
   "execution_count": 8,
   "metadata": {},
   "outputs": [
    {
     "name": "stdout",
     "output_type": "stream",
     "text": [
      "index 0 doesn't satisfy the condition\n",
      "This is index: 1 \n",
      "With Value: 2\n",
      "index 2 doesn't satisfy the condition\n",
      "This is index: 3 \n",
      "With Value: 4\n",
      "index 4 doesn't satisfy the condition\n",
      "This is index: 5 \n",
      "With Value: 6\n",
      "index 6 doesn't satisfy the condition\n",
      "This is index: 7 \n",
      "With Value: 8\n",
      "index 8 doesn't satisfy the condition\n",
      "This is index: 9 \n",
      "With Value: 10\n",
      "index 10 doesn't satisfy the condition\n"
     ]
    }
   ],
   "source": [
    "x = [1,2,3,4,5,6,7,8,9,10,11]\n",
    "y = [12,13,14,15,16,17,18]\n",
    "\n",
    "for i in range(len(x)):\n",
    "    if (x[i]%2<1):\n",
    "        print(\"This is index:\",i, \"\\nWith Value:\", x[i])\n",
    "    else:\n",
    "        print(\"index\", i, \"doesn't satisfy the condition\")\n"
   ]
  },
  {
   "cell_type": "markdown",
   "metadata": {},
   "source": [
    "### Methods to remove list elements"
   ]
  },
  {
   "cell_type": "markdown",
   "metadata": {},
   "source": [
    "| method | description|\n",
    "|---|---|\n",
    "|del|deletes an element from a list, this is a command and not a method (keyword)|\n",
    "|pop()|removes the last element|\n",
    "|remove()|deletes an explicitly identified element|\n",
    "|append|adds an additional elements at the end of a list|\n"
   ]
  },
  {
   "cell_type": "code",
   "execution_count": 1,
   "metadata": {},
   "outputs": [
    {
     "name": "stdout",
     "output_type": "stream",
     "text": [
      "Lists before deleting elements:\n",
      "red \t sky blue\n",
      "green \t sky green\n",
      "blue \t sky purple\n",
      "indigo \t lilac\n",
      "Lists after deleting elements:\n",
      "green \t sky blue\n",
      "blue \t sky green\n",
      "indigo \t sky purple\n"
     ]
    }
   ],
   "source": [
    "#deleteListElements.py\n",
    "L1 = [\"red\",\"green\", \"blue\", \"indigo\"]\n",
    "L2 = [\"sky blue\", \"sky green\", \"sky purple\", \"lilac\"]\n",
    "\n",
    "print(\"Lists before deleting elements:\")\n",
    "for i in range(len(L1)):\n",
    "    print(L1[i], \"\\t\", L2[i])\n",
    "\n",
    "del L1[0]\n",
    "del L2[3]\n",
    "print(\"Lists after deleting elements:\")\n",
    "for i in range(len(L1)):\n",
    "    print(L1[i], \"\\t\", L2[i])\n"
   ]
  },
  {
   "cell_type": "code",
   "execution_count": 2,
   "metadata": {},
   "outputs": [
    {
     "name": "stdout",
     "output_type": "stream",
     "text": [
      "green \t sky blue\n",
      "blue \t sky green\n",
      "indigo \t lilac\n"
     ]
    }
   ],
   "source": [
    "#deleteListElements.py\n",
    "L1 = [\"red\",\"green\", \"blue\", \"indigo\"]\n",
    "L2 = [\"sky blue\", \"sky green\", \"sky purple\", \"lilac\"]\n",
    "\n",
    "L1.remove(\"red\")\n",
    "L2.remove(\"sky purple\")\n",
    "\n",
    "for i in range(len(L1)):\n",
    "    print(L1[i], \"\\t\", L2[i])"
   ]
  },
  {
   "cell_type": "code",
   "execution_count": 4,
   "metadata": {},
   "outputs": [
    {
     "name": "stdout",
     "output_type": "stream",
     "text": [
      "j False\n",
      "k True\n",
      "j False\n",
      "f False\n",
      "d False\n",
      "h False\n",
      "s False\n",
      "k True\n",
      "l False\n",
      "j False\n",
      "f False\n",
      "d False\n",
      "a False\n",
      "p False\n",
      "j False\n",
      "d False\n",
      "k True\n",
      "f False\n",
      "k True\n",
      "w False\n",
      "e False\n",
      "k True\n",
      "r False\n",
      "d False\n",
      "f False\n",
      "k True\n"
     ]
    }
   ],
   "source": [
    "string1 = 'jkjfdhskljfdapjdkfkwekrdfk'\n",
    "\n",
    "for k in string1:\n",
    "    print(k, k==\"k\")"
   ]
  },
  {
   "cell_type": "markdown",
   "metadata": {},
   "source": [
    "You can pass the remove method a variable containing variables containing explicit values you want to remove."
   ]
  },
  {
   "cell_type": "code",
   "execution_count": 11,
   "metadata": {},
   "outputs": [
    {
     "name": "stdout",
     "output_type": "stream",
     "text": [
      "lists before deletion: \n",
      "red \t nose\n",
      "blue \t ice\n",
      "orange \t fire\n",
      "black \t cat\n",
      "white \t mouse\n",
      "golden \t dog\n",
      "\n",
      "lists after deletion: \n",
      "blue \t nose\n",
      "orange \t ice\n",
      "black \t fire\n",
      "white \t cat\n",
      "golden \t mouse\n",
      "\n",
      "Res1 \tRes2\n",
      "red \tdog\n"
     ]
    }
   ],
   "source": [
    "#removeAndSaveListElementsPop.py\n",
    "\n",
    "#define list1 and list2\n",
    "list1 = [\"red\", \"blue\", \"orange\", \"black\", \"white\", \"golden\"]\n",
    "list2 = [\"nose\", \"ice\", \"fire\", \"cat\", \"mouse\", \"dog\"]\n",
    "\n",
    "#identify what is printed in for loop\n",
    "print(\"lists before deletion: \")\n",
    "if len(list1) == len(list2):\n",
    "    # use for loop to print lists in parallel\n",
    "    for i in range(len(list1)):\n",
    "        print(list1[i],\"\\t\", list2[i])\n",
    "    \n",
    "# pass remove the values you want to remove\n",
    "list1_res = \"red\"\n",
    "list2_res = \"dog\"\n",
    "list1.remove(list1_res)\n",
    "list2.remove(list2_res)\n",
    "\n",
    "print()\n",
    "# print lists again as in lines 8-11\n",
    "print(\"lists after deletion: \")\n",
    "if len(list1) == len(list2):\n",
    "    for i in range(len(list1)):\n",
    "        print(list1[i], \"\\t\",list2[i])\n",
    "     \n",
    "print()\n",
    "print(\"Res1\", \"\\tRes2\")\n",
    "print(list1_res, \"\\t\" + (list2_res))"
   ]
  },
  {
   "cell_type": "code",
   "execution_count": 12,
   "metadata": {},
   "outputs": [
    {
     "name": "stdout",
     "output_type": "stream",
     "text": [
      "lists before deletion: \n",
      "red \t nose\n",
      "blue \t ice\n",
      "orange \t fire\n",
      "black \t cat\n",
      "white \t mouse\n",
      "golden \t dog\n"
     ]
    }
   ],
   "source": [
    "#define list1 and list2\n",
    "list1 = [\"red\", \"blue\", \"orange\", \"black\", \"white\", \"golden\"]\n",
    "list2 = [\"nose\", \"ice\", \"fire\", \"cat\", \"mouse\", \"dog\"]\n",
    "\n",
    "#identify what is printed in for loop\n",
    "print(\"lists before deletion: \")\n",
    "if len(list1) == len(list2):\n",
    "    # use for loop to print lists in parallel\n",
    "    for i in range(len(list1)):\n",
    "        print(list1[i],\"\\t\", list2[i])\n",
    "    \n",
    "# pass remove the values you want to remove\n",
    "list1_res = \"red\"\n",
    "list2_res = \"dog\""
   ]
  },
  {
   "cell_type": "code",
   "execution_count": 13,
   "metadata": {
    "scrolled": true
   },
   "outputs": [
    {
     "name": "stdout",
     "output_type": "stream",
     "text": [
      "lists after deletion: \n",
      "black \t ice\n",
      "white \t fire\n",
      "golden \t cat\n"
     ]
    },
    {
     "ename": "IndexError",
     "evalue": "list index out of range",
     "output_type": "error",
     "traceback": [
      "\u001b[1;31m---------------------------------------------------------------------------\u001b[0m",
      "\u001b[1;31mIndexError\u001b[0m                                Traceback (most recent call last)",
      "\u001b[1;32m<ipython-input-13-69165d010385>\u001b[0m in \u001b[0;36m<module>\u001b[1;34m\u001b[0m\n\u001b[0;32m      7\u001b[0m \u001b[1;32mif\u001b[0m \u001b[0mlen\u001b[0m\u001b[1;33m(\u001b[0m\u001b[0mlist1\u001b[0m\u001b[1;33m)\u001b[0m \u001b[1;33m==\u001b[0m \u001b[0mlen\u001b[0m\u001b[1;33m(\u001b[0m\u001b[0mlist2\u001b[0m\u001b[1;33m)\u001b[0m\u001b[1;33m:\u001b[0m\u001b[1;33m\u001b[0m\u001b[1;33m\u001b[0m\u001b[0m\n\u001b[0;32m      8\u001b[0m     \u001b[1;32mfor\u001b[0m \u001b[0mi\u001b[0m \u001b[1;32min\u001b[0m \u001b[0mrange\u001b[0m\u001b[1;33m(\u001b[0m\u001b[0mlen\u001b[0m\u001b[1;33m(\u001b[0m\u001b[0mlist1\u001b[0m\u001b[1;33m)\u001b[0m\u001b[1;33m)\u001b[0m\u001b[1;33m:\u001b[0m\u001b[1;33m\u001b[0m\u001b[1;33m\u001b[0m\u001b[0m\n\u001b[1;32m----> 9\u001b[1;33m         \u001b[1;32mif\u001b[0m\u001b[1;33m(\u001b[0m\u001b[0mlen\u001b[0m\u001b[1;33m(\u001b[0m\u001b[0mlist1\u001b[0m\u001b[1;33m[\u001b[0m\u001b[0mi\u001b[0m\u001b[1;33m]\u001b[0m\u001b[1;33m)\u001b[0m\u001b[1;33m<\u001b[0m\u001b[1;36m5\u001b[0m\u001b[1;33m)\u001b[0m\u001b[1;33m:\u001b[0m\u001b[1;33m\u001b[0m\u001b[1;33m\u001b[0m\u001b[0m\n\u001b[0m\u001b[0;32m     10\u001b[0m             \u001b[0mlist1\u001b[0m\u001b[1;33m.\u001b[0m\u001b[0mremove\u001b[0m\u001b[1;33m(\u001b[0m\u001b[0mlist1\u001b[0m\u001b[1;33m[\u001b[0m\u001b[0mi\u001b[0m\u001b[1;33m]\u001b[0m\u001b[1;33m)\u001b[0m\u001b[1;33m\u001b[0m\u001b[1;33m\u001b[0m\u001b[0m\n\u001b[0;32m     11\u001b[0m             \u001b[0msaved_variables\u001b[0m\u001b[1;33m.\u001b[0m\u001b[0mappend\u001b[0m\u001b[1;33m(\u001b[0m\u001b[0mlist1\u001b[0m\u001b[1;33m[\u001b[0m\u001b[0mi\u001b[0m\u001b[1;33m]\u001b[0m\u001b[1;33m)\u001b[0m\u001b[1;33m\u001b[0m\u001b[1;33m\u001b[0m\u001b[0m\n",
      "\u001b[1;31mIndexError\u001b[0m: list index out of range"
     ]
    }
   ],
   "source": [
    "list1.remove(list1_res)\n",
    "list2.remove(list2_res)\n",
    "\n",
    "saved_variables = []\n",
    "saved_indices = []\n",
    "print(\"lists after deletion: \")\n",
    "if len(list1) == len(list2):\n",
    "    for i in range(len(list1)):\n",
    "        if(len(list1[i])<5):\n",
    "            list1.remove(list1[i])\n",
    "            saved_variables.append(list1[i])\n",
    "            saved_indices.append(i)\n",
    "        else:\n",
    "            print(list1[i], \"\\t\",list2[i])\n",
    "print(\"Saved lists\")\n",
    "print(saved_variables)\n",
    "print(saved_indices)"
   ]
  },
  {
   "cell_type": "code",
   "execution_count": 19,
   "metadata": {},
   "outputs": [
    {
     "ename": "TypeError",
     "evalue": "'list' object cannot be interpreted as an integer",
     "output_type": "error",
     "traceback": [
      "\u001b[1;31m---------------------------------------------------------------------------\u001b[0m",
      "\u001b[1;31mTypeError\u001b[0m                                 Traceback (most recent call last)",
      "\u001b[1;32m<ipython-input-19-1b45d9776dc6>\u001b[0m in \u001b[0;36m<module>\u001b[1;34m\u001b[0m\n\u001b[1;32m----> 1\u001b[1;33m \u001b[1;32mfor\u001b[0m \u001b[0mi\u001b[0m \u001b[1;32min\u001b[0m \u001b[0mrange\u001b[0m\u001b[1;33m(\u001b[0m\u001b[0mlist1\u001b[0m\u001b[1;33m)\u001b[0m\u001b[1;33m:\u001b[0m\u001b[1;33m\u001b[0m\u001b[1;33m\u001b[0m\u001b[0m\n\u001b[0m\u001b[0;32m      2\u001b[0m     \u001b[1;32mif\u001b[0m \u001b[0mlen\u001b[0m\u001b[1;33m(\u001b[0m\u001b[0mi\u001b[0m\u001b[1;33m)\u001b[0m\u001b[1;33m<=\u001b[0m\u001b[1;36m5\u001b[0m\u001b[1;33m:\u001b[0m\u001b[1;33m\u001b[0m\u001b[1;33m\u001b[0m\u001b[0m\n\u001b[0;32m      3\u001b[0m         \u001b[1;32mcontinue\u001b[0m\u001b[1;33m\u001b[0m\u001b[1;33m\u001b[0m\u001b[0m\n\u001b[0;32m      4\u001b[0m     \u001b[1;32melse\u001b[0m\u001b[1;33m:\u001b[0m\u001b[1;33m\u001b[0m\u001b[1;33m\u001b[0m\u001b[0m\n\u001b[0;32m      5\u001b[0m         \u001b[0mlist1\u001b[0m\u001b[1;33m.\u001b[0m\u001b[0mremove\u001b[0m\u001b[1;33m(\u001b[0m\u001b[0mi\u001b[0m\u001b[1;33m)\u001b[0m\u001b[1;33m\u001b[0m\u001b[1;33m\u001b[0m\u001b[0m\n",
      "\u001b[1;31mTypeError\u001b[0m: 'list' object cannot be interpreted as an integer"
     ]
    }
   ],
   "source": [
    "for i in range(list1):\n",
    "    if len(i)<=5:\n",
    "        continue\n",
    "    else:\n",
    "        list1.remove(i)"
   ]
  },
  {
   "cell_type": "code",
   "execution_count": 21,
   "metadata": {},
   "outputs": [
    {
     "name": "stdout",
     "output_type": "stream",
     "text": [
      "lists before deletion: \n",
      "red \t nose\n",
      "blue \t ice\n",
      "orange \t fire\n",
      "black \t cat\n",
      "white \t mouse\n",
      "golden \t dog\n",
      "\n",
      "lists after deletion: \n",
      "blue \t nose\n",
      "orange \t ice\n",
      "black \t fire\n",
      "white \t cat\n",
      "golden \t mouse\n",
      "\n",
      "Res1 \tRes2\n",
      "red \tdog\n"
     ]
    }
   ],
   "source": [
    "#removeAndSaveListElementsPop.py\n",
    "\n",
    "#define list1 and list2\n",
    "list1 = [\"red\", \"blue\", \"orange\", \"black\", \"white\", \"golden\"]\n",
    "list2 = [\"nose\", \"ice\", \"fire\", \"cat\", \"mouse\", \"dog\"]\n",
    "\n",
    "#identify what is printed in for loop\n",
    "print(\"lists before deletion: \")\n",
    "if len(list1) == len(list2):\n",
    "    # use for loop to print lists in parallel\n",
    "    for i in range(len(list1)):\n",
    "        print(list1[i],\"\\t\", list2[i])\n",
    "    \n",
    "# remove list elements and save them as variables '_res\"\n",
    "list1_res = \"red\"\n",
    "list2_res = \"dog\"\n",
    "list1.remove(list1_res)\n",
    "list2.remove(list2_res)\n",
    "\n",
    "print()\n",
    "# print lists again as in lines 8-11\n",
    "print(\"lists after deletion: \")\n",
    "if len(list1) == len(list2):\n",
    "    for i in range(len(list1)):\n",
    "        print(list1[i], \"\\t\",list2[i])\n",
    "     \n",
    "print()\n",
    "print(\"Res1\", \"\\tRes2\")\n",
    "print(list1_res, \"\\t\" + (list2_res))"
   ]
  },
  {
   "cell_type": "markdown",
   "metadata": {},
   "source": [
    "### Skip index using a For loop\n"
   ]
  },
  {
   "cell_type": "code",
   "execution_count": 1,
   "metadata": {},
   "outputs": [
    {
     "name": "stdout",
     "output_type": "stream",
     "text": [
      "list1 elements: 1 2 3 4 5\n",
      "list2 elements: 11 12 13 14 15\n",
      "list3: [12, 16, 20, 24, 28]\n"
     ]
    }
   ],
   "source": [
    "#addListElements5.py\n",
    "list1 = [1,2,3,4,5,6,7,8,9,10]\n",
    "list2 = [11,12,13,14,15,16,17,18,19,20]\n",
    "print(\"list1 elements:\", list1[0], list1[1], list1[2], list1[3], list1[4])\n",
    "print(\"list2 elements:\", list2[0], list2[1], list2[2], list2[3], list2[4])\n",
    "\n",
    "list3 = []\n",
    "j = len(list1)\n",
    "if j == len(list2):\n",
    "    for i in range(0, j, 2):\n",
    "        list3.append(list1[i] + list2[i])\n",
    "else:\n",
    "    print(\"Lists are not the same length, cannot perform element-wise operations.\")\n",
    "print(\"list3:\", list3)"
   ]
  },
  {
   "cell_type": "code",
   "execution_count": 3,
   "metadata": {},
   "outputs": [
    {
     "name": "stdout",
     "output_type": "stream",
     "text": [
      "0\n",
      "\tAfter:  [0]\n",
      "3\n",
      "\tAfter:  [0, 3]\n",
      "6\n",
      "\tAfter:  [0, 3, 6]\n",
      "9\n",
      "\tAfter:  [0, 3, 6, 9]\n",
      "12\n",
      "\tAfter:  [0, 3, 6, 9, 12]\n",
      "15\n",
      "\tAfter:  [0, 3, 6, 9, 12, 15]\n",
      "18\n",
      "\tAfter:  [0, 3, 6, 9, 12, 15, 18]\n",
      "21\n",
      "\tAfter:  [0, 3, 6, 9, 12, 15, 18, 21]\n",
      "24\n",
      "\tAfter:  [0, 3, 6, 9, 12, 15, 18, 21, 24]\n",
      "27\n",
      "\tAfter:  [0, 3, 6, 9, 12, 15, 18, 21, 24, 27]\n",
      "30\n",
      "\tAfter:  [0, 3, 6, 9, 12, 15, 18, 21, 24, 27, 30]\n",
      "33\n",
      "\tAfter:  [0, 3, 6, 9, 12, 15, 18, 21, 24, 27, 30, 33]\n",
      "36\n",
      "\tAfter:  [0, 3, 6, 9, 12, 15, 18, 21, 24, 27, 30, 33, 36]\n",
      "39\n",
      "\tAfter:  [0, 3, 6, 9, 12, 15, 18, 21, 24, 27, 30, 33, 36, 39]\n",
      "42\n",
      "\tAfter:  [0, 3, 6, 9, 12, 15, 18, 21, 24, 27, 30, 33, 36, 39, 42]\n",
      "45\n",
      "\tAfter:  [0, 3, 6, 9, 12, 15, 18, 21, 24, 27, 30, 33, 36, 39, 42, 45]\n",
      "48\n",
      "\tAfter:  [0, 3, 6, 9, 12, 15, 18, 21, 24, 27, 30, 33, 36, 39, 42, 45, 48]\n",
      "51\n",
      "\tAfter:  [0, 3, 6, 9, 12, 15, 18, 21, 24, 27, 30, 33, 36, 39, 42, 45, 48, 51]\n",
      "54\n",
      "\tAfter:  [0, 3, 6, 9, 12, 15, 18, 21, 24, 27, 30, 33, 36, 39, 42, 45, 48, 51, 54]\n",
      "57\n",
      "\tAfter:  [0, 3, 6, 9, 12, 15, 18, 21, 24, 27, 30, 33, 36, 39, 42, 45, 48, 51, 54, 57]\n",
      "60\n",
      "\tAfter:  [0, 3, 6, 9, 12, 15, 18, 21, 24, 27, 30, 33, 36, 39, 42, 45, 48, 51, 54, 57, 60]\n",
      "63\n",
      "\tAfter:  [0, 3, 6, 9, 12, 15, 18, 21, 24, 27, 30, 33, 36, 39, 42, 45, 48, 51, 54, 57, 60, 63]\n",
      "66\n",
      "\tAfter:  [0, 3, 6, 9, 12, 15, 18, 21, 24, 27, 30, 33, 36, 39, 42, 45, 48, 51, 54, 57, 60, 63, 66]\n",
      "69\n",
      "\tAfter:  [0, 3, 6, 9, 12, 15, 18, 21, 24, 27, 30, 33, 36, 39, 42, 45, 48, 51, 54, 57, 60, 63, 66, 69]\n",
      "72\n",
      "\tAfter:  [0, 3, 6, 9, 12, 15, 18, 21, 24, 27, 30, 33, 36, 39, 42, 45, 48, 51, 54, 57, 60, 63, 66, 69, 72]\n",
      "75\n",
      "\tAfter:  [0, 3, 6, 9, 12, 15, 18, 21, 24, 27, 30, 33, 36, 39, 42, 45, 48, 51, 54, 57, 60, 63, 66, 69, 72, 75]\n",
      "78\n",
      "\tAfter:  [0, 3, 6, 9, 12, 15, 18, 21, 24, 27, 30, 33, 36, 39, 42, 45, 48, 51, 54, 57, 60, 63, 66, 69, 72, 75, 78]\n",
      "81\n",
      "\tAfter:  [0, 3, 6, 9, 12, 15, 18, 21, 24, 27, 30, 33, 36, 39, 42, 45, 48, 51, 54, 57, 60, 63, 66, 69, 72, 75, 78, 81]\n",
      "84\n",
      "\tAfter:  [0, 3, 6, 9, 12, 15, 18, 21, 24, 27, 30, 33, 36, 39, 42, 45, 48, 51, 54, 57, 60, 63, 66, 69, 72, 75, 78, 81, 84]\n",
      "87\n",
      "\tAfter:  [0, 3, 6, 9, 12, 15, 18, 21, 24, 27, 30, 33, 36, 39, 42, 45, 48, 51, 54, 57, 60, 63, 66, 69, 72, 75, 78, 81, 84, 87]\n",
      "90\n",
      "\tAfter:  [0, 3, 6, 9, 12, 15, 18, 21, 24, 27, 30, 33, 36, 39, 42, 45, 48, 51, 54, 57, 60, 63, 66, 69, 72, 75, 78, 81, 84, 87, 90]\n",
      "93\n",
      "\tAfter:  [0, 3, 6, 9, 12, 15, 18, 21, 24, 27, 30, 33, 36, 39, 42, 45, 48, 51, 54, 57, 60, 63, 66, 69, 72, 75, 78, 81, 84, 87, 90, 93]\n",
      "96\n",
      "\tAfter:  [0, 3, 6, 9, 12, 15, 18, 21, 24, 27, 30, 33, 36, 39, 42, 45, 48, 51, 54, 57, 60, 63, 66, 69, 72, 75, 78, 81, 84, 87, 90, 93, 96]\n",
      "99\n",
      "\tAfter:  [0, 3, 6, 9, 12, 15, 18, 21, 24, 27, 30, 33, 36, 39, 42, 45, 48, 51, 54, 57, 60, 63, 66, 69, 72, 75, 78, 81, 84, 87, 90, 93, 96, 99]\n",
      "[0, 3, 6, 9, 12, 15, 18, 21, 24, 27, 30, 33, 36, 39, 42, 45, 48, 51, 54, 57, 60, 63, 66, 69, 72, 75, 78, 81, 84, 87, 90, 93, 96, 99]\n"
     ]
    }
   ],
   "source": [
    "list_uno = []\n",
    "for i in range (0, 100, 3):\n",
    "    print(i)\n",
    "    list_uno.append(i)\n",
    "    print(\"\\tAfter: \", list_uno)\n",
    "    \n",
    "print(list_uno)"
   ]
  },
  {
   "cell_type": "code",
   "execution_count": 9,
   "metadata": {},
   "outputs": [
    {
     "name": "stdout",
     "output_type": "stream",
     "text": [
      "[0, 3, 6]\n"
     ]
    }
   ],
   "source": [
    "range_list = list(range(0,9,3))\n",
    "print(range_list)"
   ]
  },
  {
   "cell_type": "markdown",
   "metadata": {},
   "source": [
    "# Nested For Loop~!"
   ]
  },
  {
   "cell_type": "code",
   "execution_count": 16,
   "metadata": {},
   "outputs": [
    {
     "name": "stdout",
     "output_type": "stream",
     "text": [
      "i list\n",
      "1 [0, 1, 2, 3, 4, 5, 6, 7, 8]\n",
      "length: 9\n",
      "j val\n",
      "0 0\n",
      "1 1\n",
      "2 2\n",
      "3 3\n",
      "4 4\n",
      "5 5\n",
      "6 6\n",
      "7 7\n",
      "8 8\n",
      "2 [0, 2, 4, 6, 8]\n",
      "length: 5\n",
      "j val\n",
      "0 0\n",
      "1 2\n",
      "2 4\n",
      "3 6\n",
      "4 8\n",
      "3 [0, 3, 6]\n",
      "length: 3\n",
      "j val\n",
      "0 0\n",
      "1 3\n",
      "2 6\n",
      "4 [0, 4, 8]\n",
      "length: 3\n",
      "j val\n",
      "0 0\n",
      "1 4\n",
      "2 8\n",
      "5 [0, 5]\n",
      "length: 2\n",
      "j val\n",
      "0 0\n",
      "1 5\n"
     ]
    }
   ],
   "source": [
    "print(\"i\", \"list\")\n",
    "\n",
    "for i in range(1,6):\n",
    "    list2=list(range(0,9,i))\n",
    "    print(i,list2)\n",
    "    print(\"length:\", len(list2))\n",
    "    print(\"j\", \"val\")\n",
    "    for j in range(len(list2)):\n",
    "        print(j,list2[j])"
   ]
  },
  {
   "cell_type": "code",
   "execution_count": 26,
   "metadata": {},
   "outputs": [
    {
     "name": "stdout",
     "output_type": "stream",
     "text": [
      "[0, 1, 2, 3, 4, 5, 6, 7, 8, 9, 10, 11, 12, 13, 14, 15, 16, 17, 18, 19, 20, 21, 22, 23, 24, 25, 26, 27, 28, 29, 30, 31, 32, 33, 34, 35, 36, 37, 38, 39, 40, 41, 42, 43, 44, 45, 46, 47, 48, 49, 50, 51, 52, 53, 54, 55, 56, 57, 58, 59, 60, 61, 62, 63, 64, 65, 66, 67, 68, 69, 70, 71, 72, 73, 74, 75, 76, 77, 78, 79, 80, 81, 82, 83, 84, 85, 86, 87, 88, 89, 90, 91, 92, 93, 94, 95, 96, 97, 98, 99] \n",
      "Length: 100\n"
     ]
    }
   ],
   "source": [
    "boolist = list(range(0,100,1))\n",
    "print(boolist, \"\\nLength:\", len(boolist))"
   ]
  },
  {
   "cell_type": "code",
   "execution_count": 29,
   "metadata": {},
   "outputs": [
    {
     "ename": "SyntaxError",
     "evalue": "invalid syntax (<ipython-input-29-1a74268b5de2>, line 4)",
     "output_type": "error",
     "traceback": [
      "\u001b[1;36m  File \u001b[1;32m\"<ipython-input-29-1a74268b5de2>\"\u001b[1;36m, line \u001b[1;32m4\u001b[0m\n\u001b[1;33m    except:\u001b[0m\n\u001b[1;37m    ^\u001b[0m\n\u001b[1;31mSyntaxError\u001b[0m\u001b[1;31m:\u001b[0m invalid syntax\n"
     ]
    }
   ],
   "source": [
    "for i in boolist:\n",
    "    if (i%2 == 0):\n",
    "        print(\"Yes\\t\", i)\n",
    "    else:\n",
    "        print(\"No:\\t\", i)"
   ]
  },
  {
   "cell_type": "code",
   "execution_count": null,
   "metadata": {},
   "outputs": [],
   "source": []
  }
 ],
 "metadata": {
  "kernelspec": {
   "display_name": "Python 3",
   "language": "python",
   "name": "python3"
  },
  "language_info": {
   "codemirror_mode": {
    "name": "ipython",
    "version": 3
   },
   "file_extension": ".py",
   "mimetype": "text/x-python",
   "name": "python",
   "nbconvert_exporter": "python",
   "pygments_lexer": "ipython3",
   "version": "3.8.5"
  },
  "vscode": {
   "interpreter": {
    "hash": "081900b9bb118c517ac80c3d66bfaa638375828be94533b3225786867613032f"
   }
  }
 },
 "nbformat": 4,
 "nbformat_minor": 2
}
