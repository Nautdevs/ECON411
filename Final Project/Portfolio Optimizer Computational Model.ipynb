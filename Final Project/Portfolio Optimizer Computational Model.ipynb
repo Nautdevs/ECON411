{
 "cells": [
  {
   "cell_type": "markdown",
   "metadata": {},
   "source": [
    "# Introduction"
   ]
  },
  {
   "cell_type": "markdown",
   "metadata": {},
   "source": [
    "Asset allocation is an important topic for financiers and individuals concerned with their financial portfolio's stability. The objective is simply to captue the greatest returns for whatever chosen level of risk that the individual is willing to carry. Through diversification of asset classes and types, modern portfolio theory posits that an investor can create an optimal portfolio given their level of risk tolerance."
   ]
  },
  {
   "cell_type": "markdown",
   "metadata": {},
   "source": [
    "# Bibliography\n",
    "    Nowrasteh. https://www.cato.org/blog/immigrants-reduce-unionization-united-states?gclid=CjwKCAiA_6yfBhBNEiwAkmXy54xHvSJ1q6ikkO5BjKsqvvCkwM0hT2hzqla7w-sUAHlYJJjf4BrjchoCk7sQAvD_BwE\n",
    "   "
   ]
  },
  {
   "cell_type": "code",
   "execution_count": null,
   "metadata": {},
   "outputs": [],
   "source": []
  }
 ],
 "metadata": {
  "kernelspec": {
   "display_name": "Python 3",
   "language": "python",
   "name": "python3"
  },
  "language_info": {
   "codemirror_mode": {
    "name": "ipython",
    "version": 3
   },
   "file_extension": ".py",
   "mimetype": "text/x-python",
   "name": "python",
   "nbconvert_exporter": "python",
   "pygments_lexer": "ipython3",
   "version": "3.8.5"
  }
 },
 "nbformat": 4,
 "nbformat_minor": 4
}
