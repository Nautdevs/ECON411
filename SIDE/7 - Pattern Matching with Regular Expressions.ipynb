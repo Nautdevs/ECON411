{
 "cells": [
  {
   "cell_type": "markdown",
   "metadata": {},
   "source": [
    "# Regular Expressions\n",
    "This is from the 'Automate the Boring Stuff' text authored by Al Sweigert.\n",
    "\n",
    "\n",
    "These alllow you to specify a pattern of text to search for.\n",
    "\n",
    "Let us try and search without using regular expressions"
   ]
  },
  {
   "cell_type": "code",
   "execution_count": 2,
   "metadata": {},
   "outputs": [],
   "source": [
    "def isPhoneNumber(text):\n",
    "    if len(text) != 12:\n",
    "        return False\n",
    "    for i in range(0,3):\n",
    "        if not text[i].isdecimal():\n",
    "            return False\n",
    "    if text[3] != '-':\n",
    "        return False\n",
    "    for i in range(4,7):\n",
    "        if not text[i].isdecimal():\n",
    "            return False\n",
    "    if text[7] != '-':\n",
    "        return False\n",
    "    for i in range(8,12):\n",
    "        if not text[i].isdecimal():\n",
    "            return False\n",
    "    return True\n",
    "# Returns False if the pattern of the string passed does not match ###-###-####"
   ]
  },
  {
   "cell_type": "code",
   "execution_count": 6,
   "metadata": {},
   "outputs": [
    {
     "data": {
      "text/plain": [
       "(True, False)"
      ]
     },
     "execution_count": 6,
     "metadata": {},
     "output_type": "execute_result"
    }
   ],
   "source": [
    "testText = '701-440-1933'\n",
    "testText1 = '701-440-19999'\n",
    "isPhoneNumber(testText),isPhoneNumber(testText1) "
   ]
  },
  {
   "cell_type": "code",
   "execution_count": 48,
   "metadata": {},
   "outputs": [
    {
     "name": "stdout",
     "output_type": "stream",
     "text": [
      "phone number found: 415-555-9999\n",
      "Done\n"
     ]
    }
   ],
   "source": [
    "message = 'Call me at 415-555110111 tomorrow. 415-555-9999 is my office.'\n",
    "for i in range(len(message)):\n",
    "    chunk = message[i:i+12]\n",
    "    if isPhoneNumber(chunk):\n",
    "        print('phone number found: ' + chunk)\n",
    "print('Done')"
   ]
  },
  {
   "cell_type": "markdown",
   "metadata": {},
   "source": [
    "The prior program takes 12 unit long slices and checks them against the isPhoneNumber algorithm. \n",
    "For every iteration in the loop, a chunk of 'i to i+12' is taken.\n",
    "We can see the iterations in the following:"
   ]
  },
  {
   "cell_type": "code",
   "execution_count": 49,
   "metadata": {},
   "outputs": [
    {
     "name": "stdout",
     "output_type": "stream",
     "text": [
      "Call me at 4\n",
      "all me at 41\n",
      "ll me at 415\n",
      "l me at 415-\n",
      " me at 415-5\n",
      "me at 415-55\n",
      "e at 415-555\n",
      " at 415-5551\n",
      "at 415-55511\n",
      "t 415-555110\n",
      " 415-5551101\n",
      "415-55511011\n",
      "15-555110111\n",
      "5-555110111 \n",
      "-555110111 t\n",
      "555110111 to\n",
      "55110111 tom\n",
      "5110111 tomo\n",
      "110111 tomor\n",
      "10111 tomorr\n",
      "0111 tomorro\n",
      "111 tomorrow\n",
      "11 tomorrow.\n",
      "1 tomorrow. \n",
      " tomorrow. 4\n",
      "tomorrow. 41\n",
      "omorrow. 415\n",
      "morrow. 415-\n",
      "orrow. 415-5\n",
      "rrow. 415-55\n",
      "row. 415-555\n",
      "ow. 415-555-\n",
      "w. 415-555-9\n",
      ". 415-555-99\n",
      " 415-555-999\n",
      "415-555-9999\n",
      "15-555-9999 \n",
      "5-555-9999 i\n",
      "-555-9999 is\n",
      "555-9999 is \n",
      "55-9999 is m\n",
      "5-9999 is my\n",
      "-9999 is my \n",
      "9999 is my o\n",
      "999 is my of\n",
      "99 is my off\n",
      "9 is my offi\n",
      " is my offic\n",
      "is my office\n",
      "s my office.\n",
      " my office.\n",
      "my office.\n",
      "y office.\n",
      " office.\n",
      "office.\n",
      "ffice.\n",
      "fice.\n",
      "ice.\n",
      "ce.\n",
      "e.\n",
      ".\n"
     ]
    }
   ],
   "source": [
    "for i in range(len(message)):\n",
    "    chunk = message[i:i+12]\n",
    "    print(chunk)"
   ]
  },
  {
   "cell_type": "markdown",
   "metadata": {},
   "source": [
    "The message could theoretically be a million words long and it would run very quickly. The point of regular expressions is that it makes it extremely fast to make programs like this. What if the phone number was in the form (415) 777 9029 or 919.929.1002? Clearly this function would no longer work."
   ]
  },
  {
   "cell_type": "markdown",
   "metadata": {},
   "source": [
    "# Definition\n",
    "### Regular Expression (regex) - descriptions for a pattern of text.\n",
    "- \\d stands for any single numeral from 0 to 9\n",
    "- \\d\\d\\d-\\d\\d\\d-\\d\\d\\d\\d finds the same pattern as the program we just wrote.\n",
    "- \\d{3}-\\d{3}-\\d{4} ALSO finds the same pattern as the program we just wrote.\n",
    "- {3} says, \"Match this pattern three times.\n",
    "\n",
    "### Creating Regex Objects in Python"
   ]
  },
  {
   "cell_type": "code",
   "execution_count": 50,
   "metadata": {},
   "outputs": [],
   "source": [
    "# All the regex functions in python are in the re module.\n",
    "import re"
   ]
  },
  {
   "cell_type": "code",
   "execution_count": 51,
   "metadata": {},
   "outputs": [
    {
     "data": {
      "text/plain": [
       "re.Pattern"
      ]
     },
     "execution_count": 51,
     "metadata": {},
     "output_type": "execute_result"
    }
   ],
   "source": [
    "# Passing a regular expression to re.compile() returns a regex pattern object\n",
    "phoneNumRegex = re.compile(r'\\d\\d\\d-\\d\\d\\d-\\d\\d\\d\\d')\n",
    "type(phoneNumRegex)"
   ]
  },
  {
   "cell_type": "code",
   "execution_count": 52,
   "metadata": {},
   "outputs": [
    {
     "name": "stdout",
     "output_type": "stream",
     "text": [
      "Phone number found: 415-555-9999\n"
     ]
    }
   ],
   "source": [
    "mo = phoneNumRegex.search(message)\n",
    "print('Phone number found: ' + mo.group())"
   ]
  },
  {
   "cell_type": "code",
   "execution_count": 53,
   "metadata": {},
   "outputs": [
    {
     "data": {
      "text/plain": [
       "<re.Match object; span=(35, 47), match='415-555-9999'>"
      ]
     },
     "execution_count": 53,
     "metadata": {},
     "output_type": "execute_result"
    }
   ],
   "source": [
    "mo"
   ]
  },
  {
   "cell_type": "markdown",
   "metadata": {},
   "source": [
    "What if we changed the message and it had two numbers?"
   ]
  },
  {
   "cell_type": "code",
   "execution_count": 54,
   "metadata": {},
   "outputs": [],
   "source": [
    "message = 'Call me at 415-555-1011 tomorrow. 415-555-9992 is my office.'"
   ]
  },
  {
   "cell_type": "code",
   "execution_count": 55,
   "metadata": {},
   "outputs": [],
   "source": [
    "mo = phoneNumRegex.search(message)"
   ]
  },
  {
   "cell_type": "code",
   "execution_count": 56,
   "metadata": {},
   "outputs": [
    {
     "data": {
      "text/plain": [
       "<re.Match object; span=(11, 23), match='415-555-1011'>"
      ]
     },
     "execution_count": 56,
     "metadata": {},
     "output_type": "execute_result"
    }
   ],
   "source": [
    "mo"
   ]
  },
  {
   "cell_type": "markdown",
   "metadata": {},
   "source": [
    "- Import re module\n",
    "- Assign the pattern to a regex object via passing the regular expression string to 're.compile() function'\n",
    "- Use the regex object's .search() method and pass it the string you want to search\n",
    "- https://pythex.org/ for more information"
   ]
  },
  {
   "cell_type": "markdown",
   "metadata": {},
   "source": [
    "# More Pattern Matching with Regex\n",
    "### Grouping with Parentheses: Allows you to split matches into groups.\n",
    "\n",
    "Say you'd like to separate the area code from the rest of the phone number. Using parentheses can accomplish that. After that you can use the .group() match object method to grab the matching text from only one group.\n",
    "\n",
    "##### .groups(), .group() methods"
   ]
  },
  {
   "cell_type": "code",
   "execution_count": 62,
   "metadata": {},
   "outputs": [],
   "source": [
    "phoneNumRegex = re.compile(r'(\\d\\d\\d)-(\\d\\d\\d-\\d\\d\\d\\d)')"
   ]
  },
  {
   "cell_type": "code",
   "execution_count": 63,
   "metadata": {},
   "outputs": [],
   "source": [
    "# mo is short for 'match object'\n",
    "mo = phoneNumRegex.search(message)"
   ]
  },
  {
   "cell_type": "code",
   "execution_count": 65,
   "metadata": {},
   "outputs": [
    {
     "data": {
      "text/plain": [
       "('415', '555-1011', ('415', '555-1011'))"
      ]
     },
     "execution_count": 65,
     "metadata": {},
     "output_type": "execute_result"
    }
   ],
   "source": [
    "mo.group(1), mo.group(2), mo.groups()"
   ]
  },
  {
   "cell_type": "code",
   "execution_count": 70,
   "metadata": {},
   "outputs": [],
   "source": [
    "areaCode, mainNum = mo.groups()"
   ]
  },
  {
   "cell_type": "code",
   "execution_count": 71,
   "metadata": {},
   "outputs": [
    {
     "data": {
      "text/plain": [
       "('415', '555-1011')"
      ]
     },
     "execution_count": 71,
     "metadata": {},
     "output_type": "execute_result"
    }
   ],
   "source": [
    "areaCode, mainNum"
   ]
  },
  {
   "cell_type": "markdown",
   "metadata": {},
   "source": [
    "Since mo.groups() returns a tuple of multiple values, you can use the\n",
    "multiple-assignment trick to assign each value to a separate variable, as in\n",
    "the previous areaCode, mainNumber = mo.groups() line.\n",
    "\n",
    "### What do you do when you want ( ) in your regex? Use the \\ escape char."
   ]
  },
  {
   "cell_type": "code",
   "execution_count": 88,
   "metadata": {},
   "outputs": [],
   "source": [
    "phoneNumRegex = re.compile(r'(\\(\\d\\d\\d\\)) (\\d\\d\\d-\\d\\d\\d\\d)')"
   ]
  },
  {
   "cell_type": "code",
   "execution_count": 91,
   "metadata": {},
   "outputs": [],
   "source": [
    "mo= phoneNumRegex.search('My phone number is (415) 555-4242.')"
   ]
  },
  {
   "cell_type": "code",
   "execution_count": 92,
   "metadata": {},
   "outputs": [
    {
     "data": {
      "text/plain": [
       "<re.Match object; span=(19, 33), match='(415) 555-4242'>"
      ]
     },
     "execution_count": 92,
     "metadata": {},
     "output_type": "execute_result"
    }
   ],
   "source": [
    "mo"
   ]
  },
  {
   "cell_type": "markdown",
   "metadata": {},
   "source": [
    "###  ^ $ * + ? { } [ ] \\ | ( )\n",
    "These are all special characters in regular expressions and require an escape character to be included in your regex"
   ]
  },
  {
   "cell_type": "markdown",
   "metadata": {},
   "source": [
    "# Matching Multiple Groups with the Pipe |\n",
    "- | Is callled a 'pipe'. Use it where you would like to match one of many expressions. r'Spiderman|Captain Marvel' will match either 'Spiderman' or 'Captain Marvel'. If both appear then only the first occurence will appear in the .group() method."
   ]
  },
  {
   "cell_type": "code",
   "execution_count": 98,
   "metadata": {},
   "outputs": [
    {
     "data": {
      "text/plain": [
       "'Batman'"
      ]
     },
     "execution_count": 98,
     "metadata": {},
     "output_type": "execute_result"
    }
   ],
   "source": [
    "heroRegex = re.compile (r'Batman|Tina Fey')\n",
    "mo1 = heroRegex.search('Batman and Tina Fey')\n",
    "mo1.group()"
   ]
  },
  {
   "cell_type": "code",
   "execution_count": 99,
   "metadata": {},
   "outputs": [
    {
     "data": {
      "text/plain": [
       "'Tina Fey'"
      ]
     },
     "execution_count": 99,
     "metadata": {},
     "output_type": "execute_result"
    }
   ],
   "source": [
    ">>> mo2 = heroRegex.search('Tina Fey and Batman')\n",
    ">>> mo2.group()"
   ]
  },
  {
   "cell_type": "code",
   "execution_count": 101,
   "metadata": {},
   "outputs": [
    {
     "data": {
      "text/plain": [
       "('Batmobile', 'mobile')"
      ]
     },
     "execution_count": 101,
     "metadata": {},
     "output_type": "execute_result"
    }
   ],
   "source": [
    ">>> batRegex = re.compile(r'Bat(man|mobile|copter|bat)')\n",
    ">>> mo = batRegex.search('Batmobile lost a wheel')\n",
    ">>> mo.group(), mo.group(1)"
   ]
  },
  {
   "cell_type": "markdown",
   "metadata": {},
   "source": [
    "# Optional Matching with the Question Mark ?\n",
    "- The ? is for those cases where you would like to match something optionally, but find a match regardless if that optional expression is there. \n",
    "- The ? character flags the group which PRECEDES it as an optional part of the pattern\n",
    "- You can chain these as well, as you can see in line 'mo3.group()'"
   ]
  },
  {
   "cell_type": "code",
   "execution_count": 106,
   "metadata": {},
   "outputs": [
    {
     "data": {
      "text/plain": [
       "'Batman'"
      ]
     },
     "execution_count": 106,
     "metadata": {},
     "output_type": "execute_result"
    }
   ],
   "source": [
    ">>> batRegex = re.compile(r'Bat(wo)?(vo)?man')\n",
    ">>> mo1 = batRegex.search('The Adventures of Batman')\n",
    ">>> mo1.group()"
   ]
  },
  {
   "cell_type": "code",
   "execution_count": 107,
   "metadata": {},
   "outputs": [
    {
     "data": {
      "text/plain": [
       "'Batwoman'"
      ]
     },
     "execution_count": 107,
     "metadata": {},
     "output_type": "execute_result"
    }
   ],
   "source": [
    ">>> mo2 = batRegex.search('The Adventures of Batwoman')\n",
    ">>> mo2.group()"
   ]
  },
  {
   "cell_type": "code",
   "execution_count": 108,
   "metadata": {},
   "outputs": [
    {
     "data": {
      "text/plain": [
       "'Batvoman'"
      ]
     },
     "execution_count": 108,
     "metadata": {},
     "output_type": "execute_result"
    }
   ],
   "source": [
    ">>> mo3 = batRegex.search('The Adventures of Batvoman')\n",
    ">>> mo3.group()"
   ]
  },
  {
   "cell_type": "markdown",
   "metadata": {},
   "source": [
    "# Matching Zero or More with the Star *\n",
    "- The * is asterisk or star means 'match zero or more'. The group which PRECEDES the * character can occur any number of times in the string, completely absent, or repeated multiple times."
   ]
  },
  {
   "cell_type": "code",
   "execution_count": 111,
   "metadata": {},
   "outputs": [
    {
     "data": {
      "text/plain": [
       "'Batman'"
      ]
     },
     "execution_count": 111,
     "metadata": {},
     "output_type": "execute_result"
    }
   ],
   "source": [
    ">>> batRegex = re.compile(r'Bat(wo)*man')\n",
    ">>> mo1 = batRegex.search('The Adventures of Batman')\n",
    ">>> mo1.group()\n",
    "# Zero instances"
   ]
  },
  {
   "cell_type": "code",
   "execution_count": 112,
   "metadata": {},
   "outputs": [
    {
     "data": {
      "text/plain": [
       "'Batwoman'"
      ]
     },
     "execution_count": 112,
     "metadata": {},
     "output_type": "execute_result"
    }
   ],
   "source": [
    ">>> mo2 = batRegex.search('The Adventures of Batwoman')\n",
    ">>> mo2.group()\n",
    "# One instance"
   ]
  },
  {
   "cell_type": "code",
   "execution_count": 114,
   "metadata": {},
   "outputs": [
    {
     "data": {
      "text/plain": [
       "'Batwowowowoman'"
      ]
     },
     "execution_count": 114,
     "metadata": {},
     "output_type": "execute_result"
    }
   ],
   "source": [
    ">>> mo3 = batRegex.search('The Adventures of Batwowowowoman')\n",
    ">>> mo3.group()\n",
    "# Four instances"
   ]
  },
  {
   "cell_type": "markdown",
   "metadata": {},
   "source": [
    "# Matching One or More with the Plus +\n",
    "- The + means 'one or more'. Unlike the star, at least one occurence has to happen in order for the match to be found. It is NOT optional."
   ]
  },
  {
   "cell_type": "code",
   "execution_count": 115,
   "metadata": {},
   "outputs": [
    {
     "data": {
      "text/plain": [
       "'Batwoman'"
      ]
     },
     "execution_count": 115,
     "metadata": {},
     "output_type": "execute_result"
    }
   ],
   "source": [
    ">>> batRegex = re.compile(r'Bat(wo)+man')\n",
    ">>> mo1 = batRegex.search('The Adventures of Batwoman')\n",
    ">>> mo1.group()"
   ]
  },
  {
   "cell_type": "code",
   "execution_count": 116,
   "metadata": {},
   "outputs": [
    {
     "data": {
      "text/plain": [
       "'Batwowowowoman'"
      ]
     },
     "execution_count": 116,
     "metadata": {},
     "output_type": "execute_result"
    }
   ],
   "source": [
    ">>> mo2 = batRegex.search('The Adventures of Batwowowowoman')\n",
    ">>> mo2.group()"
   ]
  },
  {
   "cell_type": "code",
   "execution_count": 119,
   "metadata": {},
   "outputs": [
    {
     "data": {
      "text/plain": [
       "True"
      ]
     },
     "execution_count": 119,
     "metadata": {},
     "output_type": "execute_result"
    }
   ],
   "source": [
    ">>> mo3 = batRegex.search('The Adventures of Batman')\n",
    ">>> mo3 == None"
   ]
  },
  {
   "cell_type": "markdown",
   "metadata": {},
   "source": [
    "# Matching Specific Repetitions with Braces\n",
    "- When you have a group that you'd like to repeat a specific number of times you can follow the group in your reger with a number or 'range' in braces {}. i.e. {3} = 3x; or i.e. {2,5} = 2x to 5x (inclusive)"
   ]
  },
  {
   "cell_type": "code",
   "execution_count": 134,
   "metadata": {},
   "outputs": [
    {
     "data": {
      "text/plain": [
       "'HaHaHa'"
      ]
     },
     "execution_count": 134,
     "metadata": {},
     "output_type": "execute_result"
    }
   ],
   "source": [
    ">>> hahaRegex = re.compile(r'(Ha){1,3}')\n",
    ">>> mo1 = hahaRegex.search('HaHaHaHaHaHa')\n",
    ">>> mo1.group()"
   ]
  },
  {
   "cell_type": "markdown",
   "metadata": {},
   "source": [
    "# Greedy or Non-Greedy Matching\n",
    "- By default matching specific repititions with braces will return the highest number of matches in the range. This is called 'greedy'. The other alternative is called 'non-greedy' or in other words 'lazy'. You can specify you would like the lazy version via a '?' after the braces. "
   ]
  },
  {
   "cell_type": "code",
   "execution_count": 137,
   "metadata": {},
   "outputs": [
    {
     "data": {
      "text/plain": [
       "'Ha'"
      ]
     },
     "execution_count": 137,
     "metadata": {},
     "output_type": "execute_result"
    }
   ],
   "source": [
    "# See the difference from the above, only 1 is matched even though the range is up to 3x.\n",
    ">>> hahaRegex = re.compile(r'(Ha){1,3}?')\n",
    ">>> mo1 = hahaRegex.search('HaHaHaHaHaHa')\n",
    ">>> mo1.group()"
   ]
  },
  {
   "cell_type": "markdown",
   "metadata": {},
   "source": [
    "# findall() method\n",
    "- Regex objects also have a .findall() method which will not return a \"match\" object, but a list of strings. This will only work if there are no groups. If there ARE GROUPS, then the .findall() method will return a list of tuples."
   ]
  },
  {
   "cell_type": "code",
   "execution_count": 143,
   "metadata": {},
   "outputs": [
    {
     "data": {
      "text/plain": [
       "['415-555-9999', '212-555-0000']"
      ]
     },
     "execution_count": 143,
     "metadata": {},
     "output_type": "execute_result"
    }
   ],
   "source": [
    "# List of strings\n",
    ">>> phoneNumRegex = re.compile(r'\\d\\d\\d-\\d\\d\\d-\\d\\d\\d\\d') # has no groups\n",
    ">>> phoneNumRegex.findall('Cell: 415-555-9999 Work: 212-555-0000')"
   ]
  },
  {
   "cell_type": "code",
   "execution_count": 144,
   "metadata": {},
   "outputs": [
    {
     "data": {
      "text/plain": [
       "[('415', '555', '9999'), ('212', '555', '0000')]"
      ]
     },
     "execution_count": 144,
     "metadata": {},
     "output_type": "execute_result"
    }
   ],
   "source": [
    "# List of tuples .findall()\n",
    ">>> phoneNumRegex = re.compile(r'(\\d\\d\\d)-(\\d\\d\\d)-(\\d\\d\\d\\d)') # has groups\n",
    ">>> phoneNumRegex.findall('Cell: 415-555-9999 Work: 212-555-0000')"
   ]
  },
  {
   "cell_type": "markdown",
   "metadata": {},
   "source": [
    "# Character Classes\n",
    "- \\d is actually just shorthand for (0|1|2|3|4|5|6|7|8|9). There are other 'character classes like this' \n",
    "\n",
    "| Shorthand character class | Represents |\n",
    "| ----------- | ----------- |\n",
    "| \\d      | Any numeric digit from 0 to 9       |\n",
    "| \\D   | Any character that is not a numeric digit from 0 to 9.        |\n",
    "| \\w   | Any letter, numeric digit, or the underscore character. (Think of this as matching “word” characters.)        |\n",
    "| \\W  | Any character that is not a letter, numeric digit, or the underscore character.        |\n",
    "| \\s   | Any space, tab, or newline character. (Think of this as matching “space” characters.)        |\n",
    "| \\S   | Any character that is not a space, tabl, or newline        |"
   ]
  },
  {
   "cell_type": "code",
   "execution_count": 150,
   "metadata": {},
   "outputs": [
    {
     "data": {
      "text/plain": [
       "['12 drummers',\n",
       " '11 pipers',\n",
       " '10 lords',\n",
       " '9 ladies',\n",
       " '8 maids',\n",
       " '7 swans',\n",
       " '6 geese',\n",
       " '5 rings',\n",
       " '4 birds',\n",
       " '3 hens',\n",
       " '2 doves',\n",
       " '1 partridge']"
      ]
     },
     "execution_count": 150,
     "metadata": {},
     "output_type": "execute_result"
    }
   ],
   "source": [
    ">>> xmasRegex = re.compile(r'\\d+\\s\\w+')\n",
    ">>> xmasRegex.findall('12 drummers, 11 pipers, 10 lords, 9 ladies, 8 maids, 7 swans, 6 geese, 5 rings, 4 birds, 3 hens, 2 doves, 1 partridge')"
   ]
  },
  {
   "cell_type": "markdown",
   "metadata": {},
   "source": [
    "# Making Your Own Character Classes w/ [ ]\n",
    "- Use square brackets to define it\n",
    "- For example, the character class [a-zA-Z0-9] will match all lowercase letters, uppercase letters, and numbers."
   ]
  },
  {
   "cell_type": "code",
   "execution_count": 151,
   "metadata": {},
   "outputs": [
    {
     "data": {
      "text/plain": [
       "['o', 'o', 'o', 'e', 'a', 'a', 'o', 'o', 'A', 'O', 'O']"
      ]
     },
     "execution_count": 151,
     "metadata": {},
     "output_type": "execute_result"
    }
   ],
   "source": [
    ">>> vowelRegex = re.compile(r'[aeiouAEIOU]')\n",
    ">>> vowelRegex.findall('RoboCop eats baby food. BABY FOOD.')"
   ]
  },
  {
   "cell_type": "markdown",
   "metadata": {},
   "source": [
    "# Negative Character Class with ^\n",
    "- If you want everything except which is in the character class, use a ^ before it"
   ]
  },
  {
   "cell_type": "code",
   "execution_count": 152,
   "metadata": {},
   "outputs": [
    {
     "data": {
      "text/plain": [
       "['R',\n",
       " 'b',\n",
       " 'C',\n",
       " 'p',\n",
       " ' ',\n",
       " 't',\n",
       " 's',\n",
       " ' ',\n",
       " 'b',\n",
       " 'b',\n",
       " 'y',\n",
       " ' ',\n",
       " 'f',\n",
       " 'd',\n",
       " '.',\n",
       " ' ',\n",
       " 'B',\n",
       " 'B',\n",
       " 'Y',\n",
       " ' ',\n",
       " 'F',\n",
       " 'D',\n",
       " '.']"
      ]
     },
     "execution_count": 152,
     "metadata": {},
     "output_type": "execute_result"
    }
   ],
   "source": [
    ">>> consonantRegex = re.compile(r'[^aeiouAEIOU]')\n",
    ">>> consonantRegex.findall('RoboCop eats baby food. BABY FOOD.')"
   ]
  },
  {
   "cell_type": "markdown",
   "metadata": {},
   "source": [
    "# Alternative Use for Caret and the Dollar Sign Character\n",
    "- Use the ^ at the beginning of a regex to indicate that a match must occur at the beginnning of the searched text. Likewise you can use a % at the end of the regex to indicate the string must end with this regex pattern."
   ]
  },
  {
   "cell_type": "code",
   "execution_count": 154,
   "metadata": {},
   "outputs": [
    {
     "data": {
      "text/plain": [
       "<re.Match object; span=(0, 10), match='1234567890'>"
      ]
     },
     "execution_count": 154,
     "metadata": {},
     "output_type": "execute_result"
    }
   ],
   "source": [
    ">>> wholeStringIsNum = re.compile(r'^\\d+$')\n",
    ">>> wholeStringIsNum.search('1234567890')"
   ]
  },
  {
   "cell_type": "code",
   "execution_count": 156,
   "metadata": {},
   "outputs": [
    {
     "data": {
      "text/plain": [
       "True"
      ]
     },
     "execution_count": 156,
     "metadata": {},
     "output_type": "execute_result"
    }
   ],
   "source": [
    "\n",
    ">>> wholeStringIsNum.search('12345xyz67890') == None"
   ]
  },
  {
   "cell_type": "code",
   "execution_count": 157,
   "metadata": {},
   "outputs": [
    {
     "data": {
      "text/plain": [
       "True"
      ]
     },
     "execution_count": 157,
     "metadata": {},
     "output_type": "execute_result"
    }
   ],
   "source": [
    ">>> wholeStringIsNum.search('12 34567890') == None"
   ]
  },
  {
   "cell_type": "markdown",
   "metadata": {},
   "source": [
    "# Wildcard Character .\n",
    "- The . is a wildcard character and wil lmatch any character except for a newline."
   ]
  },
  {
   "cell_type": "code",
   "execution_count": 165,
   "metadata": {},
   "outputs": [
    {
     "data": {
      "text/plain": [
       "['cat', 'hat', 'sat', 'lat', 'mat']"
      ]
     },
     "execution_count": 165,
     "metadata": {},
     "output_type": "execute_result"
    }
   ],
   "source": [
    ">>> atRegex = re.compile(r'.at')\n",
    ">>> atRegex.findall('The cat in the hat sat on the flat mat.')"
   ]
  },
  {
   "cell_type": "markdown",
   "metadata": {},
   "source": [
    "### Match everything with .*"
   ]
  },
  {
   "cell_type": "code",
   "execution_count": 167,
   "metadata": {},
   "outputs": [
    {
     "data": {
      "text/plain": [
       "('Al', 'Sweigart')"
      ]
     },
     "execution_count": 167,
     "metadata": {},
     "output_type": "execute_result"
    }
   ],
   "source": [
    ">>> nameRegex = re.compile(r'First Name: (.*) Last Name: (.*)')\n",
    ">>> mo = nameRegex.search('First Name: Al Last Name: Sweigart')\n",
    ">>> mo.group(1), mo.group(2)"
   ]
  },
  {
   "cell_type": "code",
   "execution_count": 168,
   "metadata": {},
   "outputs": [
    {
     "data": {
      "text/plain": [
       "'<To serve man>'"
      ]
     },
     "execution_count": 168,
     "metadata": {},
     "output_type": "execute_result"
    }
   ],
   "source": [
    "# Nongreedy\n",
    ">>> nongreedyRegex = re.compile(r'<.*?>')\n",
    ">>> mo = nongreedyRegex.search('<To serve man> for dinner.>')\n",
    ">>> mo.group()"
   ]
  },
  {
   "cell_type": "code",
   "execution_count": 170,
   "metadata": {},
   "outputs": [
    {
     "data": {
      "text/plain": [
       "'<To serve man> for dinner.>'"
      ]
     },
     "execution_count": 170,
     "metadata": {},
     "output_type": "execute_result"
    }
   ],
   "source": [
    "# greedy\n",
    ">>> greedyRegex = re.compile(r'<.*>')\n",
    ">>> mo = greedyRegex.search('<To serve man> for dinner.>')\n",
    ">>> mo.group()"
   ]
  },
  {
   "cell_type": "markdown",
   "metadata": {},
   "source": [
    "# Matching Newlines with the Dot Character\n",
    "- The dot-star will match everything except a newline. By passing re.DOTALL as the second argument you can make the dot character match 'all' characters including the \\n"
   ]
  },
  {
   "cell_type": "code",
   "execution_count": 172,
   "metadata": {},
   "outputs": [
    {
     "data": {
      "text/plain": [
       "'Serve the public trust.'"
      ]
     },
     "execution_count": 172,
     "metadata": {},
     "output_type": "execute_result"
    }
   ],
   "source": [
    ">>> noNewlineRegex = re.compile('.*')\n",
    ">>> noNewlineRegex.search('Serve the public trust.\\nProtect the innocent.\\nUphold the law.').group()"
   ]
  },
  {
   "cell_type": "code",
   "execution_count": 173,
   "metadata": {},
   "outputs": [
    {
     "data": {
      "text/plain": [
       "'Serve the public trust.\\nProtect the innocent.\\nUphold the law.'"
      ]
     },
     "execution_count": 173,
     "metadata": {},
     "output_type": "execute_result"
    }
   ],
   "source": [
    ">>> newlineRegex = re.compile('.*', re.DOTALL)\n",
    ">>> newlineRegex.search('Serve the public trust.\\nProtect the innocent.\\nUphold the law.').group()"
   ]
  },
  {
   "cell_type": "code",
   "execution_count": null,
   "metadata": {},
   "outputs": [],
   "source": []
  }
 ],
 "metadata": {
  "kernelspec": {
   "display_name": "Python 3",
   "language": "python",
   "name": "python3"
  },
  "language_info": {
   "codemirror_mode": {
    "name": "ipython",
    "version": 3
   },
   "file_extension": ".py",
   "mimetype": "text/x-python",
   "name": "python",
   "nbconvert_exporter": "python",
   "pygments_lexer": "ipython3",
   "version": "3.8.5"
  }
 },
 "nbformat": 4,
 "nbformat_minor": 4
}
